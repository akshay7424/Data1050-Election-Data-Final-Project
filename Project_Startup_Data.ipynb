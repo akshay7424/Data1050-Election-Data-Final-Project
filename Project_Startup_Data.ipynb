{
 "cells": [
  {
   "cell_type": "markdown",
   "metadata": {},
   "source": [
    "## Load Data"
   ]
  },
  {
   "cell_type": "code",
   "execution_count": 5,
   "metadata": {},
   "outputs": [],
   "source": [
    "import pandas as pd\n",
    "import numpy as np\n",
    "import matplotlib\n",
    "from matplotlib import pylab as plt\n",
    "import sklearn\n",
    "from sklearn.model_selection import train_test_split, KFold\n",
    "from sklearn.preprocessing import OneHotEncoder, MinMaxScaler, StandardScaler\n",
    "from sklearn.compose import ColumnTransformer\n",
    "from sklearn.pipeline import Pipeline\n",
    "from sklearn.svm import SVC\n",
    "from sklearn.model_selection import KFold\n",
    "from sklearn.model_selection import GridSearchCV\n",
    "from sklearn.metrics import make_scorer, accuracy_score\n",
    "from sklearn.experimental import enable_iterative_imputer\n",
    "from sklearn.impute import SimpleImputer, IterativeImputer\n",
    "from sklearn.ensemble import RandomForestClassifier\n",
    "from sklearn.neighbors import KNeighborsRegressor, KNeighborsClassifier\n",
    "import datetime\n",
    "from sklearn.preprocessing import LabelEncoder\n",
    "from sklearn.linear_model import LogisticRegression\n",
    "from sklearn.inspection import permutation_importance\n",
    "import xgboost\n",
    "import shap\n",
    "import pickle"
   ]
  },
  {
   "cell_type": "code",
   "execution_count": 6,
   "metadata": {
    "scrolled": true
   },
   "outputs": [],
   "source": [
    "#load data and replace nulls\n",
    "df = pd.read_csv('Startup Data.csv')\n",
    "df = df.replace('NaN', np.nan) \n",
    "\n",
    "#row 124 and 832 are repeats of the same data point\n",
    "df.iloc[124] == df.iloc[832]\n",
    "df = df.drop(832)"
   ]
  },
  {
   "cell_type": "code",
   "execution_count": 7,
   "metadata": {
    "scrolled": true
   },
   "outputs": [
    {
     "name": "stdout",
     "output_type": "stream",
     "text": [
      "True\n",
      "True\n",
      "True\n",
      "True\n",
      "True     921\n",
      "False      1\n",
      "dtype: int64\n"
     ]
    }
   ],
   "source": [
    "#check for unique id columns that can be ignored\n",
    "print(df['Unnamed: 0'].value_counts().shape == df['Unnamed: 0'].shape)\n",
    "print(df['id'].value_counts().shape == df['id'].shape)\n",
    "print(df['name'].value_counts().shape == df['name'].shape)\n",
    "print(df['object_id'].value_counts().shape == df['object_id'].shape)\n",
    "\n",
    "#state code is repeated twice with one mismatched state name\n",
    "print((df['state_code.1'] == df['state_code']).value_counts())\n",
    "\n",
    "del df['Unnamed: 0']\n",
    "del df['id']\n",
    "del df['name']\n",
    "del df['object_id']\n",
    "del df['state_code.1']\n",
    "del df['labels']"
   ]
  },
  {
   "cell_type": "code",
   "execution_count": 8,
   "metadata": {
    "scrolled": true
   },
   "outputs": [
    {
     "data": {
      "text/html": [
       "<div>\n",
       "<style scoped>\n",
       "    .dataframe tbody tr th:only-of-type {\n",
       "        vertical-align: middle;\n",
       "    }\n",
       "\n",
       "    .dataframe tbody tr th {\n",
       "        vertical-align: top;\n",
       "    }\n",
       "\n",
       "    .dataframe thead th {\n",
       "        text-align: right;\n",
       "    }\n",
       "</style>\n",
       "<table border=\"1\" class=\"dataframe\">\n",
       "  <thead>\n",
       "    <tr style=\"text-align: right;\">\n",
       "      <th></th>\n",
       "      <th>state_code</th>\n",
       "      <th>latitude</th>\n",
       "      <th>longitude</th>\n",
       "      <th>zip_code</th>\n",
       "      <th>city</th>\n",
       "      <th>Unnamed: 6</th>\n",
       "      <th>founded_at</th>\n",
       "      <th>closed_at</th>\n",
       "      <th>first_funding_at</th>\n",
       "      <th>last_funding_at</th>\n",
       "      <th>...</th>\n",
       "      <th>is_othercategory</th>\n",
       "      <th>has_VC</th>\n",
       "      <th>has_angel</th>\n",
       "      <th>has_roundA</th>\n",
       "      <th>has_roundB</th>\n",
       "      <th>has_roundC</th>\n",
       "      <th>has_roundD</th>\n",
       "      <th>avg_participants</th>\n",
       "      <th>is_top500</th>\n",
       "      <th>status</th>\n",
       "    </tr>\n",
       "  </thead>\n",
       "  <tbody>\n",
       "    <tr>\n",
       "      <th>0</th>\n",
       "      <td>CA</td>\n",
       "      <td>42.358880</td>\n",
       "      <td>-71.056820</td>\n",
       "      <td>92101</td>\n",
       "      <td>San Diego</td>\n",
       "      <td>NaN</td>\n",
       "      <td>1/1/2007</td>\n",
       "      <td>NaN</td>\n",
       "      <td>4/1/2009</td>\n",
       "      <td>1/1/2010</td>\n",
       "      <td>...</td>\n",
       "      <td>1</td>\n",
       "      <td>0</td>\n",
       "      <td>1</td>\n",
       "      <td>0</td>\n",
       "      <td>0</td>\n",
       "      <td>0</td>\n",
       "      <td>0</td>\n",
       "      <td>1.0000</td>\n",
       "      <td>0</td>\n",
       "      <td>acquired</td>\n",
       "    </tr>\n",
       "    <tr>\n",
       "      <th>1</th>\n",
       "      <td>CA</td>\n",
       "      <td>37.238916</td>\n",
       "      <td>-121.973718</td>\n",
       "      <td>95032</td>\n",
       "      <td>Los Gatos</td>\n",
       "      <td>NaN</td>\n",
       "      <td>1/1/2000</td>\n",
       "      <td>NaN</td>\n",
       "      <td>2/14/2005</td>\n",
       "      <td>12/28/2009</td>\n",
       "      <td>...</td>\n",
       "      <td>0</td>\n",
       "      <td>1</td>\n",
       "      <td>0</td>\n",
       "      <td>0</td>\n",
       "      <td>1</td>\n",
       "      <td>1</td>\n",
       "      <td>1</td>\n",
       "      <td>4.7500</td>\n",
       "      <td>1</td>\n",
       "      <td>acquired</td>\n",
       "    </tr>\n",
       "    <tr>\n",
       "      <th>2</th>\n",
       "      <td>CA</td>\n",
       "      <td>32.901049</td>\n",
       "      <td>-117.192656</td>\n",
       "      <td>92121</td>\n",
       "      <td>San Diego</td>\n",
       "      <td>San Diego CA 92121</td>\n",
       "      <td>3/18/2009</td>\n",
       "      <td>NaN</td>\n",
       "      <td>3/30/2010</td>\n",
       "      <td>3/30/2010</td>\n",
       "      <td>...</td>\n",
       "      <td>0</td>\n",
       "      <td>0</td>\n",
       "      <td>0</td>\n",
       "      <td>1</td>\n",
       "      <td>0</td>\n",
       "      <td>0</td>\n",
       "      <td>0</td>\n",
       "      <td>4.0000</td>\n",
       "      <td>1</td>\n",
       "      <td>acquired</td>\n",
       "    </tr>\n",
       "    <tr>\n",
       "      <th>3</th>\n",
       "      <td>CA</td>\n",
       "      <td>37.320309</td>\n",
       "      <td>-122.050040</td>\n",
       "      <td>95014</td>\n",
       "      <td>Cupertino</td>\n",
       "      <td>Cupertino CA 95014</td>\n",
       "      <td>1/1/2002</td>\n",
       "      <td>NaN</td>\n",
       "      <td>2/17/2005</td>\n",
       "      <td>4/25/2007</td>\n",
       "      <td>...</td>\n",
       "      <td>0</td>\n",
       "      <td>0</td>\n",
       "      <td>0</td>\n",
       "      <td>0</td>\n",
       "      <td>1</td>\n",
       "      <td>1</td>\n",
       "      <td>1</td>\n",
       "      <td>3.3333</td>\n",
       "      <td>1</td>\n",
       "      <td>acquired</td>\n",
       "    </tr>\n",
       "    <tr>\n",
       "      <th>4</th>\n",
       "      <td>CA</td>\n",
       "      <td>37.779281</td>\n",
       "      <td>-122.419236</td>\n",
       "      <td>94105</td>\n",
       "      <td>San Francisco</td>\n",
       "      <td>San Francisco CA 94105</td>\n",
       "      <td>8/1/2010</td>\n",
       "      <td>10/1/2012</td>\n",
       "      <td>8/1/2010</td>\n",
       "      <td>4/1/2012</td>\n",
       "      <td>...</td>\n",
       "      <td>0</td>\n",
       "      <td>1</td>\n",
       "      <td>1</td>\n",
       "      <td>0</td>\n",
       "      <td>0</td>\n",
       "      <td>0</td>\n",
       "      <td>0</td>\n",
       "      <td>1.0000</td>\n",
       "      <td>1</td>\n",
       "      <td>closed</td>\n",
       "    </tr>\n",
       "  </tbody>\n",
       "</table>\n",
       "<p>5 rows × 43 columns</p>\n",
       "</div>"
      ],
      "text/plain": [
       "  state_code   latitude   longitude zip_code           city  \\\n",
       "0         CA  42.358880  -71.056820    92101      San Diego   \n",
       "1         CA  37.238916 -121.973718    95032      Los Gatos   \n",
       "2         CA  32.901049 -117.192656    92121      San Diego   \n",
       "3         CA  37.320309 -122.050040    95014      Cupertino   \n",
       "4         CA  37.779281 -122.419236    94105  San Francisco   \n",
       "\n",
       "               Unnamed: 6 founded_at  closed_at first_funding_at  \\\n",
       "0                     NaN   1/1/2007        NaN         4/1/2009   \n",
       "1                     NaN   1/1/2000        NaN        2/14/2005   \n",
       "2      San Diego CA 92121  3/18/2009        NaN        3/30/2010   \n",
       "3      Cupertino CA 95014   1/1/2002        NaN        2/17/2005   \n",
       "4  San Francisco CA 94105   8/1/2010  10/1/2012         8/1/2010   \n",
       "\n",
       "  last_funding_at  ...  is_othercategory  has_VC  has_angel  has_roundA  \\\n",
       "0        1/1/2010  ...                 1       0          1           0   \n",
       "1      12/28/2009  ...                 0       1          0           0   \n",
       "2       3/30/2010  ...                 0       0          0           1   \n",
       "3       4/25/2007  ...                 0       0          0           0   \n",
       "4        4/1/2012  ...                 0       1          1           0   \n",
       "\n",
       "   has_roundB  has_roundC  has_roundD  avg_participants  is_top500    status  \n",
       "0           0           0           0            1.0000          0  acquired  \n",
       "1           1           1           1            4.7500          1  acquired  \n",
       "2           0           0           0            4.0000          1  acquired  \n",
       "3           1           1           1            3.3333          1  acquired  \n",
       "4           0           0           0            1.0000          1    closed  \n",
       "\n",
       "[5 rows x 43 columns]"
      ]
     },
     "execution_count": 8,
     "metadata": {},
     "output_type": "execute_result"
    }
   ],
   "source": [
    "df.head()"
   ]
  },
  {
   "cell_type": "code",
   "execution_count": 9,
   "metadata": {},
   "outputs": [
    {
     "data": {
      "text/plain": [
       "(922, 43)"
      ]
     },
     "execution_count": 9,
     "metadata": {},
     "output_type": "execute_result"
    }
   ],
   "source": [
    "df.shape"
   ]
  },
  {
   "cell_type": "code",
   "execution_count": null,
   "metadata": {},
   "outputs": [],
   "source": []
  },
  {
   "cell_type": "code",
   "execution_count": null,
   "metadata": {},
   "outputs": [],
   "source": []
  },
  {
   "cell_type": "code",
   "execution_count": null,
   "metadata": {},
   "outputs": [],
   "source": []
  },
  {
   "cell_type": "code",
   "execution_count": null,
   "metadata": {},
   "outputs": [],
   "source": []
  },
  {
   "cell_type": "markdown",
   "metadata": {},
   "source": [
    "## EDA"
   ]
  },
  {
   "cell_type": "code",
   "execution_count": 10,
   "metadata": {
    "scrolled": true
   },
   "outputs": [
    {
     "ename": "NameError",
     "evalue": "name 'ss_ftrs' is not defined",
     "output_type": "error",
     "traceback": [
      "\u001b[0;31m---------------------------------------------------------------------------\u001b[0m",
      "\u001b[0;31mNameError\u001b[0m                                 Traceback (most recent call last)",
      "\u001b[0;32m<ipython-input-10-217b9aa1d4b5>\u001b[0m in \u001b[0;36m<module>\u001b[0;34m\u001b[0m\n\u001b[1;32m      2\u001b[0m \u001b[0mcolumns\u001b[0m \u001b[0;34m=\u001b[0m \u001b[0mdf\u001b[0m\u001b[0;34m.\u001b[0m\u001b[0mcolumns\u001b[0m\u001b[0;34m\u001b[0m\u001b[0;34m\u001b[0m\u001b[0m\n\u001b[1;32m      3\u001b[0m \u001b[0;32mfor\u001b[0m \u001b[0mcol\u001b[0m \u001b[0;32min\u001b[0m \u001b[0mcolumns\u001b[0m\u001b[0;34m:\u001b[0m\u001b[0;34m\u001b[0m\u001b[0;34m\u001b[0m\u001b[0m\n\u001b[0;32m----> 4\u001b[0;31m     \u001b[0;32mif\u001b[0m \u001b[0mcol\u001b[0m \u001b[0;32min\u001b[0m \u001b[0mss_ftrs\u001b[0m\u001b[0;34m:\u001b[0m\u001b[0;34m\u001b[0m\u001b[0;34m\u001b[0m\u001b[0m\n\u001b[0m\u001b[1;32m      5\u001b[0m         \u001b[0mprint\u001b[0m\u001b[0;34m(\u001b[0m\u001b[0mdf\u001b[0m\u001b[0;34m[\u001b[0m\u001b[0mcol\u001b[0m\u001b[0;34m]\u001b[0m\u001b[0;34m.\u001b[0m\u001b[0mdescribe\u001b[0m\u001b[0;34m(\u001b[0m\u001b[0;34m)\u001b[0m\u001b[0;34m)\u001b[0m\u001b[0;34m\u001b[0m\u001b[0;34m\u001b[0m\u001b[0m\n\u001b[1;32m      6\u001b[0m         \u001b[0mdf\u001b[0m\u001b[0;34m[\u001b[0m\u001b[0mcol\u001b[0m\u001b[0;34m]\u001b[0m\u001b[0;34m.\u001b[0m\u001b[0mplot\u001b[0m\u001b[0;34m.\u001b[0m\u001b[0mhist\u001b[0m\u001b[0;34m(\u001b[0m\u001b[0;34m)\u001b[0m\u001b[0;34m\u001b[0m\u001b[0;34m\u001b[0m\u001b[0m\n",
      "\u001b[0;31mNameError\u001b[0m: name 'ss_ftrs' is not defined"
     ]
    }
   ],
   "source": [
    "#histograms/bar charts of all features\n",
    "columns = df.columns\n",
    "for col in columns:\n",
    "    if col in ss_ftrs:\n",
    "        print(df[col].describe())\n",
    "        df[col].plot.hist()\n",
    "        plt.xlabel(col)\n",
    "        plt.ylabel('count')\n",
    "        plt.show()"
   ]
  },
  {
   "cell_type": "code",
   "execution_count": 11,
   "metadata": {},
   "outputs": [],
   "source": [
    "#bar plots"
   ]
  },
  {
   "cell_type": "code",
   "execution_count": 12,
   "metadata": {
    "scrolled": true
   },
   "outputs": [
    {
     "data": {
      "image/png": "[encoded data removed]",
      "text/plain": [
       "<Figure size 432x288 with 1 Axes>"
      ]
     },
     "metadata": {
      "needs_background": "light"
     },
     "output_type": "display_data"
    },
    {
     "data": {
      "image/png": "[encoded data removed]",
      "text/plain": [
       "<Figure size 432x288 with 1 Axes>"
      ]
     },
     "metadata": {
      "needs_background": "light"
     },
     "output_type": "display_data"
    }
   ],
   "source": [
    "#comparing how well california startups did relative to the rest of the country\n",
    "count_matrix = df.groupby(['is_CA', 'status']).size().unstack()\n",
    "count_matrix_norm = count_matrix.div(count_matrix.sum(axis=1),axis=0)\n",
    "count_matrix_norm.plot(kind='bar', stacked=True, color = ['k', 'grey'])\n",
    "plt.xlabel('Outside California (0), In California (1)')\n",
    "plt.ylabel('fraction of startups')\n",
    "plt.legend(loc=4)\n",
    "plt.show()\n",
    "\n",
    "count_matrix = df.groupby(['is_CA', 'has_VC']).size().unstack()\n",
    "count_matrix_norm = count_matrix.div(count_matrix.sum(axis=1),axis=0)\n",
    "count_matrix_norm.plot(kind='bar', stacked=True, color = ['k', 'grey'])\n",
    "plt.xlabel('In California')\n",
    "plt.ylabel('fraction with VC funding')\n",
    "plt.legend(loc=4)\n",
    "plt.show()"
   ]
  },
  {
   "cell_type": "code",
   "execution_count": 13,
   "metadata": {
    "scrolled": false
   },
   "outputs": [
    {
     "data": {
      "image/png": "[encoded data removed]",
      "text/plain": [
       "<Figure size 432x288 with 1 Axes>"
      ]
     },
     "metadata": {
      "needs_background": "light"
     },
     "output_type": "display_data"
    }
   ],
   "source": [
    "#histogram of the industries\n",
    "df['category_code'].value_counts().plot.bar(color = 'turquoise')\n",
    "plt.ylabel('number of companies')\n",
    "plt.show()"
   ]
  },
  {
   "cell_type": "code",
   "execution_count": 14,
   "metadata": {
    "scrolled": false
   },
   "outputs": [
    {
     "data": {
      "image/png": "[encoded data removed]",
      "text/plain": [
       "<Figure size 432x288 with 1 Axes>"
      ]
     },
     "metadata": {
      "needs_background": "light"
     },
     "output_type": "display_data"
    }
   ],
   "source": [
    "#plot showing industry type against total funding amount in usd\n",
    "df.groupby('category_code', as_index=True)['funding_total_usd'].mean().plot.bar(color = 'k')\n",
    "plt.ylabel('total funding')\n",
    "plt.show()"
   ]
  },
  {
   "cell_type": "code",
   "execution_count": 15,
   "metadata": {
    "scrolled": true
   },
   "outputs": [
    {
     "data": {
      "image/png": "[encoded data removed]",
      "text/plain": [
       "<Figure size 432x288 with 1 Axes>"
      ]
     },
     "metadata": {
      "needs_background": "light"
     },
     "output_type": "display_data"
    }
   ],
   "source": [
    "#comparing age of first funding year and age at first milestone shows a high concentration near (0,0)\n",
    "#this is likely due to many companies who do not recieve any funding\n",
    "#it is interesting to note the few outliers that were funded much later in their lives\n",
    "df.plot.scatter('age_first_funding_year', 'age_first_milestone_year', s=10, alpha=.1)\n",
    "plt.show()"
   ]
  },
  {
   "cell_type": "code",
   "execution_count": 16,
   "metadata": {
    "scrolled": true
   },
   "outputs": [
    {
     "data": {
      "image/png": "[encoded data removed]",
      "text/plain": [
       "<Figure size 432x288 with 1 Axes>"
      ]
     },
     "metadata": {
      "needs_background": "light"
     },
     "output_type": "display_data"
    }
   ],
   "source": [
    "#funding vs status\n",
    "count_matrix = df.groupby(['has_VC', 'status']).size().unstack()\n",
    "count_matrix_norm = count_matrix.div(count_matrix.sum(axis=1),axis=0)\n",
    "count_matrix_norm.plot(kind='bar', stacked=True, color = ['turquoise', 'lavender'])\n",
    "plt.ylabel('status of company')\n",
    "plt.xlabel('VC funding')\n",
    "plt.legend(loc=4)\n",
    "plt.show()"
   ]
  },
  {
   "cell_type": "code",
   "execution_count": 17,
   "metadata": {},
   "outputs": [
    {
     "data": {
      "text/html": [
       "<div>\n",
       "<style scoped>\n",
       "    .dataframe tbody tr th:only-of-type {\n",
       "        vertical-align: middle;\n",
       "    }\n",
       "\n",
       "    .dataframe tbody tr th {\n",
       "        vertical-align: top;\n",
       "    }\n",
       "\n",
       "    .dataframe thead th {\n",
       "        text-align: right;\n",
       "    }\n",
       "</style>\n",
       "<table border=\"1\" class=\"dataframe\">\n",
       "  <thead>\n",
       "    <tr style=\"text-align: right;\">\n",
       "      <th>status</th>\n",
       "      <th>acquired</th>\n",
       "      <th>closed</th>\n",
       "    </tr>\n",
       "    <tr>\n",
       "      <th>has_VC</th>\n",
       "      <th></th>\n",
       "      <th></th>\n",
       "    </tr>\n",
       "  </thead>\n",
       "  <tbody>\n",
       "    <tr>\n",
       "      <th>0</th>\n",
       "      <td>414</td>\n",
       "      <td>208</td>\n",
       "    </tr>\n",
       "    <tr>\n",
       "      <th>1</th>\n",
       "      <td>182</td>\n",
       "      <td>118</td>\n",
       "    </tr>\n",
       "  </tbody>\n",
       "</table>\n",
       "</div>"
      ],
      "text/plain": [
       "status  acquired  closed\n",
       "has_VC                  \n",
       "0            414     208\n",
       "1            182     118"
      ]
     },
     "execution_count": 17,
     "metadata": {},
     "output_type": "execute_result"
    }
   ],
   "source": [
    "df.groupby(['has_VC', 'status']).size().unstack()"
   ]
  },
  {
   "cell_type": "markdown",
   "metadata": {},
   "source": [
    "## Missing Data"
   ]
  },
  {
   "cell_type": "code",
   "execution_count": 18,
   "metadata": {},
   "outputs": [
    {
     "name": "stdout",
     "output_type": "stream",
     "text": [
      "fraction of missing values in features:\n",
      "Unnamed: 6                  0.533623\n",
      "closed_at                   0.636659\n",
      "age_first_milestone_year    0.164859\n",
      "age_last_milestone_year     0.164859\n",
      "dtype: float64\n",
      "data types of the features with missing values:\n",
      "Unnamed: 6                   object\n",
      "closed_at                    object\n",
      "age_first_milestone_year    float64\n",
      "age_last_milestone_year     float64\n",
      "dtype: object\n",
      "fraction of points with missing values: 0.8698481561822126\n"
     ]
    }
   ],
   "source": [
    "perc_missing_per_ftr = df.isnull().sum(axis=0)/df.shape[0]\n",
    "print('fraction of missing values in features:')\n",
    "print(perc_missing_per_ftr[perc_missing_per_ftr > 0])\n",
    "print('data types of the features with missing values:')\n",
    "print(df[perc_missing_per_ftr[perc_missing_per_ftr > 0].index].dtypes)\n",
    "frac_missing = sum(df.isnull().sum(axis=1)!=0)/df.shape[0]\n",
    "print('fraction of points with missing values:',frac_missing)"
   ]
  },
  {
   "cell_type": "code",
   "execution_count": 19,
   "metadata": {},
   "outputs": [],
   "source": [
    "#categorical missing values new category 'missing'\n",
    "df[\"closed_at\"] = df[\"closed_at\"].replace(np.nan, \"missing\")\n",
    "df[\"Unnamed: 6\"] = df[\"Unnamed: 6\"].replace(np.nan, \"missing\")"
   ]
  },
  {
   "cell_type": "code",
   "execution_count": 20,
   "metadata": {
    "scrolled": false
   },
   "outputs": [
    {
     "name": "stdout",
     "output_type": "stream",
     "text": [
      "   age_first_milestone_year  age_last_milestone_year\n",
      "0                    4.6685                   6.7041\n",
      "1                    7.0055                   7.0055\n",
      "2                    1.4575                   2.2055\n",
      "3                    6.0027                   6.0027\n",
      "4                    0.0384                   0.0384\n"
     ]
    }
   ],
   "source": [
    "#continuous missing values\n",
    "print(df[['age_first_milestone_year','age_last_milestone_year']].head())\n",
    "\n",
    "imputer = SimpleImputer(missing_values= np.nan, strategy='mean')\n",
    "\n",
    "df[['age_first_milestone_year','age_last_milestone_year']] = imputer.fit_transform(np.array(df[['age_first_milestone_year','age_last_milestone_year']]))"
   ]
  },
  {
   "cell_type": "code",
   "execution_count": 21,
   "metadata": {
    "scrolled": true
   },
   "outputs": [
    {
     "name": "stdout",
     "output_type": "stream",
     "text": [
      "fraction of missing values in features:\n",
      "Series([], dtype: float64)\n",
      "data types of the features with missing values:\n",
      "Series([], dtype: object)\n",
      "fraction of points with missing values: 0.0\n"
     ]
    }
   ],
   "source": [
    "perc_missing_per_ftr = df.isnull().sum(axis=0)/df.shape[0]\n",
    "print('fraction of missing values in features:')\n",
    "print(perc_missing_per_ftr[perc_missing_per_ftr > 0])\n",
    "print('data types of the features with missing values:')\n",
    "print(df[perc_missing_per_ftr[perc_missing_per_ftr > 0].index].dtypes)\n",
    "frac_missing = sum(df.isnull().sum(axis=1)!=0)/df.shape[0]\n",
    "print('fraction of points with missing values:',frac_missing)"
   ]
  },
  {
   "cell_type": "markdown",
   "metadata": {},
   "source": [
    "## Preprocessing"
   ]
  },
  {
   "cell_type": "code",
   "execution_count": 22,
   "metadata": {},
   "outputs": [],
   "source": [
    "#all remaining features split between categorical/continuous/dates to be transformed to continuous\n",
    "#categorical features split further between ordinal scaler and one hot encoder\n",
    "\n",
    "cat_ftrs = ['state_code', 'zip_code', 'city', 'Unnamed: 6', 'is_CA','is_NY','is_MA', \n",
    "        'is_TX', 'is_otherstate', 'category_code', 'is_software', 'is_web','is_mobile', \n",
    "        'is_enterprise','is_advertising', 'is_gamesvideo', 'is_ecommerce', 'is_biotech', \n",
    "        'is_consulting', 'is_othercategory', 'avg_participants', 'has_VC', 'has_angel', 'has_roundA', \n",
    "        'has_roundB', 'has_roundC', 'has_roundD','is_top500', 'milestones']\n",
    "\n",
    "ss_ftrs = ['latitude', 'longitude', 'age_first_funding_year', 'age_last_funding_year', \n",
    "            'age_first_milestone_year', 'age_last_milestone_year', 'relationships', \n",
    "            'funding_rounds', 'avg_participants', 'funding_total_usd']\n",
    "\n",
    "dates = ['founded_at', 'closed_at', 'first_funding_at', 'last_funding_at']\n"
   ]
  },
  {
   "cell_type": "code",
   "execution_count": 23,
   "metadata": {},
   "outputs": [],
   "source": [
    "#set X and y matrices\n",
    "y = df['status']\n",
    "X = df.loc[:, df.columns != 'status']"
   ]
  },
  {
   "cell_type": "code",
   "execution_count": 24,
   "metadata": {},
   "outputs": [
    {
     "name": "stderr",
     "output_type": "stream",
     "text": [
      "\n",
      "A value is trying to be set on a copy of a slice from a DataFrame\n",
      "\n",
      "See the caveats in the documentation: https://pandas.pydata.org/pandas-docs/stable/user_guide/indexing.html#returning-a-view-versus-a-copy\n",
      "\n",
      "A value is trying to be set on a copy of a slice from a DataFrame\n",
      "\n",
      "See the caveats in the documentation: https://pandas.pydata.org/pandas-docs/stable/user_guide/indexing.html#returning-a-view-versus-a-copy\n"
     ]
    }
   ],
   "source": [
    "#transform dates into continuous variables using epoch time\n",
    "for date_col in dates:\n",
    "    index = 0\n",
    "    for date_raw in X[date_col]:\n",
    "        if date_raw != 'missing':\n",
    "            date = (date_raw).split(\"/\")\n",
    "            date = [int(x) for x in date]\n",
    "            X[date_col].iloc[index] = datetime.datetime(date[2], date[0], date[1]).timestamp()\n",
    "        index += 1"
   ]
  },
  {
   "cell_type": "code",
   "execution_count": 25,
   "metadata": {},
   "outputs": [
    {
     "name": "stderr",
     "output_type": "stream",
     "text": [
      "\n",
      "A value is trying to be set on a copy of a slice from a DataFrame.\n",
      "Try using .loc[row_indexer,col_indexer] = value instead\n",
      "\n",
      "See the caveats in the documentation: https://pandas.pydata.org/pandas-docs/stable/user_guide/indexing.html#returning-a-view-versus-a-copy\n"
     ]
    }
   ],
   "source": [
    "X['closed_at'] = X['closed_at'].replace('missing', np.nan)"
   ]
  },
  {
   "cell_type": "code",
   "execution_count": 26,
   "metadata": {},
   "outputs": [
    {
     "name": "stderr",
     "output_type": "stream",
     "text": [
      "\n",
      "A value is trying to be set on a copy of a slice from a DataFrame.\n",
      "Try using .loc[row_indexer,col_indexer] = value instead\n",
      "\n",
      "See the caveats in the documentation: https://pandas.pydata.org/pandas-docs/stable/user_guide/indexing.html#returning-a-view-versus-a-copy\n",
      "\n",
      "A value is trying to be set on a copy of a slice from a DataFrame.\n",
      "Try using .loc[row_indexer,col_indexer] = value instead\n",
      "\n",
      "See the caveats in the documentation: https://pandas.pydata.org/pandas-docs/stable/user_guide/indexing.html#returning-a-view-versus-a-copy\n"
     ]
    }
   ],
   "source": [
    "imputer = SimpleImputer(missing_values= np.nan, strategy='mean')\n",
    "\n",
    "X[['closed_at']] = imputer.fit_transform(np.array(X[['closed_at']]))"
   ]
  },
  {
   "cell_type": "code",
   "execution_count": 27,
   "metadata": {},
   "outputs": [],
   "source": [
    "#one-hot encoder\n",
    "categorical_transformer = Pipeline(steps=[\n",
    "    ('imputer', SimpleImputer(strategy='constant',fill_value='missing')),\n",
    "    ('onehot', OneHotEncoder(sparse=False,handle_unknown='ignore'))])\n",
    "\n",
    "#standard scaler\n",
    "numeric_transformer = Pipeline(steps=[\n",
    "    ('scaler', StandardScaler())])\n",
    "\n",
    "#add dates to continuous features\n",
    "ss_ftrs.extend(dates)\n",
    "\n",
    "#group transformers\n",
    "preprocessor = ColumnTransformer(\n",
    "    transformers=[\n",
    "        ('num', numeric_transformer, ss_ftrs),\n",
    "        ('cat', categorical_transformer, cat_ftrs)])"
   ]
  },
  {
   "cell_type": "code",
   "execution_count": 28,
   "metadata": {},
   "outputs": [],
   "source": [
    "#data split\n",
    "random_state = 7\n",
    "\n",
    "#separate out training set\n",
    "X_train, X_other, y_train, y_other = train_test_split(X,y,train_size = 0.6,random_state=random_state)\n",
    "\n",
    "#split out validation and test sets\n",
    "X_val, X_test, y_val, y_test = train_test_split(X_other,y_other,train_size = 0.5,random_state=random_state)"
   ]
  },
  {
   "cell_type": "code",
   "execution_count": 29,
   "metadata": {
    "scrolled": true
   },
   "outputs": [
    {
     "name": "stdout",
     "output_type": "stream",
     "text": [
      "(553, 772)\n",
      "(184, 772)\n",
      "(185, 772)\n"
     ]
    }
   ],
   "source": [
    "le = LabelEncoder()\n",
    "y_train = le.fit_transform(y_train)\n",
    "y_test = le.transform(y_test)\n",
    "\n",
    "#feature_names = cat_ftrs\n",
    "#feature_names.extend(ss_ftrs)\n",
    "\n",
    "\n",
    "# fit_transform the training set\n",
    "X_train_prep = preprocessor.fit_transform(X_train)\n",
    "\n",
    "feature_names = preprocessor.transformers_[0][-1] + \\\n",
    "                list(preprocessor.named_transformers_['cat'][1].get_feature_names(cat_ftrs))\n",
    "\n",
    "df_train = pd.DataFrame(data=X_train_prep,columns=feature_names)\n",
    "print(X_train_prep.shape)\n",
    "\n",
    "# transform the CV\n",
    "X_val_prep = preprocessor.transform(X_val)\n",
    "df_val = pd.DataFrame(data=X_val_prep,columns = feature_names)\n",
    "print(X_val_prep.shape)\n",
    "\n",
    "# transform the test\n",
    "X_test_prep = preprocessor.transform(X_test)\n",
    "df_test = pd.DataFrame(data=X_test_prep,columns = feature_names)\n",
    "print(X_test_prep.shape)"
   ]
  },
  {
   "cell_type": "markdown",
   "metadata": {},
   "source": [
    "## Pipeline"
   ]
  },
  {
   "cell_type": "code",
   "execution_count": 30,
   "metadata": {},
   "outputs": [],
   "source": [
    "def ML_pipeline(X, y, preprocessor, ML_algo, param_grid):\n",
    "    test_scores = []\n",
    "    best_models = []\n",
    "    \n",
    "    for i in range(0,10):\n",
    "        # split data to other/test 80/20, and the use KFold with 4 folds\n",
    "        X_other, X_test, y_other, y_test = train_test_split(X, y, test_size=0.2, random_state = 7*i)\n",
    "        kf = KFold(n_splits=4,shuffle=True,random_state=7*i)\n",
    "        # preprocess the data\n",
    "        pipe = Pipeline(steps=[('preprocessor', preprocessor), ('regressor', ML_algo)])\n",
    "        #label encoder for target variable\n",
    "        le = LabelEncoder()\n",
    "        y_other = le.fit_transform(y_other)\n",
    "        y_test = le.transform(y_test)\n",
    "        # loop through the hyperparameter combinations or use GridSearchCV\n",
    "        grid = GridSearchCV(pipe, param_grid=param_grid,scoring = make_scorer(accuracy_score),\n",
    "                        cv=kf, return_train_score = True)\n",
    "        # for each combination, calculate the train and validation scores using the evaluation metric\n",
    "        grid.fit(X_other, y_other)\n",
    "        # find which hyperparameter combination gives the best validation score\n",
    "        best_combination = grid.best_params_\n",
    "        # calculate the test score\n",
    "        y_pred = grid.predict(X_test)\n",
    "        # append the test score and the best model to the lists\n",
    "        test_scores.append(accuracy_score(y_test, y_pred))\n",
    "        best_models.append(grid.best_estimator_)\n",
    "    return grid, best_models, test_scores"
   ]
  },
  {
   "cell_type": "markdown",
   "metadata": {},
   "source": [
    "## Models"
   ]
  },
  {
   "cell_type": "code",
   "execution_count": 31,
   "metadata": {},
   "outputs": [
    {
     "name": "stdout",
     "output_type": "stream",
     "text": [
      "baseline accuracy score:  0.6464208242950108\n"
     ]
    }
   ],
   "source": [
    "count1,count2=0,0\n",
    "for x in y:\n",
    "    if x == 'acquired':\n",
    "        count1+=1\n",
    "    else:\n",
    "        count2+=1\n",
    "baseline_accuracy = count1/(count1+count2)\n",
    "print(\"baseline accuracy score: \", baseline_accuracy)"
   ]
  },
  {
   "cell_type": "code",
   "execution_count": 32,
   "metadata": {
    "scrolled": true
   },
   "outputs": [
    {
     "name": "stdout",
     "output_type": "stream",
     "text": [
      "[0.8378378378378378, 0.827027027027027, 0.8702702702702703, 0.8324324324324325, 0.8162162162162162, 0.8216216216216217, 0.8648648648648649, 0.8864864864864865, 0.8648648648648649, 0.8432432432432433]\n",
      "\n",
      "SVC: mean - 0.8464864864864865 , standard deviation - 0.022443826477866708\n"
     ]
    }
   ],
   "source": [
    "SVC = SVC()\n",
    "param_grid = {'regressor__C': np.logspace(-3,4,num=8),'regressor__gamma': np.logspace(-3,4,num=8)}\n",
    "svc_grid, svc_models, svc_scores = ML_pipeline(X, y, preprocessor, SVC, param_grid)\n",
    "\n",
    "print(svc_scores)\n",
    "print()\n",
    "print(\"SVC: mean -\", np.mean(svc_scores), \", standard deviation -\", np.std(svc_scores))"
   ]
  },
  {
   "cell_type": "code",
   "execution_count": 33,
   "metadata": {
    "scrolled": true
   },
   "outputs": [
    {
     "name": "stdout",
     "output_type": "stream",
     "text": [
      "{'regressor__C': 10.0, 'regressor__gamma': 0.01}\n",
      "\n",
      "best test score:  0.8864864864864865\n",
      "\n",
      "num standard deviations from baseline:  10.696289352807991\n"
     ]
    }
   ],
   "source": [
    "print(svc_grid.best_params_)\n",
    "print()\n",
    "print(\"best test score: \", svc_scores[np.argmax(svc_scores)])\n",
    "print()\n",
    "print(\"num standard deviations from baseline: \", \n",
    "      (svc_scores[np.argmax(svc_scores)] - baseline_accuracy)/np.std(svc_scores))"
   ]
  },
  {
   "cell_type": "code",
   "execution_count": 34,
   "metadata": {},
   "outputs": [
    {
     "ename": "FileNotFoundError",
     "evalue": "[Errno 2] No such file or directory: 'results/grid.save'",
     "output_type": "error",
     "traceback": [
      "\u001b[0;31m---------------------------------------------------------------------------\u001b[0m",
      "\u001b[0;31mFileNotFoundError\u001b[0m                         Traceback (most recent call last)",
      "\u001b[0;32m<ipython-input-34-ba0c71caeff4>\u001b[0m in \u001b[0;36m<module>\u001b[0;34m\u001b[0m\n\u001b[0;32m----> 1\u001b[0;31m \u001b[0mfile\u001b[0m \u001b[0;34m=\u001b[0m \u001b[0mopen\u001b[0m\u001b[0;34m(\u001b[0m\u001b[0;34m'results/grid.save'\u001b[0m\u001b[0;34m,\u001b[0m \u001b[0;34m'wb'\u001b[0m\u001b[0;34m)\u001b[0m\u001b[0;34m\u001b[0m\u001b[0;34m\u001b[0m\u001b[0m\n\u001b[0m\u001b[1;32m      2\u001b[0m \u001b[0mpickle\u001b[0m\u001b[0;34m.\u001b[0m\u001b[0mdump\u001b[0m\u001b[0;34m(\u001b[0m\u001b[0;34m(\u001b[0m\u001b[0mgrid\u001b[0m\u001b[0;34m,\u001b[0m\u001b[0mX_test\u001b[0m\u001b[0;34m,\u001b[0m\u001b[0my_test\u001b[0m\u001b[0;34m)\u001b[0m\u001b[0;34m,\u001b[0m\u001b[0mfile\u001b[0m\u001b[0;34m)\u001b[0m\u001b[0;34m\u001b[0m\u001b[0;34m\u001b[0m\u001b[0m\n\u001b[1;32m      3\u001b[0m \u001b[0mfile\u001b[0m\u001b[0;34m.\u001b[0m\u001b[0mclose\u001b[0m\u001b[0;34m(\u001b[0m\u001b[0;34m)\u001b[0m\u001b[0;34m\u001b[0m\u001b[0;34m\u001b[0m\u001b[0m\n",
      "\u001b[0;31mFileNotFoundError\u001b[0m: [Errno 2] No such file or directory: 'results/grid.save'"
     ]
    }
   ],
   "source": [
    "file = open('results/grid.save', 'wb')\n",
    "pickle.dump((grid,X_test,y_test),file)\n",
    "file.close()"
   ]
  },
  {
   "cell_type": "code",
   "execution_count": null,
   "metadata": {
    "scrolled": true
   },
   "outputs": [],
   "source": [
    "KNC = KNeighborsClassifier()\n",
    "param_grid = {'regressor__n_neighbors': [1, 3, 5, 8, 20, 30, 50]}\n",
    "\n",
    "knc_grid, knc_models, knc_scores = ML_pipeline(X,y,preprocessor,KNC,param_grid)\n",
    "print(knc_scores)\n",
    "print()\n",
    "print(\"KNeighbors: mean -\", np.mean(knc_scores), \", standard deviation -\", np.std(knc_scores))"
   ]
  },
  {
   "cell_type": "code",
   "execution_count": null,
   "metadata": {},
   "outputs": [],
   "source": [
    "print(knc_grid.best_params_)\n",
    "print()\n",
    "print(\"best test score: \", knc_scores[np.argmax(knc_scores)])\n",
    "print()\n",
    "print(\"num standard deviations from baseline: \", \n",
    "      (knc_scores[np.argmax(knc_scores)] - baseline_accuracy)/np.std(knc_scores))"
   ]
  },
  {
   "cell_type": "code",
   "execution_count": null,
   "metadata": {},
   "outputs": [],
   "source": [
    "RFC = RandomForestClassifier()\n",
    "param_grid = {\n",
    "              'regressor__max_depth': [1, 3, 10, 30, 100], # the max_depth should be smaller or equal than the number of features roughly\n",
    "              'regressor__max_features': [0.5,0.75,1.0] # linearly spaced between 0.5 and 1\n",
    "              } \n",
    "rf_grid, rf_models, rf_scores = ML_pipeline(X,y,preprocessor,RFC,param_grid)\n",
    "print(rf_scores)\n",
    "print()\n",
    "print(\"random forest: mean -\", np.mean(rf_scores), \", standard deviation -\", np.std(rf_scores))"
   ]
  },
  {
   "cell_type": "code",
   "execution_count": null,
   "metadata": {},
   "outputs": [],
   "source": [
    "#standardize coeffients and look at features\n",
    "LR = LogisticRegression(penalty='l2', max_iter = 10000)\n",
    "param_grid = {'regressor__C': [0.001, 0.01, 0.1, 1, 10, 100, 1000]}\n",
    "\n",
    "lr_grid, lr_models, lr_scores = ML_pipeline(X,y,preprocessor,LR,param_grid)\n",
    "print(lr_scores)\n",
    "print()\n",
    "print(\"logistic regression: mean -\", np.mean(lr_scores), \", standard deviation -\", np.std(lr_scores))"
   ]
  },
  {
   "cell_type": "code",
   "execution_count": null,
   "metadata": {},
   "outputs": [],
   "source": [
    "print(lr_grid.best_params_)\n",
    "print()\n",
    "print(\"best test score: \", lr_scores[np.argmax(lr_scores)])\n",
    "print()\n",
    "print(\"num standard deviations from baseline: \", \n",
    "      (lr_scores[np.argmax(lr_scores)] - baseline_accuracy)/np.std(lr_scores))"
   ]
  },
  {
   "cell_type": "code",
   "execution_count": null,
   "metadata": {},
   "outputs": [],
   "source": [
    "XGB = xgboost.XGBClassifier()\n",
    "param_grid = {\"regressor__learning_rate\": [0.03],\n",
    "              \"regressor__n_estimators\": [10000],\n",
    "              \"regressor__seed\": [0],\n",
    "              \"regressor__missing\": [np.nan], \n",
    "              \"regressor__colsample_bytree\": [0.9],              \n",
    "              \"regressor__subsample\": [0.66]}\n",
    "xgb_grid, xgb_models, xgb_scores = ML_pipeline(X,y,preprocessor,XGB,param_grid)\n",
    "print(xgb_scores)\n",
    "print()\n",
    "print(\"xgboost: mean -\", np.mean(xgb_scores), \", standard deviation -\", np.std(xgb_scores))"
   ]
  },
  {
   "cell_type": "markdown",
   "metadata": {},
   "source": [
    "## Feature Importance"
   ]
  },
  {
   "cell_type": "code",
   "execution_count": null,
   "metadata": {},
   "outputs": [],
   "source": [
    "result = permutation_importance(SVC.fit(df_train, y_train), df_test, y_test, n_repeats = 10, random_state = 0,\n",
    "                                scoring = 'accuracy')"
   ]
  },
  {
   "cell_type": "code",
   "execution_count": null,
   "metadata": {
    "scrolled": true
   },
   "outputs": [],
   "source": [
    "#feature importance\n",
    "sorted_indcs = result.importances_mean.argsort()[:-11:-1]\n",
    "\n",
    "for i in sorted_indcs:\n",
    "    if result.importances_mean[i] - 2 * result.importances_std[i] > 0:\n",
    "        print(f\"{feature_names[i]:<8} \"\n",
    "              f\"{result.importances_mean[i]:.3f}\"\n",
    "              f\" +/- {result.importances_std[i]:.3f}\")"
   ]
  },
  {
   "cell_type": "code",
   "execution_count": null,
   "metadata": {},
   "outputs": [],
   "source": [
    "#shap summary plot logistic regression\n",
    "explainer = shap.LinearExplainer(LR, df_train, feature_dependence=\"independent\")\n",
    "shap_values = explainer.shap_values(df_test)\n",
    "shap.summary_plot(shap_values, df_test, feature_names=feature_names, max_display=10)"
   ]
  },
  {
   "cell_type": "code",
   "execution_count": null,
   "metadata": {
    "scrolled": false
   },
   "outputs": [],
   "source": [
    "#point 0 - successful company\n",
    "shap.initjs()\n",
    "shap.force_plot(explainer.expected_value, shap_values[0,:], df_test.iloc[0,:])"
   ]
  },
  {
   "cell_type": "code",
   "execution_count": null,
   "metadata": {},
   "outputs": [],
   "source": [
    "#point 4 - failed company\n",
    "shap.force_plot(explainer.expected_value, shap_values[4,:], df_test.iloc[4,:])"
   ]
  },
  {
   "cell_type": "code",
   "execution_count": null,
   "metadata": {},
   "outputs": [],
   "source": [
    "mymodel = XGB.fit(df_train, y_train)\n",
    "mybooster = mymodel.get_booster()    \n",
    "model_bytearray = mybooster.save_raw()[4:]\n",
    "def myfun(self=None):\n",
    "    return model_bytearray\n",
    "mybooster.save_raw = myfun\n",
    "explainer = shap.TreeExplainer(mybooster)\n",
    "shap_values = explainer.shap_values(df_test)\n",
    "shap.summary_plot(shap_values, df_test, max_display = 10)"
   ]
  },
  {
   "cell_type": "code",
   "execution_count": null,
   "metadata": {},
   "outputs": [],
   "source": [
    "plt.boxplot([svc_scores, knc_scores, lr_scores])\n",
    "plt.axhline(y=baseline_accuracy, label = \"baseline\")\n",
    "plt.ylabel('accuracy score')\n",
    "labels = ('support vector', 'k-neighbors', 'logistic regression')\n",
    "plt.xticks(np.arange(len(labels))+1,labels)\n",
    "plt.title('test scores')\n",
    "plt.show()"
   ]
  },
  {
   "cell_type": "code",
   "execution_count": null,
   "metadata": {},
   "outputs": [],
   "source": []
  },
  {
   "cell_type": "code",
   "execution_count": null,
   "metadata": {},
   "outputs": [],
   "source": []
  },
  {
   "cell_type": "code",
   "execution_count": null,
   "metadata": {},
   "outputs": [],
   "source": []
  },
  {
   "cell_type": "code",
   "execution_count": null,
   "metadata": {},
   "outputs": [],
   "source": []
  }
 ],
 "metadata": {
  "kernelspec": {
   "display_name": "Python 3",
   "language": "python",
   "name": "python3"
  },
  "language_info": {
   "codemirror_mode": {
    "name": "ipython",
    "version": 3
   },
   "file_extension": ".py",
   "mimetype": "text/x-python",
   "name": "python",
   "nbconvert_exporter": "python",
   "pygments_lexer": "ipython3",
   "version": "3.8.3"
  }
 },
 "nbformat": 4,
 "nbformat_minor": 4
}
