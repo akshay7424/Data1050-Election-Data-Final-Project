{
 "cells": [
  {
   "cell_type": "markdown",
   "metadata": {},
   "source": [
    "## Load Data"
   ]
  },
  {
   "cell_type": "code",
   "execution_count": 24,
   "metadata": {},
   "outputs": [],
   "source": [
    "import pandas as pd\n",
    "import numpy as np\n",
    "import matplotlib\n",
    "from matplotlib import pylab as plt\n",
    "import sklearn\n",
    "from sklearn.model_selection import train_test_split, KFold\n",
    "from sklearn.preprocessing import OneHotEncoder, MinMaxScaler, StandardScaler\n",
    "from sklearn.compose import ColumnTransformer\n",
    "from sklearn.pipeline import Pipeline\n",
    "from sklearn.svm import SVC\n",
    "from sklearn.model_selection import KFold\n",
    "from sklearn.model_selection import GridSearchCV\n",
    "from sklearn.metrics import make_scorer, accuracy_score\n",
    "from sklearn.experimental import enable_iterative_imputer\n",
    "from sklearn.impute import SimpleImputer, IterativeImputer\n",
    "from sklearn.ensemble import RandomForestRegressor"
   ]
  },
  {
   "cell_type": "code",
   "execution_count": 53,
   "metadata": {
    "scrolled": true
   },
   "outputs": [],
   "source": [
    "#load data and replace nulls\n",
    "df = pd.read_csv('Startup Data.csv')\n",
    "df = df.replace('NaN', np.nan) \n",
    "\n",
    "#row 124 and 832 are repeats of the same data point\n",
    "df.iloc[124] == df.iloc[832]\n",
    "df = df.drop(832)"
   ]
  },
  {
   "cell_type": "code",
   "execution_count": 54,
   "metadata": {},
   "outputs": [
    {
     "name": "stdout",
     "output_type": "stream",
     "text": [
      "True\n",
      "True\n",
      "True\n",
      "True\n",
      "True     921\n",
      "False      1\n",
      "dtype: int64\n"
     ]
    }
   ],
   "source": [
    "#check for unique id columns that can be ignored\n",
    "print(df['Unnamed: 0'].value_counts().shape == df['Unnamed: 0'].shape)\n",
    "print(df['id'].value_counts().shape == df['id'].shape)\n",
    "print(df['name'].value_counts().shape == df['name'].shape)\n",
    "print(df['object_id'].value_counts().shape == df['object_id'].shape)\n",
    "\n",
    "#state code is repeated twice with one mismatched state name\n",
    "print((df['state_code.1'] == df['state_code']).value_counts())\n",
    "\n",
    "del df['Unnamed: 0']\n",
    "del df['id']\n",
    "del df['name']\n",
    "del df['object_id']\n",
    "del df['state_code.1']"
   ]
  },
  {
   "cell_type": "code",
   "execution_count": 55,
   "metadata": {
    "scrolled": false
   },
   "outputs": [
    {
     "data": {
      "text/html": [
       "<div>\n",
       "<style scoped>\n",
       "    .dataframe tbody tr th:only-of-type {\n",
       "        vertical-align: middle;\n",
       "    }\n",
       "\n",
       "    .dataframe tbody tr th {\n",
       "        vertical-align: top;\n",
       "    }\n",
       "\n",
       "    .dataframe thead th {\n",
       "        text-align: right;\n",
       "    }\n",
       "</style>\n",
       "<table border=\"1\" class=\"dataframe\">\n",
       "  <thead>\n",
       "    <tr style=\"text-align: right;\">\n",
       "      <th></th>\n",
       "      <th>state_code</th>\n",
       "      <th>latitude</th>\n",
       "      <th>longitude</th>\n",
       "      <th>zip_code</th>\n",
       "      <th>city</th>\n",
       "      <th>Unnamed: 6</th>\n",
       "      <th>labels</th>\n",
       "      <th>founded_at</th>\n",
       "      <th>closed_at</th>\n",
       "      <th>first_funding_at</th>\n",
       "      <th>...</th>\n",
       "      <th>is_othercategory</th>\n",
       "      <th>has_VC</th>\n",
       "      <th>has_angel</th>\n",
       "      <th>has_roundA</th>\n",
       "      <th>has_roundB</th>\n",
       "      <th>has_roundC</th>\n",
       "      <th>has_roundD</th>\n",
       "      <th>avg_participants</th>\n",
       "      <th>is_top500</th>\n",
       "      <th>status</th>\n",
       "    </tr>\n",
       "  </thead>\n",
       "  <tbody>\n",
       "    <tr>\n",
       "      <th>0</th>\n",
       "      <td>CA</td>\n",
       "      <td>42.358880</td>\n",
       "      <td>-71.056820</td>\n",
       "      <td>92101</td>\n",
       "      <td>San Diego</td>\n",
       "      <td>NaN</td>\n",
       "      <td>1</td>\n",
       "      <td>1/1/2007</td>\n",
       "      <td>NaN</td>\n",
       "      <td>4/1/2009</td>\n",
       "      <td>...</td>\n",
       "      <td>1</td>\n",
       "      <td>0</td>\n",
       "      <td>1</td>\n",
       "      <td>0</td>\n",
       "      <td>0</td>\n",
       "      <td>0</td>\n",
       "      <td>0</td>\n",
       "      <td>1.0000</td>\n",
       "      <td>0</td>\n",
       "      <td>acquired</td>\n",
       "    </tr>\n",
       "    <tr>\n",
       "      <th>1</th>\n",
       "      <td>CA</td>\n",
       "      <td>37.238916</td>\n",
       "      <td>-121.973718</td>\n",
       "      <td>95032</td>\n",
       "      <td>Los Gatos</td>\n",
       "      <td>NaN</td>\n",
       "      <td>1</td>\n",
       "      <td>1/1/2000</td>\n",
       "      <td>NaN</td>\n",
       "      <td>2/14/2005</td>\n",
       "      <td>...</td>\n",
       "      <td>0</td>\n",
       "      <td>1</td>\n",
       "      <td>0</td>\n",
       "      <td>0</td>\n",
       "      <td>1</td>\n",
       "      <td>1</td>\n",
       "      <td>1</td>\n",
       "      <td>4.7500</td>\n",
       "      <td>1</td>\n",
       "      <td>acquired</td>\n",
       "    </tr>\n",
       "    <tr>\n",
       "      <th>2</th>\n",
       "      <td>CA</td>\n",
       "      <td>32.901049</td>\n",
       "      <td>-117.192656</td>\n",
       "      <td>92121</td>\n",
       "      <td>San Diego</td>\n",
       "      <td>San Diego CA 92121</td>\n",
       "      <td>1</td>\n",
       "      <td>3/18/2009</td>\n",
       "      <td>NaN</td>\n",
       "      <td>3/30/2010</td>\n",
       "      <td>...</td>\n",
       "      <td>0</td>\n",
       "      <td>0</td>\n",
       "      <td>0</td>\n",
       "      <td>1</td>\n",
       "      <td>0</td>\n",
       "      <td>0</td>\n",
       "      <td>0</td>\n",
       "      <td>4.0000</td>\n",
       "      <td>1</td>\n",
       "      <td>acquired</td>\n",
       "    </tr>\n",
       "    <tr>\n",
       "      <th>3</th>\n",
       "      <td>CA</td>\n",
       "      <td>37.320309</td>\n",
       "      <td>-122.050040</td>\n",
       "      <td>95014</td>\n",
       "      <td>Cupertino</td>\n",
       "      <td>Cupertino CA 95014</td>\n",
       "      <td>1</td>\n",
       "      <td>1/1/2002</td>\n",
       "      <td>NaN</td>\n",
       "      <td>2/17/2005</td>\n",
       "      <td>...</td>\n",
       "      <td>0</td>\n",
       "      <td>0</td>\n",
       "      <td>0</td>\n",
       "      <td>0</td>\n",
       "      <td>1</td>\n",
       "      <td>1</td>\n",
       "      <td>1</td>\n",
       "      <td>3.3333</td>\n",
       "      <td>1</td>\n",
       "      <td>acquired</td>\n",
       "    </tr>\n",
       "    <tr>\n",
       "      <th>4</th>\n",
       "      <td>CA</td>\n",
       "      <td>37.779281</td>\n",
       "      <td>-122.419236</td>\n",
       "      <td>94105</td>\n",
       "      <td>San Francisco</td>\n",
       "      <td>San Francisco CA 94105</td>\n",
       "      <td>0</td>\n",
       "      <td>8/1/2010</td>\n",
       "      <td>10/1/2012</td>\n",
       "      <td>8/1/2010</td>\n",
       "      <td>...</td>\n",
       "      <td>0</td>\n",
       "      <td>1</td>\n",
       "      <td>1</td>\n",
       "      <td>0</td>\n",
       "      <td>0</td>\n",
       "      <td>0</td>\n",
       "      <td>0</td>\n",
       "      <td>1.0000</td>\n",
       "      <td>1</td>\n",
       "      <td>closed</td>\n",
       "    </tr>\n",
       "  </tbody>\n",
       "</table>\n",
       "<p>5 rows × 44 columns</p>\n",
       "</div>"
      ],
      "text/plain": [
       "  state_code   latitude   longitude zip_code           city  \\\n",
       "0         CA  42.358880  -71.056820    92101      San Diego   \n",
       "1         CA  37.238916 -121.973718    95032      Los Gatos   \n",
       "2         CA  32.901049 -117.192656    92121      San Diego   \n",
       "3         CA  37.320309 -122.050040    95014      Cupertino   \n",
       "4         CA  37.779281 -122.419236    94105  San Francisco   \n",
       "\n",
       "               Unnamed: 6  labels founded_at  closed_at first_funding_at  ...  \\\n",
       "0                     NaN       1   1/1/2007        NaN         4/1/2009  ...   \n",
       "1                     NaN       1   1/1/2000        NaN        2/14/2005  ...   \n",
       "2      San Diego CA 92121       1  3/18/2009        NaN        3/30/2010  ...   \n",
       "3      Cupertino CA 95014       1   1/1/2002        NaN        2/17/2005  ...   \n",
       "4  San Francisco CA 94105       0   8/1/2010  10/1/2012         8/1/2010  ...   \n",
       "\n",
       "  is_othercategory  has_VC  has_angel  has_roundA  has_roundB  has_roundC  \\\n",
       "0                1       0          1           0           0           0   \n",
       "1                0       1          0           0           1           1   \n",
       "2                0       0          0           1           0           0   \n",
       "3                0       0          0           0           1           1   \n",
       "4                0       1          1           0           0           0   \n",
       "\n",
       "   has_roundD  avg_participants  is_top500    status  \n",
       "0           0            1.0000          0  acquired  \n",
       "1           1            4.7500          1  acquired  \n",
       "2           0            4.0000          1  acquired  \n",
       "3           1            3.3333          1  acquired  \n",
       "4           0            1.0000          1    closed  \n",
       "\n",
       "[5 rows x 44 columns]"
      ]
     },
     "execution_count": 55,
     "metadata": {},
     "output_type": "execute_result"
    }
   ],
   "source": [
    "df.head()"
   ]
  },
  {
   "cell_type": "markdown",
   "metadata": {},
   "source": [
    "## EDA"
   ]
  },
  {
   "cell_type": "code",
   "execution_count": 56,
   "metadata": {
    "scrolled": true
   },
   "outputs": [
    {
     "name": "stdout",
     "output_type": "stream",
     "text": [
      "count    922.000000\n",
      "mean      38.518566\n",
      "std        3.743372\n",
      "min       25.752358\n",
      "25%       37.388869\n",
      "50%       37.779281\n",
      "75%       40.730646\n",
      "max       59.335232\n",
      "Name: latitude, dtype: float64\n"
     ]
    },
    {
     "data": {
      "image/png": "[encoded data removed]",
      "text/plain": [
       "<Figure size 432x288 with 1 Axes>"
      ]
     },
     "metadata": {
      "needs_background": "light"
     },
     "output_type": "display_data"
    },
    {
     "name": "stdout",
     "output_type": "stream",
     "text": [
      "count    922.000000\n",
      "mean    -103.519249\n",
      "std       22.398102\n",
      "min     -122.756956\n",
      "25%     -122.199823\n",
      "50%     -118.365504\n",
      "75%      -77.213612\n",
      "max       18.057121\n",
      "Name: longitude, dtype: float64\n"
     ]
    },
    {
     "data": {
      "image/png": "[encoded data removed]",
      "text/plain": [
       "<Figure size 432x288 with 1 Axes>"
      ]
     },
     "metadata": {
      "needs_background": "light"
     },
     "output_type": "display_data"
    },
    {
     "name": "stdout",
     "output_type": "stream",
     "text": [
      "count    922.000000\n",
      "mean       2.237235\n",
      "std        2.511337\n",
      "min       -9.046600\n",
      "25%        0.574650\n",
      "50%        1.449350\n",
      "75%        3.578075\n",
      "max       21.895900\n",
      "Name: age_first_funding_year, dtype: float64\n"
     ]
    },
    {
     "data": {
      "image/png": "[encoded data removed]",
      "text/plain": [
       "<Figure size 432x288 with 1 Axes>"
      ]
     },
     "metadata": {
      "needs_background": "light"
     },
     "output_type": "display_data"
    },
    {
     "name": "stdout",
     "output_type": "stream",
     "text": [
      "count    922.000000\n",
      "mean       3.930933\n",
      "std        2.969478\n",
      "min       -9.046600\n",
      "25%        1.669175\n",
      "50%        3.520550\n",
      "75%        5.560925\n",
      "max       21.895900\n",
      "Name: age_last_funding_year, dtype: float64\n"
     ]
    },
    {
     "data": {
      "image/png": "[encoded data removed]",
      "text/plain": [
       "<Figure size 432x288 with 1 Axes>"
      ]
     },
     "metadata": {
      "needs_background": "light"
     },
     "output_type": "display_data"
    },
    {
     "name": "stdout",
     "output_type": "stream",
     "text": [
      "count    770.000000\n",
      "mean       3.055706\n",
      "std        2.978976\n",
      "min      -14.169900\n",
      "25%        1.000000\n",
      "50%        2.519150\n",
      "75%        4.688350\n",
      "max       24.684900\n",
      "Name: age_first_milestone_year, dtype: float64\n"
     ]
    },
    {
     "data": {
      "image/png": "[encoded data removed]",
      "text/plain": [
       "<Figure size 432x288 with 1 Axes>"
      ]
     },
     "metadata": {
      "needs_background": "light"
     },
     "output_type": "display_data"
    },
    {
     "name": "stdout",
     "output_type": "stream",
     "text": [
      "count    770.000000\n",
      "mean       4.755399\n",
      "std        3.214081\n",
      "min       -7.005500\n",
      "25%        2.397300\n",
      "50%        4.482200\n",
      "75%        6.753400\n",
      "max       24.684900\n",
      "Name: age_last_milestone_year, dtype: float64\n"
     ]
    },
    {
     "data": {
      "image/png": "[encoded data removed]",
      "text/plain": [
       "<Figure size 432x288 with 1 Axes>"
      ]
     },
     "metadata": {
      "needs_background": "light"
     },
     "output_type": "display_data"
    },
    {
     "name": "stdout",
     "output_type": "stream",
     "text": [
      "count    922.000000\n",
      "mean       7.703905\n",
      "std        7.266762\n",
      "min        0.000000\n",
      "25%        3.000000\n",
      "50%        5.000000\n",
      "75%       10.000000\n",
      "max       63.000000\n",
      "Name: relationships, dtype: float64\n"
     ]
    },
    {
     "data": {
      "image/png": "[encoded data removed]",
      "text/plain": [
       "<Figure size 432x288 with 1 Axes>"
      ]
     },
     "metadata": {
      "needs_background": "light"
     },
     "output_type": "display_data"
    },
    {
     "name": "stdout",
     "output_type": "stream",
     "text": [
      "count    922.000000\n",
      "mean       2.309111\n",
      "std        1.390562\n",
      "min        1.000000\n",
      "25%        1.000000\n",
      "50%        2.000000\n",
      "75%        3.000000\n",
      "max       10.000000\n",
      "Name: funding_rounds, dtype: float64\n"
     ]
    },
    {
     "data": {
      "image/png": "[encoded data removed]",
      "text/plain": [
       "<Figure size 432x288 with 1 Axes>"
      ]
     },
     "metadata": {
      "needs_background": "light"
     },
     "output_type": "display_data"
    },
    {
     "name": "stdout",
     "output_type": "stream",
     "text": [
      "count    9.220000e+02\n",
      "mean     2.541017e+07\n",
      "std      1.897371e+08\n",
      "min      1.100000e+04\n",
      "25%      2.712500e+06\n",
      "50%      1.000000e+07\n",
      "75%      2.465264e+07\n",
      "max      5.700000e+09\n",
      "Name: funding_total_usd, dtype: float64\n"
     ]
    },
    {
     "data": {
      "image/png": "[encoded data removed]",
      "text/plain": [
       "<Figure size 432x288 with 1 Axes>"
      ]
     },
     "metadata": {
      "needs_background": "light"
     },
     "output_type": "display_data"
    },
    {
     "name": "stdout",
     "output_type": "stream",
     "text": [
      "count    922.000000\n",
      "mean       2.839225\n",
      "std        1.875518\n",
      "min        1.000000\n",
      "25%        1.500000\n",
      "50%        2.500000\n",
      "75%        3.800000\n",
      "max       16.000000\n",
      "Name: avg_participants, dtype: float64\n"
     ]
    },
    {
     "data": {
      "image/png": "[encoded data removed]",
      "text/plain": [
       "<Figure size 432x288 with 1 Axes>"
      ]
     },
     "metadata": {
      "needs_background": "light"
     },
     "output_type": "display_data"
    }
   ],
   "source": [
    "#histograms/bar charts of all features\n",
    "columns = df.columns\n",
    "for col in columns:\n",
    "    if col in ss_ftrs:\n",
    "        print(df[col].describe())\n",
    "        df[col].plot.hist()\n",
    "        plt.xlabel(col)\n",
    "        plt.ylabel('count')\n",
    "        plt.show()"
   ]
  },
  {
   "cell_type": "code",
   "execution_count": 12,
   "metadata": {},
   "outputs": [],
   "source": [
    "#bar plots"
   ]
  },
  {
   "cell_type": "code",
   "execution_count": 13,
   "metadata": {
    "scrolled": true
   },
   "outputs": [
    {
     "data": {
      "image/png": "[encoded data removed]",
      "text/plain": [
       "<Figure size 432x288 with 1 Axes>"
      ]
     },
     "metadata": {
      "needs_background": "light"
     },
     "output_type": "display_data"
    },
    {
     "data": {
      "image/png": "[encoded data removed]",
      "text/plain": [
       "<Figure size 432x288 with 1 Axes>"
      ]
     },
     "metadata": {
      "needs_background": "light"
     },
     "output_type": "display_data"
    }
   ],
   "source": [
    "#comparing how well california startups did relative to the rest of the country\n",
    "count_matrix = df.groupby(['is_CA', 'status']).size().unstack()\n",
    "count_matrix_norm = count_matrix.div(count_matrix.sum(axis=1),axis=0)\n",
    "count_matrix_norm.plot(kind='bar', stacked=True, color = ['k', 'grey'])\n",
    "plt.xlabel('Outside California (0), In California (1)')\n",
    "plt.ylabel('fraction of startups')\n",
    "plt.legend(loc=4)\n",
    "plt.show()\n",
    "\n",
    "count_matrix = df.groupby(['is_CA', 'has_VC']).size().unstack()\n",
    "count_matrix_norm = count_matrix.div(count_matrix.sum(axis=1),axis=0)\n",
    "count_matrix_norm.plot(kind='bar', stacked=True, color = ['k', 'grey'])\n",
    "plt.xlabel('In California')\n",
    "plt.ylabel('fraction with VC funding')\n",
    "plt.legend(loc=4)\n",
    "plt.show()"
   ]
  },
  {
   "cell_type": "code",
   "execution_count": 14,
   "metadata": {
    "scrolled": false
   },
   "outputs": [
    {
     "data": {
      "image/png": "[encoded data removed]",
      "text/plain": [
       "<Figure size 432x288 with 1 Axes>"
      ]
     },
     "metadata": {
      "needs_background": "light"
     },
     "output_type": "display_data"
    }
   ],
   "source": [
    "#histogram of the industries\n",
    "df['category_code'].value_counts().plot.bar(color = 'turquoise')\n",
    "plt.ylabel('number of companies')\n",
    "plt.show()"
   ]
  },
  {
   "cell_type": "code",
   "execution_count": 15,
   "metadata": {
    "scrolled": true
   },
   "outputs": [
    {
     "data": {
      "image/png": "[encoded data removed]",
      "text/plain": [
       "<Figure size 432x288 with 1 Axes>"
      ]
     },
     "metadata": {
      "needs_background": "light"
     },
     "output_type": "display_data"
    }
   ],
   "source": [
    "#plot showing industry type against total funding amount in usd\n",
    "df.groupby('category_code', as_index=True)['funding_total_usd'].mean().plot.bar(color = 'k')\n",
    "plt.ylabel('total funding')\n",
    "plt.show()"
   ]
  },
  {
   "cell_type": "code",
   "execution_count": 16,
   "metadata": {
    "scrolled": true
   },
   "outputs": [
    {
     "data": {
      "image/png": "[encoded data removed]",
      "text/plain": [
       "<Figure size 432x288 with 1 Axes>"
      ]
     },
     "metadata": {
      "needs_background": "light"
     },
     "output_type": "display_data"
    }
   ],
   "source": [
    "#comparing age of first funding year and age at first milestone shows a high concentration near (0,0)\n",
    "#this is likely due to many companies who do not recieve any funding\n",
    "#it is interesting to note the few outliers that were funded much later in their lives\n",
    "df.plot.scatter('age_first_funding_year', 'age_first_milestone_year', s=10, alpha=.1)\n",
    "plt.show()"
   ]
  },
  {
   "cell_type": "code",
   "execution_count": 17,
   "metadata": {
    "scrolled": true
   },
   "outputs": [
    {
     "data": {
      "image/png": "[encoded data removed]",
      "text/plain": [
       "<Figure size 432x288 with 1 Axes>"
      ]
     },
     "metadata": {
      "needs_background": "light"
     },
     "output_type": "display_data"
    }
   ],
   "source": [
    "#funding vs status\n",
    "count_matrix = df.groupby(['has_VC', 'status']).size().unstack()\n",
    "count_matrix_norm = count_matrix.div(count_matrix.sum(axis=1),axis=0)\n",
    "count_matrix_norm.plot(kind='bar', stacked=True, color = ['turquoise', 'lavender'])\n",
    "plt.ylabel('status of company')\n",
    "plt.xlabel('VC funding')\n",
    "plt.legend(loc=4)\n",
    "plt.show()"
   ]
  },
  {
   "cell_type": "code",
   "execution_count": 18,
   "metadata": {},
   "outputs": [
    {
     "data": {
      "text/html": [
       "<div>\n",
       "<style scoped>\n",
       "    .dataframe tbody tr th:only-of-type {\n",
       "        vertical-align: middle;\n",
       "    }\n",
       "\n",
       "    .dataframe tbody tr th {\n",
       "        vertical-align: top;\n",
       "    }\n",
       "\n",
       "    .dataframe thead th {\n",
       "        text-align: right;\n",
       "    }\n",
       "</style>\n",
       "<table border=\"1\" class=\"dataframe\">\n",
       "  <thead>\n",
       "    <tr style=\"text-align: right;\">\n",
       "      <th>status</th>\n",
       "      <th>acquired</th>\n",
       "      <th>closed</th>\n",
       "    </tr>\n",
       "    <tr>\n",
       "      <th>has_VC</th>\n",
       "      <th></th>\n",
       "      <th></th>\n",
       "    </tr>\n",
       "  </thead>\n",
       "  <tbody>\n",
       "    <tr>\n",
       "      <th>0</th>\n",
       "      <td>414</td>\n",
       "      <td>208</td>\n",
       "    </tr>\n",
       "    <tr>\n",
       "      <th>1</th>\n",
       "      <td>182</td>\n",
       "      <td>118</td>\n",
       "    </tr>\n",
       "  </tbody>\n",
       "</table>\n",
       "</div>"
      ],
      "text/plain": [
       "status  acquired  closed\n",
       "has_VC                  \n",
       "0            414     208\n",
       "1            182     118"
      ]
     },
     "execution_count": 18,
     "metadata": {},
     "output_type": "execute_result"
    }
   ],
   "source": [
    "df.groupby(['has_VC', 'status']).size().unstack()"
   ]
  },
  {
   "cell_type": "markdown",
   "metadata": {},
   "source": [
    "## Split Data"
   ]
  },
  {
   "cell_type": "code",
   "execution_count": 64,
   "metadata": {},
   "outputs": [],
   "source": [
    "#set X and y matrices\n",
    "y = df['status']\n",
    "X = df.loc[:, df.columns != 'status']"
   ]
  },
  {
   "cell_type": "code",
   "execution_count": 65,
   "metadata": {},
   "outputs": [],
   "source": [
    "#data split\n",
    "random_state = 7\n",
    "\n",
    "#separate out training set\n",
    "X_train, X_other, y_train, y_other = train_test_split(X,y,train_size = 0.6,random_state=random_state)\n",
    "\n",
    "#split out validation and test sets\n",
    "X_val, X_test, y_val, y_test = train_test_split(X,y,train_size = 0.5,random_state=random_state)"
   ]
  },
  {
   "cell_type": "markdown",
   "metadata": {},
   "source": [
    "## Missing Data"
   ]
  },
  {
   "cell_type": "code",
   "execution_count": 60,
   "metadata": {},
   "outputs": [
    {
     "name": "stdout",
     "output_type": "stream",
     "text": [
      "fraction of missing values in features:\n",
      "Unnamed: 6                  0.533623\n",
      "closed_at                   0.636659\n",
      "age_first_milestone_year    0.164859\n",
      "age_last_milestone_year     0.164859\n",
      "dtype: float64\n",
      "data types of the features with missing values:\n",
      "Unnamed: 6                   object\n",
      "closed_at                    object\n",
      "age_first_milestone_year    float64\n",
      "age_last_milestone_year     float64\n",
      "dtype: object\n",
      "fraction of points with missing values: 0.8698481561822126\n"
     ]
    }
   ],
   "source": [
    "perc_missing_per_ftr = df.isnull().sum(axis=0)/df.shape[0]\n",
    "print('fraction of missing values in features:')\n",
    "print(perc_missing_per_ftr[perc_missing_per_ftr > 0])\n",
    "print('data types of the features with missing values:')\n",
    "print(df[perc_missing_per_ftr[perc_missing_per_ftr > 0].index].dtypes)\n",
    "frac_missing = sum(df.isnull().sum(axis=1)!=0)/df.shape[0]\n",
    "print('fraction of points with missing values:',frac_missing)"
   ]
  },
  {
   "cell_type": "code",
   "execution_count": 61,
   "metadata": {},
   "outputs": [],
   "source": [
    "#categorical missing values new category 'missing'\n",
    "df[\"closed_at\"] = df[\"closed_at\"].replace(np.nan, \"missing\")\n",
    "df[\"Unnamed: 6\"] = df[\"Unnamed: 6\"].replace(np.nan, \"missing\")"
   ]
  },
  {
   "cell_type": "code",
   "execution_count": 62,
   "metadata": {
    "scrolled": false
   },
   "outputs": [
    {
     "name": "stdout",
     "output_type": "stream",
     "text": [
      "   age_first_milestone_year  age_last_milestone_year\n",
      "0                    4.6685                   6.7041\n",
      "1                    7.0055                   7.0055\n",
      "2                    1.4575                   2.2055\n",
      "3                    6.0027                   6.0027\n",
      "4                    0.0384                   0.0384\n"
     ]
    }
   ],
   "source": [
    "#continuous missing values\n",
    "print(df[['age_first_milestone_year','age_last_milestone_year']].head())\n",
    "\n",
    "imputer = SimpleImputer(missing_values= np.nan, strategy='mean')\n",
    "\n",
    "df[['age_first_milestone_year','age_last_milestone_year']] = imputer.fit_transform(np.array(df[['age_first_milestone_year','age_last_milestone_year']]))"
   ]
  },
  {
   "cell_type": "code",
   "execution_count": 63,
   "metadata": {},
   "outputs": [
    {
     "name": "stdout",
     "output_type": "stream",
     "text": [
      "fraction of missing values in features:\n",
      "Series([], dtype: float64)\n",
      "data types of the features with missing values:\n",
      "Series([], dtype: object)\n",
      "fraction of points with missing values: 0.0\n"
     ]
    }
   ],
   "source": [
    "perc_missing_per_ftr = df.isnull().sum(axis=0)/df.shape[0]\n",
    "print('fraction of missing values in features:')\n",
    "print(perc_missing_per_ftr[perc_missing_per_ftr > 0])\n",
    "print('data types of the features with missing values:')\n",
    "print(df[perc_missing_per_ftr[perc_missing_per_ftr > 0].index].dtypes)\n",
    "frac_missing = sum(df.isnull().sum(axis=1)!=0)/df.shape[0]\n",
    "print('fraction of points with missing values:',frac_missing)"
   ]
  },
  {
   "cell_type": "markdown",
   "metadata": {},
   "source": [
    "## Preprocessing"
   ]
  },
  {
   "cell_type": "code",
   "execution_count": 57,
   "metadata": {},
   "outputs": [],
   "source": [
    "#all remaining features split between categorical/continuous/dates to be transformed to continuous\n",
    "#categorical features split further between ordinal scaler and one hot encoder\n",
    "\n",
    "cat_ftrs = ['state_code', 'zip_code', 'city','labels', 'is_CA','is_NY','is_MA', \n",
    "        'is_TX', 'is_otherstate', 'category_code', 'is_software', 'is_web','is_mobile', \n",
    "        'is_enterprise','is_advertising', 'is_gamesvideo', 'is_ecommerce', 'is_biotech', \n",
    "        'is_consulting', 'is_othercategory', 'avg_participants', 'has_VC', 'has_angel', 'has_roundA', \n",
    "        'has_roundB', 'has_roundC', 'has_roundD','is_top500', 'milestones']\n",
    "\n",
    "ss_ftrs = ['latitude', 'longitude', 'age_first_funding_year', 'age_last_funding_year', \n",
    "            'age_first_milestone_year', 'age_last_milestone_year', 'relationships', \n",
    "            'funding_rounds', 'avg_participants', 'funding_total_usd',]\n",
    "\n",
    "dates = ['founded_at', 'closed_at', 'first_funding_at', 'last_funding_at']\n"
   ]
  },
  {
   "cell_type": "code",
   "execution_count": 58,
   "metadata": {},
   "outputs": [],
   "source": [
    "#transform dates into continuous variables using epoch time"
   ]
  },
  {
   "cell_type": "code",
   "execution_count": 59,
   "metadata": {},
   "outputs": [
    {
     "name": "stdout",
     "output_type": "stream",
     "text": [
      "[[ 0.          0.          0.         ... -0.9601818   0.07886135\n",
      "  -0.11928396]\n",
      " [ 0.          1.          0.         ... -0.9601818   3.61963765\n",
      "  -0.11646285]\n",
      " [ 0.          1.          0.         ...  2.70681085  1.09051172\n",
      "   0.09867417]\n",
      " [ 0.          0.          0.         ... -0.22678327 -0.93278903\n",
      "  -0.12035827]\n",
      " [ 0.          0.          0.         ... -0.22678327  0.07886135\n",
      "  -0.11390007]]\n"
     ]
    }
   ],
   "source": [
    "\n",
    "\n",
    "preprocessor = ColumnTransformer(transformers = \n",
    "        [('onehot',  OneHotEncoder(sparse=False, handle_unknown='ignore'), cat_ftrs), \n",
    "          ('ss', StandardScaler(), ss_ftrs)])\n",
    "\n",
    "clf = Pipeline(steps = [('preprocessor', preprocessor)])\n",
    "\n",
    "X_train_prep = clf.fit_transform(X_train)\n",
    "X_val_prep = clf.transform(X_val)\n",
    "X_test_prep = clf.transform(X_test)\n",
    "\n",
    "print(X_train_prep[:5])\n",
    "#for col in cols:\n",
    "   # if col in std_ftrs:\n",
    "       # X_train = scaler.fit_transform(X_train[[col]])\n",
    "\n",
    "\n",
    "#X_train_ohe = enc.fit_transform(X_train[['state_code']])\n",
    "#X_train_ohe"
   ]
  },
  {
   "cell_type": "markdown",
   "metadata": {},
   "source": [
    "## Pipeline"
   ]
  },
  {
   "cell_type": "code",
   "execution_count": 66,
   "metadata": {},
   "outputs": [],
   "source": [
    "def ML_pipeline(X, y, preprocessor, ML_algo, param_grid):\n",
    "    test_scores = []\n",
    "    best_models = []\n",
    "    \n",
    "    for i in range(0,10):\n",
    "        # split data to other/test 80/20, and the use KFold with 4 folds (2 points)\n",
    "        X_other, X_test, y_other, y_test = train_test_split(X, y, test_size=0.2, random_state = 7*i)\n",
    "        kf = KFold(n_splits=4,shuffle=True,random_state=7*i)\n",
    "        # preprocess the data (1 point)\n",
    "        pipe = Pipeline(steps=[('preprocessor', preprocessor), ('regressor', ML_algo)])\n",
    "        # loop through the hyperparameter combinations or use GridSearchCV (2 points)\n",
    "        grid = GridSearchCV(pipe, param_grid=param_grid,scoring = make_scorer(accuracy_score),\n",
    "                        cv=kf, return_train_score = True)\n",
    "        # for each combination, calculate the train and validation scores using the evaluation metric\n",
    "        grid.fit(X_other, y_other)\n",
    "        # find which hyperparameter combination gives the best validation score (1 point)\n",
    "        best_combination = grid.best_params_\n",
    "        # calculate the test score (1 point)\n",
    "        y_pred = grid.predict(X_test)\n",
    "        # append the test score and the best model to the lists (1 point)\n",
    "        test_scores.append(accuracy_score(y_test, y_pred))\n",
    "        best_models.append(grid.best_estimator_)\n",
    "    return best_models, test_scores"
   ]
  },
  {
   "cell_type": "markdown",
   "metadata": {},
   "source": [
    "## Models"
   ]
  },
  {
   "cell_type": "code",
   "execution_count": 67,
   "metadata": {},
   "outputs": [
    {
     "data": {
      "text/plain": [
       "([Pipeline(steps=[('preprocessor',\n",
       "                   ColumnTransformer(transformers=[('onehot',\n",
       "                                                    OneHotEncoder(handle_unknown='ignore',\n",
       "                                                                  sparse=False),\n",
       "                                                    ['state_code', 'zip_code',\n",
       "                                                     'city', 'labels', 'is_CA',\n",
       "                                                     'is_NY', 'is_MA', 'is_TX',\n",
       "                                                     'is_otherstate',\n",
       "                                                     'category_code',\n",
       "                                                     'is_software', 'is_web',\n",
       "                                                     'is_mobile', 'is_enterprise',\n",
       "                                                     'is_advertising',\n",
       "                                                     'is_gamesvideo',\n",
       "                                                     'is_ecommerce', 'is_biotech',\n",
       "                                                     'is_con...\n",
       "                                                     'has_angel', 'has_roundA',\n",
       "                                                     'has_roundB', 'has_roundC',\n",
       "                                                     'has_roundD', 'is_top500',\n",
       "                                                     'milestones']),\n",
       "                                                   ('ss', StandardScaler(),\n",
       "                                                    ['latitude', 'longitude',\n",
       "                                                     'age_first_funding_year',\n",
       "                                                     'age_last_funding_year',\n",
       "                                                     'age_first_milestone_year',\n",
       "                                                     'age_last_milestone_year',\n",
       "                                                     'relationships',\n",
       "                                                     'funding_rounds',\n",
       "                                                     'avg_participants',\n",
       "                                                     'funding_total_usd'])])),\n",
       "                  ('regressor', SVC(C=10.0, gamma=0.001))]),\n",
       "  Pipeline(steps=[('preprocessor',\n",
       "                   ColumnTransformer(transformers=[('onehot',\n",
       "                                                    OneHotEncoder(handle_unknown='ignore',\n",
       "                                                                  sparse=False),\n",
       "                                                    ['state_code', 'zip_code',\n",
       "                                                     'city', 'labels', 'is_CA',\n",
       "                                                     'is_NY', 'is_MA', 'is_TX',\n",
       "                                                     'is_otherstate',\n",
       "                                                     'category_code',\n",
       "                                                     'is_software', 'is_web',\n",
       "                                                     'is_mobile', 'is_enterprise',\n",
       "                                                     'is_advertising',\n",
       "                                                     'is_gamesvideo',\n",
       "                                                     'is_ecommerce', 'is_biotech',\n",
       "                                                     'is_con...\n",
       "                                                     'avg_participants', 'has_VC',\n",
       "                                                     'has_angel', 'has_roundA',\n",
       "                                                     'has_roundB', 'has_roundC',\n",
       "                                                     'has_roundD', 'is_top500',\n",
       "                                                     'milestones']),\n",
       "                                                   ('ss', StandardScaler(),\n",
       "                                                    ['latitude', 'longitude',\n",
       "                                                     'age_first_funding_year',\n",
       "                                                     'age_last_funding_year',\n",
       "                                                     'age_first_milestone_year',\n",
       "                                                     'age_last_milestone_year',\n",
       "                                                     'relationships',\n",
       "                                                     'funding_rounds',\n",
       "                                                     'avg_participants',\n",
       "                                                     'funding_total_usd'])])),\n",
       "                  ('regressor', SVC(gamma=0.01))]),\n",
       "  Pipeline(steps=[('preprocessor',\n",
       "                   ColumnTransformer(transformers=[('onehot',\n",
       "                                                    OneHotEncoder(handle_unknown='ignore',\n",
       "                                                                  sparse=False),\n",
       "                                                    ['state_code', 'zip_code',\n",
       "                                                     'city', 'labels', 'is_CA',\n",
       "                                                     'is_NY', 'is_MA', 'is_TX',\n",
       "                                                     'is_otherstate',\n",
       "                                                     'category_code',\n",
       "                                                     'is_software', 'is_web',\n",
       "                                                     'is_mobile', 'is_enterprise',\n",
       "                                                     'is_advertising',\n",
       "                                                     'is_gamesvideo',\n",
       "                                                     'is_ecommerce', 'is_biotech',\n",
       "                                                     'is_con...\n",
       "                                                     'avg_participants', 'has_VC',\n",
       "                                                     'has_angel', 'has_roundA',\n",
       "                                                     'has_roundB', 'has_roundC',\n",
       "                                                     'has_roundD', 'is_top500',\n",
       "                                                     'milestones']),\n",
       "                                                   ('ss', StandardScaler(),\n",
       "                                                    ['latitude', 'longitude',\n",
       "                                                     'age_first_funding_year',\n",
       "                                                     'age_last_funding_year',\n",
       "                                                     'age_first_milestone_year',\n",
       "                                                     'age_last_milestone_year',\n",
       "                                                     'relationships',\n",
       "                                                     'funding_rounds',\n",
       "                                                     'avg_participants',\n",
       "                                                     'funding_total_usd'])])),\n",
       "                  ('regressor', SVC(gamma=0.01))]),\n",
       "  Pipeline(steps=[('preprocessor',\n",
       "                   ColumnTransformer(transformers=[('onehot',\n",
       "                                                    OneHotEncoder(handle_unknown='ignore',\n",
       "                                                                  sparse=False),\n",
       "                                                    ['state_code', 'zip_code',\n",
       "                                                     'city', 'labels', 'is_CA',\n",
       "                                                     'is_NY', 'is_MA', 'is_TX',\n",
       "                                                     'is_otherstate',\n",
       "                                                     'category_code',\n",
       "                                                     'is_software', 'is_web',\n",
       "                                                     'is_mobile', 'is_enterprise',\n",
       "                                                     'is_advertising',\n",
       "                                                     'is_gamesvideo',\n",
       "                                                     'is_ecommerce', 'is_biotech',\n",
       "                                                     'is_con...\n",
       "                                                     'avg_participants', 'has_VC',\n",
       "                                                     'has_angel', 'has_roundA',\n",
       "                                                     'has_roundB', 'has_roundC',\n",
       "                                                     'has_roundD', 'is_top500',\n",
       "                                                     'milestones']),\n",
       "                                                   ('ss', StandardScaler(),\n",
       "                                                    ['latitude', 'longitude',\n",
       "                                                     'age_first_funding_year',\n",
       "                                                     'age_last_funding_year',\n",
       "                                                     'age_first_milestone_year',\n",
       "                                                     'age_last_milestone_year',\n",
       "                                                     'relationships',\n",
       "                                                     'funding_rounds',\n",
       "                                                     'avg_participants',\n",
       "                                                     'funding_total_usd'])])),\n",
       "                  ('regressor', SVC(gamma=0.01))]),\n",
       "  Pipeline(steps=[('preprocessor',\n",
       "                   ColumnTransformer(transformers=[('onehot',\n",
       "                                                    OneHotEncoder(handle_unknown='ignore',\n",
       "                                                                  sparse=False),\n",
       "                                                    ['state_code', 'zip_code',\n",
       "                                                     'city', 'labels', 'is_CA',\n",
       "                                                     'is_NY', 'is_MA', 'is_TX',\n",
       "                                                     'is_otherstate',\n",
       "                                                     'category_code',\n",
       "                                                     'is_software', 'is_web',\n",
       "                                                     'is_mobile', 'is_enterprise',\n",
       "                                                     'is_advertising',\n",
       "                                                     'is_gamesvideo',\n",
       "                                                     'is_ecommerce', 'is_biotech',\n",
       "                                                     'is_con...\n",
       "                                                     'has_angel', 'has_roundA',\n",
       "                                                     'has_roundB', 'has_roundC',\n",
       "                                                     'has_roundD', 'is_top500',\n",
       "                                                     'milestones']),\n",
       "                                                   ('ss', StandardScaler(),\n",
       "                                                    ['latitude', 'longitude',\n",
       "                                                     'age_first_funding_year',\n",
       "                                                     'age_last_funding_year',\n",
       "                                                     'age_first_milestone_year',\n",
       "                                                     'age_last_milestone_year',\n",
       "                                                     'relationships',\n",
       "                                                     'funding_rounds',\n",
       "                                                     'avg_participants',\n",
       "                                                     'funding_total_usd'])])),\n",
       "                  ('regressor', SVC(C=10.0, gamma=0.001))]),\n",
       "  Pipeline(steps=[('preprocessor',\n",
       "                   ColumnTransformer(transformers=[('onehot',\n",
       "                                                    OneHotEncoder(handle_unknown='ignore',\n",
       "                                                                  sparse=False),\n",
       "                                                    ['state_code', 'zip_code',\n",
       "                                                     'city', 'labels', 'is_CA',\n",
       "                                                     'is_NY', 'is_MA', 'is_TX',\n",
       "                                                     'is_otherstate',\n",
       "                                                     'category_code',\n",
       "                                                     'is_software', 'is_web',\n",
       "                                                     'is_mobile', 'is_enterprise',\n",
       "                                                     'is_advertising',\n",
       "                                                     'is_gamesvideo',\n",
       "                                                     'is_ecommerce', 'is_biotech',\n",
       "                                                     'is_con...\n",
       "                                                     'avg_participants', 'has_VC',\n",
       "                                                     'has_angel', 'has_roundA',\n",
       "                                                     'has_roundB', 'has_roundC',\n",
       "                                                     'has_roundD', 'is_top500',\n",
       "                                                     'milestones']),\n",
       "                                                   ('ss', StandardScaler(),\n",
       "                                                    ['latitude', 'longitude',\n",
       "                                                     'age_first_funding_year',\n",
       "                                                     'age_last_funding_year',\n",
       "                                                     'age_first_milestone_year',\n",
       "                                                     'age_last_milestone_year',\n",
       "                                                     'relationships',\n",
       "                                                     'funding_rounds',\n",
       "                                                     'avg_participants',\n",
       "                                                     'funding_total_usd'])])),\n",
       "                  ('regressor', SVC(gamma=0.01))]),\n",
       "  Pipeline(steps=[('preprocessor',\n",
       "                   ColumnTransformer(transformers=[('onehot',\n",
       "                                                    OneHotEncoder(handle_unknown='ignore',\n",
       "                                                                  sparse=False),\n",
       "                                                    ['state_code', 'zip_code',\n",
       "                                                     'city', 'labels', 'is_CA',\n",
       "                                                     'is_NY', 'is_MA', 'is_TX',\n",
       "                                                     'is_otherstate',\n",
       "                                                     'category_code',\n",
       "                                                     'is_software', 'is_web',\n",
       "                                                     'is_mobile', 'is_enterprise',\n",
       "                                                     'is_advertising',\n",
       "                                                     'is_gamesvideo',\n",
       "                                                     'is_ecommerce', 'is_biotech',\n",
       "                                                     'is_con...\n",
       "                                                     'avg_participants', 'has_VC',\n",
       "                                                     'has_angel', 'has_roundA',\n",
       "                                                     'has_roundB', 'has_roundC',\n",
       "                                                     'has_roundD', 'is_top500',\n",
       "                                                     'milestones']),\n",
       "                                                   ('ss', StandardScaler(),\n",
       "                                                    ['latitude', 'longitude',\n",
       "                                                     'age_first_funding_year',\n",
       "                                                     'age_last_funding_year',\n",
       "                                                     'age_first_milestone_year',\n",
       "                                                     'age_last_milestone_year',\n",
       "                                                     'relationships',\n",
       "                                                     'funding_rounds',\n",
       "                                                     'avg_participants',\n",
       "                                                     'funding_total_usd'])])),\n",
       "                  ('regressor', SVC(gamma=0.01))]),\n",
       "  Pipeline(steps=[('preprocessor',\n",
       "                   ColumnTransformer(transformers=[('onehot',\n",
       "                                                    OneHotEncoder(handle_unknown='ignore',\n",
       "                                                                  sparse=False),\n",
       "                                                    ['state_code', 'zip_code',\n",
       "                                                     'city', 'labels', 'is_CA',\n",
       "                                                     'is_NY', 'is_MA', 'is_TX',\n",
       "                                                     'is_otherstate',\n",
       "                                                     'category_code',\n",
       "                                                     'is_software', 'is_web',\n",
       "                                                     'is_mobile', 'is_enterprise',\n",
       "                                                     'is_advertising',\n",
       "                                                     'is_gamesvideo',\n",
       "                                                     'is_ecommerce', 'is_biotech',\n",
       "                                                     'is_con...\n",
       "                                                     'has_angel', 'has_roundA',\n",
       "                                                     'has_roundB', 'has_roundC',\n",
       "                                                     'has_roundD', 'is_top500',\n",
       "                                                     'milestones']),\n",
       "                                                   ('ss', StandardScaler(),\n",
       "                                                    ['latitude', 'longitude',\n",
       "                                                     'age_first_funding_year',\n",
       "                                                     'age_last_funding_year',\n",
       "                                                     'age_first_milestone_year',\n",
       "                                                     'age_last_milestone_year',\n",
       "                                                     'relationships',\n",
       "                                                     'funding_rounds',\n",
       "                                                     'avg_participants',\n",
       "                                                     'funding_total_usd'])])),\n",
       "                  ('regressor', SVC(C=10.0, gamma=0.001))]),\n",
       "  Pipeline(steps=[('preprocessor',\n",
       "                   ColumnTransformer(transformers=[('onehot',\n",
       "                                                    OneHotEncoder(handle_unknown='ignore',\n",
       "                                                                  sparse=False),\n",
       "                                                    ['state_code', 'zip_code',\n",
       "                                                     'city', 'labels', 'is_CA',\n",
       "                                                     'is_NY', 'is_MA', 'is_TX',\n",
       "                                                     'is_otherstate',\n",
       "                                                     'category_code',\n",
       "                                                     'is_software', 'is_web',\n",
       "                                                     'is_mobile', 'is_enterprise',\n",
       "                                                     'is_advertising',\n",
       "                                                     'is_gamesvideo',\n",
       "                                                     'is_ecommerce', 'is_biotech',\n",
       "                                                     'is_con...\n",
       "                                                     'avg_participants', 'has_VC',\n",
       "                                                     'has_angel', 'has_roundA',\n",
       "                                                     'has_roundB', 'has_roundC',\n",
       "                                                     'has_roundD', 'is_top500',\n",
       "                                                     'milestones']),\n",
       "                                                   ('ss', StandardScaler(),\n",
       "                                                    ['latitude', 'longitude',\n",
       "                                                     'age_first_funding_year',\n",
       "                                                     'age_last_funding_year',\n",
       "                                                     'age_first_milestone_year',\n",
       "                                                     'age_last_milestone_year',\n",
       "                                                     'relationships',\n",
       "                                                     'funding_rounds',\n",
       "                                                     'avg_participants',\n",
       "                                                     'funding_total_usd'])])),\n",
       "                  ('regressor', SVC(gamma=0.01))]),\n",
       "  Pipeline(steps=[('preprocessor',\n",
       "                   ColumnTransformer(transformers=[('onehot',\n",
       "                                                    OneHotEncoder(handle_unknown='ignore',\n",
       "                                                                  sparse=False),\n",
       "                                                    ['state_code', 'zip_code',\n",
       "                                                     'city', 'labels', 'is_CA',\n",
       "                                                     'is_NY', 'is_MA', 'is_TX',\n",
       "                                                     'is_otherstate',\n",
       "                                                     'category_code',\n",
       "                                                     'is_software', 'is_web',\n",
       "                                                     'is_mobile', 'is_enterprise',\n",
       "                                                     'is_advertising',\n",
       "                                                     'is_gamesvideo',\n",
       "                                                     'is_ecommerce', 'is_biotech',\n",
       "                                                     'is_con...\n",
       "                                                     'has_angel', 'has_roundA',\n",
       "                                                     'has_roundB', 'has_roundC',\n",
       "                                                     'has_roundD', 'is_top500',\n",
       "                                                     'milestones']),\n",
       "                                                   ('ss', StandardScaler(),\n",
       "                                                    ['latitude', 'longitude',\n",
       "                                                     'age_first_funding_year',\n",
       "                                                     'age_last_funding_year',\n",
       "                                                     'age_first_milestone_year',\n",
       "                                                     'age_last_milestone_year',\n",
       "                                                     'relationships',\n",
       "                                                     'funding_rounds',\n",
       "                                                     'avg_participants',\n",
       "                                                     'funding_total_usd'])])),\n",
       "                  ('regressor', SVC(C=10.0, gamma=0.001))])],\n",
       " [0.9945945945945946,\n",
       "  1.0,\n",
       "  1.0,\n",
       "  1.0,\n",
       "  0.9945945945945946,\n",
       "  1.0,\n",
       "  1.0,\n",
       "  0.9945945945945946,\n",
       "  0.9945945945945946,\n",
       "  0.9945945945945946])"
      ]
     },
     "execution_count": 67,
     "metadata": {},
     "output_type": "execute_result"
    }
   ],
   "source": [
    "ML_algo = SVC()\n",
    "param_grid = {'regressor__C': np.logspace(-3,4,num=8),'regressor__gamma': np.logspace(-3,4,num=8)}\n",
    "ML_pipeline(X, y, preprocessor, ML_algo, param_grid)"
   ]
  },
  {
   "cell_type": "code",
   "execution_count": null,
   "metadata": {},
   "outputs": [],
   "source": []
  },
  {
   "cell_type": "code",
   "execution_count": null,
   "metadata": {},
   "outputs": [],
   "source": [
    "random forest\n",
    "knn class"
   ]
  },
  {
   "cell_type": "code",
   "execution_count": null,
   "metadata": {},
   "outputs": [],
   "source": []
  }
 ],
 "metadata": {
  "kernelspec": {
   "display_name": "Python 3",
   "language": "python",
   "name": "python3"
  },
  "language_info": {
   "codemirror_mode": {
    "name": "ipython",
    "version": 3
   },
   "file_extension": ".py",
   "mimetype": "text/x-python",
   "name": "python",
   "nbconvert_exporter": "python",
   "pygments_lexer": "ipython3",
   "version": "3.7.8"
  }
 },
 "nbformat": 4,
 "nbformat_minor": 4
}
