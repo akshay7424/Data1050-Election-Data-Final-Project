{
 "cells": [
  {
   "cell_type": "code",
   "execution_count": 68,
   "metadata": {},
   "outputs": [],
   "source": [
    "import import_ipynb\n",
    "from ETL_EDA import df\n",
    "import numpy as np\n",
    "import plotly.express as px"
   ]
  },
  {
   "cell_type": "code",
   "execution_count": 69,
   "metadata": {},
   "outputs": [],
   "source": [
    "import pandas as pd\n",
    "import geopandas as gpd\n",
    "import geoplot as gplt\n",
    "import geoplot.crs as gcrs # (projections)\n",
    "# %matplotlib inline\n",
    "from collections import Counter"
   ]
  },
  {
   "cell_type": "code",
   "execution_count": 70,
   "metadata": {},
   "outputs": [],
   "source": [
    "state_counter = Counter()\n",
    "city_counter = Counter()\n",
    "for state in df.state_code:\n",
    "    state_counter[state] += 1\n",
    "for city in df.city:\n",
    "    city_counter[city] += 1\n",
    "# print(state_counter)\n",
    "# print()\n",
    "# print(city_counter)"
   ]
  },
  {
   "cell_type": "code",
   "execution_count": 71,
   "metadata": {},
   "outputs": [
    {
     "data": {
      "text/html": [
       "<div>\n",
       "<style scoped>\n",
       "    .dataframe tbody tr th:only-of-type {\n",
       "        vertical-align: middle;\n",
       "    }\n",
       "\n",
       "    .dataframe tbody tr th {\n",
       "        vertical-align: top;\n",
       "    }\n",
       "\n",
       "    .dataframe thead th {\n",
       "        text-align: right;\n",
       "    }\n",
       "</style>\n",
       "<table border=\"1\" class=\"dataframe\">\n",
       "  <thead>\n",
       "    <tr style=\"text-align: right;\">\n",
       "      <th></th>\n",
       "      <th>state</th>\n",
       "      <th>adm1_code</th>\n",
       "      <th>population</th>\n",
       "      <th>geometry</th>\n",
       "    </tr>\n",
       "  </thead>\n",
       "  <tbody>\n",
       "    <tr>\n",
       "      <th>0</th>\n",
       "      <td>Alabama</td>\n",
       "      <td>USA-3541</td>\n",
       "      <td>4779736</td>\n",
       "      <td>POLYGON ((-85.05442 31.10870, -85.00519 30.990...</td>\n",
       "    </tr>\n",
       "    <tr>\n",
       "      <th>1</th>\n",
       "      <td>Arizona</td>\n",
       "      <td>USA-3520</td>\n",
       "      <td>6392017</td>\n",
       "      <td>POLYGON ((-109.04523 36.99991, -109.04367 31.3...</td>\n",
       "    </tr>\n",
       "    <tr>\n",
       "      <th>2</th>\n",
       "      <td>Arkansas</td>\n",
       "      <td>USA-3528</td>\n",
       "      <td>2915918</td>\n",
       "      <td>POLYGON ((-89.66292 36.02307, -89.67351 35.940...</td>\n",
       "    </tr>\n",
       "  </tbody>\n",
       "</table>\n",
       "</div>"
      ],
      "text/plain": [
       "      state adm1_code  population  \\\n",
       "0   Alabama  USA-3541     4779736   \n",
       "1   Arizona  USA-3520     6392017   \n",
       "2  Arkansas  USA-3528     2915918   \n",
       "\n",
       "                                            geometry  \n",
       "0  POLYGON ((-85.05442 31.10870, -85.00519 30.990...  \n",
       "1  POLYGON ((-109.04523 36.99991, -109.04367 31.3...  \n",
       "2  POLYGON ((-89.66292 36.02307, -89.67351 35.940...  "
      ]
     },
     "execution_count": 71,
     "metadata": {},
     "output_type": "execute_result"
    }
   ],
   "source": [
    "contiguous_usa = gpd.read_file(\n",
    "  gplt.datasets.get_path('contiguous_usa')\n",
    ")\n",
    "contiguous_usa = contiguous_usa.sort_values('state').reset_index(drop=True) # Alphabetize the states list\n",
    "contiguous_usa.head(3)"
   ]
  },
  {
   "cell_type": "code",
   "execution_count": 72,
   "metadata": {},
   "outputs": [
    {
     "data": {
      "text/html": [
       "<div>\n",
       "<style scoped>\n",
       "    .dataframe tbody tr th:only-of-type {\n",
       "        vertical-align: middle;\n",
       "    }\n",
       "\n",
       "    .dataframe tbody tr th {\n",
       "        vertical-align: top;\n",
       "    }\n",
       "\n",
       "    .dataframe thead th {\n",
       "        text-align: right;\n",
       "    }\n",
       "</style>\n",
       "<table border=\"1\" class=\"dataframe\">\n",
       "  <thead>\n",
       "    <tr style=\"text-align: right;\">\n",
       "      <th></th>\n",
       "      <th>State</th>\n",
       "      <th>Abbreviation</th>\n",
       "    </tr>\n",
       "  </thead>\n",
       "  <tbody>\n",
       "    <tr>\n",
       "      <th>0</th>\n",
       "      <td>Alabama</td>\n",
       "      <td>AL</td>\n",
       "    </tr>\n",
       "    <tr>\n",
       "      <th>1</th>\n",
       "      <td>Alaska</td>\n",
       "      <td>AK</td>\n",
       "    </tr>\n",
       "    <tr>\n",
       "      <th>2</th>\n",
       "      <td>Arizona</td>\n",
       "      <td>AZ</td>\n",
       "    </tr>\n",
       "  </tbody>\n",
       "</table>\n",
       "</div>"
      ],
      "text/plain": [
       "     State Abbreviation\n",
       "0  Alabama           AL\n",
       "1   Alaska           AK\n",
       "2  Arizona           AZ"
      ]
     },
     "execution_count": 72,
     "metadata": {},
     "output_type": "execute_result"
    }
   ],
   "source": [
    "url = ('https://raw.githubusercontent.com/'\n",
    "       'jasonong/List-of-US-States/master/states.csv')\n",
    "abbreviations = pd.read_csv(url)\n",
    "abbreviations.head(3)"
   ]
  },
  {
   "cell_type": "code",
   "execution_count": 73,
   "metadata": {},
   "outputs": [],
   "source": [
    "zip_code_5 = [s[:5] for s in list(df.zip_code)]"
   ]
  },
  {
   "cell_type": "code",
   "execution_count": 74,
   "metadata": {},
   "outputs": [
    {
     "data": {
      "text/html": [
       "<div>\n",
       "<style scoped>\n",
       "    .dataframe tbody tr th:only-of-type {\n",
       "        vertical-align: middle;\n",
       "    }\n",
       "\n",
       "    .dataframe tbody tr th {\n",
       "        vertical-align: top;\n",
       "    }\n",
       "\n",
       "    .dataframe thead th {\n",
       "        text-align: right;\n",
       "    }\n",
       "</style>\n",
       "<table border=\"1\" class=\"dataframe\">\n",
       "  <thead>\n",
       "    <tr style=\"text-align: right;\">\n",
       "      <th></th>\n",
       "      <th>Zipcode</th>\n",
       "      <th>Lat</th>\n",
       "      <th>Long</th>\n",
       "      <th>ZipCodeType</th>\n",
       "      <th>City</th>\n",
       "      <th>State</th>\n",
       "      <th>Zipcode_string</th>\n",
       "    </tr>\n",
       "  </thead>\n",
       "  <tbody>\n",
       "    <tr>\n",
       "      <th>12</th>\n",
       "      <td>7675</td>\n",
       "      <td>40.98</td>\n",
       "      <td>-74.03</td>\n",
       "      <td>STANDARD</td>\n",
       "      <td>WESTWOOD</td>\n",
       "      <td>NJ</td>\n",
       "      <td>7675</td>\n",
       "    </tr>\n",
       "    <tr>\n",
       "      <th>13</th>\n",
       "      <td>7677</td>\n",
       "      <td>41.02</td>\n",
       "      <td>-74.05</td>\n",
       "      <td>STANDARD</td>\n",
       "      <td>WOODCLIFF LAKE</td>\n",
       "      <td>NJ</td>\n",
       "      <td>7677</td>\n",
       "    </tr>\n",
       "    <tr>\n",
       "      <th>14</th>\n",
       "      <td>7885</td>\n",
       "      <td>40.89</td>\n",
       "      <td>-74.58</td>\n",
       "      <td>STANDARD</td>\n",
       "      <td>WHARTON</td>\n",
       "      <td>NJ</td>\n",
       "      <td>7885</td>\n",
       "    </tr>\n",
       "    <tr>\n",
       "      <th>15</th>\n",
       "      <td>7981</td>\n",
       "      <td>40.82</td>\n",
       "      <td>-74.41</td>\n",
       "      <td>STANDARD</td>\n",
       "      <td>WHIPPANY</td>\n",
       "      <td>NJ</td>\n",
       "      <td>7981</td>\n",
       "    </tr>\n",
       "    <tr>\n",
       "      <th>16</th>\n",
       "      <td>7999</td>\n",
       "      <td>40.82</td>\n",
       "      <td>-74.41</td>\n",
       "      <td>STANDARD</td>\n",
       "      <td>WHIPPANY</td>\n",
       "      <td>NJ</td>\n",
       "      <td>7999</td>\n",
       "    </tr>\n",
       "    <tr>\n",
       "      <th>...</th>\n",
       "      <td>...</td>\n",
       "      <td>...</td>\n",
       "      <td>...</td>\n",
       "      <td>...</td>\n",
       "      <td>...</td>\n",
       "      <td>...</td>\n",
       "      <td>...</td>\n",
       "    </tr>\n",
       "    <tr>\n",
       "      <th>42507</th>\n",
       "      <td>98492</td>\n",
       "      <td>47.12</td>\n",
       "      <td>-122.55</td>\n",
       "      <td>STANDARD</td>\n",
       "      <td>TACOMA</td>\n",
       "      <td>WA</td>\n",
       "      <td>98492</td>\n",
       "    </tr>\n",
       "    <tr>\n",
       "      <th>42508</th>\n",
       "      <td>98667</td>\n",
       "      <td>45.63</td>\n",
       "      <td>-122.66</td>\n",
       "      <td>UNIQUE</td>\n",
       "      <td>VANCOUVER</td>\n",
       "      <td>WA</td>\n",
       "      <td>98667</td>\n",
       "    </tr>\n",
       "    <tr>\n",
       "      <th>42509</th>\n",
       "      <td>98929</td>\n",
       "      <td>46.74</td>\n",
       "      <td>-121.14</td>\n",
       "      <td>STANDARD</td>\n",
       "      <td>NACHES</td>\n",
       "      <td>WA</td>\n",
       "      <td>98929</td>\n",
       "    </tr>\n",
       "    <tr>\n",
       "      <th>42510</th>\n",
       "      <td>99165</td>\n",
       "      <td>46.73</td>\n",
       "      <td>-117.17</td>\n",
       "      <td>STANDARD</td>\n",
       "      <td>PULLMAN</td>\n",
       "      <td>WA</td>\n",
       "      <td>99165</td>\n",
       "    </tr>\n",
       "    <tr>\n",
       "      <th>42521</th>\n",
       "      <td>97475</td>\n",
       "      <td>44.05</td>\n",
       "      <td>-123.02</td>\n",
       "      <td>PO BOX</td>\n",
       "      <td>SPRINGFIELD</td>\n",
       "      <td>OR</td>\n",
       "      <td>97475</td>\n",
       "    </tr>\n",
       "  </tbody>\n",
       "</table>\n",
       "<p>33585 rows × 7 columns</p>\n",
       "</div>"
      ],
      "text/plain": [
       "       Zipcode    Lat    Long ZipCodeType            City State Zipcode_string\n",
       "12        7675  40.98  -74.03    STANDARD        WESTWOOD    NJ           7675\n",
       "13        7677  41.02  -74.05    STANDARD  WOODCLIFF LAKE    NJ           7677\n",
       "14        7885  40.89  -74.58    STANDARD         WHARTON    NJ           7885\n",
       "15        7981  40.82  -74.41    STANDARD        WHIPPANY    NJ           7981\n",
       "16        7999  40.82  -74.41    STANDARD        WHIPPANY    NJ           7999\n",
       "...        ...    ...     ...         ...             ...   ...            ...\n",
       "42507    98492  47.12 -122.55    STANDARD          TACOMA    WA          98492\n",
       "42508    98667  45.63 -122.66      UNIQUE       VANCOUVER    WA          98667\n",
       "42509    98929  46.74 -121.14    STANDARD          NACHES    WA          98929\n",
       "42510    99165  46.73 -117.17    STANDARD         PULLMAN    WA          99165\n",
       "42521    97475  44.05 -123.02      PO BOX     SPRINGFIELD    OR          97475\n",
       "\n",
       "[33585 rows x 7 columns]"
      ]
     },
     "execution_count": 74,
     "metadata": {},
     "output_type": "execute_result"
    }
   ],
   "source": [
    "zipcodes = pd.read_csv('free-zipcode-database-Primary.csv')\n",
    "zipcodes = zipcodes[['Zipcode','Lat','Long','ZipCodeType','City','State']]\n",
    "\n",
    "startup_states = list(state_counter.keys())\n",
    "zipcodes = zipcodes.query('State in @startup_states')\n",
    "zipcodes = pd.DataFrame(zipcodes)\n",
    "z = list(zipcodes.Zipcode)\n",
    "zipcodes = zipcodes.assign(Zipcode_string = [str(z[i]) for i in range(len(z))])\n",
    "zipcodes"
   ]
  },
  {
   "cell_type": "code",
   "execution_count": 75,
   "metadata": {},
   "outputs": [
    {
     "data": {
      "text/html": [
       "<div>\n",
       "<style scoped>\n",
       "    .dataframe tbody tr th:only-of-type {\n",
       "        vertical-align: middle;\n",
       "    }\n",
       "\n",
       "    .dataframe tbody tr th {\n",
       "        vertical-align: top;\n",
       "    }\n",
       "\n",
       "    .dataframe thead th {\n",
       "        text-align: right;\n",
       "    }\n",
       "</style>\n",
       "<table border=\"1\" class=\"dataframe\">\n",
       "  <thead>\n",
       "    <tr style=\"text-align: right;\">\n",
       "      <th></th>\n",
       "      <th>state_code</th>\n",
       "      <th>latitude</th>\n",
       "      <th>longitude</th>\n",
       "      <th>zip_code</th>\n",
       "      <th>city</th>\n",
       "      <th>name</th>\n",
       "      <th>labels</th>\n",
       "      <th>founded_at</th>\n",
       "      <th>first_funding_at</th>\n",
       "      <th>last_funding_at</th>\n",
       "      <th>...</th>\n",
       "      <th>avg_participants</th>\n",
       "      <th>is_top500</th>\n",
       "      <th>status_closed</th>\n",
       "      <th>Zipcode</th>\n",
       "      <th>Lat</th>\n",
       "      <th>Long</th>\n",
       "      <th>ZipCodeType</th>\n",
       "      <th>City</th>\n",
       "      <th>State</th>\n",
       "      <th>Zipcode_string</th>\n",
       "    </tr>\n",
       "  </thead>\n",
       "  <tbody>\n",
       "    <tr>\n",
       "      <th>0</th>\n",
       "      <td>CA</td>\n",
       "      <td>42.358880</td>\n",
       "      <td>-71.056820</td>\n",
       "      <td>92101</td>\n",
       "      <td>San Diego</td>\n",
       "      <td>Bandsintown</td>\n",
       "      <td>1</td>\n",
       "      <td>2007-01-01</td>\n",
       "      <td>2009-04-01</td>\n",
       "      <td>2010-01-01</td>\n",
       "      <td>...</td>\n",
       "      <td>1.0000</td>\n",
       "      <td>0</td>\n",
       "      <td>0</td>\n",
       "      <td>92101</td>\n",
       "      <td>32.71</td>\n",
       "      <td>-117.16</td>\n",
       "      <td>STANDARD</td>\n",
       "      <td>SAN DIEGO</td>\n",
       "      <td>CA</td>\n",
       "      <td>92101</td>\n",
       "    </tr>\n",
       "    <tr>\n",
       "      <th>1</th>\n",
       "      <td>CA</td>\n",
       "      <td>32.721834</td>\n",
       "      <td>-117.161797</td>\n",
       "      <td>92101</td>\n",
       "      <td>San Diego</td>\n",
       "      <td>Flud</td>\n",
       "      <td>0</td>\n",
       "      <td>2010-10-01</td>\n",
       "      <td>2011-04-13</td>\n",
       "      <td>2012-09-01</td>\n",
       "      <td>...</td>\n",
       "      <td>4.0000</td>\n",
       "      <td>1</td>\n",
       "      <td>1</td>\n",
       "      <td>92101</td>\n",
       "      <td>32.71</td>\n",
       "      <td>-117.16</td>\n",
       "      <td>STANDARD</td>\n",
       "      <td>SAN DIEGO</td>\n",
       "      <td>CA</td>\n",
       "      <td>92101</td>\n",
       "    </tr>\n",
       "    <tr>\n",
       "      <th>2</th>\n",
       "      <td>CA</td>\n",
       "      <td>37.238916</td>\n",
       "      <td>-121.973718</td>\n",
       "      <td>95032</td>\n",
       "      <td>Los Gatos</td>\n",
       "      <td>TriCipher</td>\n",
       "      <td>1</td>\n",
       "      <td>2000-01-01</td>\n",
       "      <td>2005-02-14</td>\n",
       "      <td>2009-12-28</td>\n",
       "      <td>...</td>\n",
       "      <td>4.7500</td>\n",
       "      <td>1</td>\n",
       "      <td>0</td>\n",
       "      <td>95032</td>\n",
       "      <td>37.23</td>\n",
       "      <td>-121.95</td>\n",
       "      <td>STANDARD</td>\n",
       "      <td>LOS GATOS</td>\n",
       "      <td>CA</td>\n",
       "      <td>95032</td>\n",
       "    </tr>\n",
       "    <tr>\n",
       "      <th>3</th>\n",
       "      <td>CA</td>\n",
       "      <td>32.901049</td>\n",
       "      <td>-117.192656</td>\n",
       "      <td>92121</td>\n",
       "      <td>San Diego</td>\n",
       "      <td>Plixi</td>\n",
       "      <td>1</td>\n",
       "      <td>2009-03-18</td>\n",
       "      <td>2010-03-30</td>\n",
       "      <td>2010-03-30</td>\n",
       "      <td>...</td>\n",
       "      <td>4.0000</td>\n",
       "      <td>1</td>\n",
       "      <td>0</td>\n",
       "      <td>92121</td>\n",
       "      <td>32.90</td>\n",
       "      <td>-117.20</td>\n",
       "      <td>STANDARD</td>\n",
       "      <td>SAN DIEGO</td>\n",
       "      <td>CA</td>\n",
       "      <td>92121</td>\n",
       "    </tr>\n",
       "    <tr>\n",
       "      <th>4</th>\n",
       "      <td>CA</td>\n",
       "      <td>32.902266</td>\n",
       "      <td>-117.208340</td>\n",
       "      <td>92121</td>\n",
       "      <td>San Diego</td>\n",
       "      <td>Veoh</td>\n",
       "      <td>1</td>\n",
       "      <td>2004-01-01</td>\n",
       "      <td>2005-07-01</td>\n",
       "      <td>2008-06-03</td>\n",
       "      <td>...</td>\n",
       "      <td>5.0000</td>\n",
       "      <td>1</td>\n",
       "      <td>0</td>\n",
       "      <td>92121</td>\n",
       "      <td>32.90</td>\n",
       "      <td>-117.20</td>\n",
       "      <td>STANDARD</td>\n",
       "      <td>SAN DIEGO</td>\n",
       "      <td>CA</td>\n",
       "      <td>92121</td>\n",
       "    </tr>\n",
       "    <tr>\n",
       "      <th>...</th>\n",
       "      <td>...</td>\n",
       "      <td>...</td>\n",
       "      <td>...</td>\n",
       "      <td>...</td>\n",
       "      <td>...</td>\n",
       "      <td>...</td>\n",
       "      <td>...</td>\n",
       "      <td>...</td>\n",
       "      <td>...</td>\n",
       "      <td>...</td>\n",
       "      <td>...</td>\n",
       "      <td>...</td>\n",
       "      <td>...</td>\n",
       "      <td>...</td>\n",
       "      <td>...</td>\n",
       "      <td>...</td>\n",
       "      <td>...</td>\n",
       "      <td>...</td>\n",
       "      <td>...</td>\n",
       "      <td>...</td>\n",
       "      <td>...</td>\n",
       "    </tr>\n",
       "    <tr>\n",
       "      <th>890</th>\n",
       "      <td>IL</td>\n",
       "      <td>41.808458</td>\n",
       "      <td>-88.073008</td>\n",
       "      <td>60188</td>\n",
       "      <td>Lisle</td>\n",
       "      <td>Univa UD</td>\n",
       "      <td>1</td>\n",
       "      <td>2004-05-10</td>\n",
       "      <td>2005-08-01</td>\n",
       "      <td>2010-03-23</td>\n",
       "      <td>...</td>\n",
       "      <td>5.3333</td>\n",
       "      <td>1</td>\n",
       "      <td>0</td>\n",
       "      <td>60188</td>\n",
       "      <td>41.91</td>\n",
       "      <td>-88.13</td>\n",
       "      <td>STANDARD</td>\n",
       "      <td>CAROL STREAM</td>\n",
       "      <td>IL</td>\n",
       "      <td>60188</td>\n",
       "    </tr>\n",
       "    <tr>\n",
       "      <th>891</th>\n",
       "      <td>TX</td>\n",
       "      <td>29.758938</td>\n",
       "      <td>-95.367697</td>\n",
       "      <td>77046</td>\n",
       "      <td>Houston</td>\n",
       "      <td>U.S. Fiduciary</td>\n",
       "      <td>0</td>\n",
       "      <td>2003-01-01</td>\n",
       "      <td>2007-04-12</td>\n",
       "      <td>2007-04-12</td>\n",
       "      <td>...</td>\n",
       "      <td>2.0000</td>\n",
       "      <td>1</td>\n",
       "      <td>1</td>\n",
       "      <td>77046</td>\n",
       "      <td>29.76</td>\n",
       "      <td>-95.38</td>\n",
       "      <td>STANDARD</td>\n",
       "      <td>HOUSTON</td>\n",
       "      <td>TX</td>\n",
       "      <td>77046</td>\n",
       "    </tr>\n",
       "    <tr>\n",
       "      <th>892</th>\n",
       "      <td>TX</td>\n",
       "      <td>29.739322</td>\n",
       "      <td>-95.444747</td>\n",
       "      <td>77027</td>\n",
       "      <td>Houston</td>\n",
       "      <td>Rudder</td>\n",
       "      <td>0</td>\n",
       "      <td>2006-10-01</td>\n",
       "      <td>2008-01-15</td>\n",
       "      <td>2008-01-15</td>\n",
       "      <td>...</td>\n",
       "      <td>1.0000</td>\n",
       "      <td>0</td>\n",
       "      <td>1</td>\n",
       "      <td>77027</td>\n",
       "      <td>29.76</td>\n",
       "      <td>-95.38</td>\n",
       "      <td>STANDARD</td>\n",
       "      <td>HOUSTON</td>\n",
       "      <td>TX</td>\n",
       "      <td>77027</td>\n",
       "    </tr>\n",
       "    <tr>\n",
       "      <th>893</th>\n",
       "      <td>WI</td>\n",
       "      <td>43.090756</td>\n",
       "      <td>-89.522805</td>\n",
       "      <td>53562</td>\n",
       "      <td>Middleton</td>\n",
       "      <td>Sway</td>\n",
       "      <td>0</td>\n",
       "      <td>2004-12-03</td>\n",
       "      <td>2010-01-19</td>\n",
       "      <td>2010-01-19</td>\n",
       "      <td>...</td>\n",
       "      <td>2.0000</td>\n",
       "      <td>0</td>\n",
       "      <td>1</td>\n",
       "      <td>53562</td>\n",
       "      <td>43.10</td>\n",
       "      <td>-89.50</td>\n",
       "      <td>STANDARD</td>\n",
       "      <td>MIDDLETON</td>\n",
       "      <td>WI</td>\n",
       "      <td>53562</td>\n",
       "    </tr>\n",
       "    <tr>\n",
       "      <th>894</th>\n",
       "      <td>WA</td>\n",
       "      <td>47.802184</td>\n",
       "      <td>-122.196307</td>\n",
       "      <td>98021</td>\n",
       "      <td>Bothell</td>\n",
       "      <td>Dexterra</td>\n",
       "      <td>1</td>\n",
       "      <td>2000-01-01</td>\n",
       "      <td>2005-08-17</td>\n",
       "      <td>2008-10-02</td>\n",
       "      <td>...</td>\n",
       "      <td>5.6000</td>\n",
       "      <td>1</td>\n",
       "      <td>0</td>\n",
       "      <td>98021</td>\n",
       "      <td>47.79</td>\n",
       "      <td>-122.20</td>\n",
       "      <td>STANDARD</td>\n",
       "      <td>BOTHELL</td>\n",
       "      <td>WA</td>\n",
       "      <td>98021</td>\n",
       "    </tr>\n",
       "  </tbody>\n",
       "</table>\n",
       "<p>895 rows × 51 columns</p>\n",
       "</div>"
      ],
      "text/plain": [
       "    state_code   latitude   longitude zip_code       city            name  \\\n",
       "0           CA  42.358880  -71.056820    92101  San Diego     Bandsintown   \n",
       "1           CA  32.721834 -117.161797    92101  San Diego            Flud   \n",
       "2           CA  37.238916 -121.973718    95032  Los Gatos       TriCipher   \n",
       "3           CA  32.901049 -117.192656    92121  San Diego           Plixi   \n",
       "4           CA  32.902266 -117.208340    92121  San Diego            Veoh   \n",
       "..         ...        ...         ...      ...        ...             ...   \n",
       "890         IL  41.808458  -88.073008    60188      Lisle        Univa UD   \n",
       "891         TX  29.758938  -95.367697    77046    Houston  U.S. Fiduciary   \n",
       "892         TX  29.739322  -95.444747    77027    Houston          Rudder   \n",
       "893         WI  43.090756  -89.522805    53562  Middleton            Sway   \n",
       "894         WA  47.802184 -122.196307    98021    Bothell        Dexterra   \n",
       "\n",
       "     labels founded_at first_funding_at last_funding_at  ...  \\\n",
       "0         1 2007-01-01       2009-04-01      2010-01-01  ...   \n",
       "1         0 2010-10-01       2011-04-13      2012-09-01  ...   \n",
       "2         1 2000-01-01       2005-02-14      2009-12-28  ...   \n",
       "3         1 2009-03-18       2010-03-30      2010-03-30  ...   \n",
       "4         1 2004-01-01       2005-07-01      2008-06-03  ...   \n",
       "..      ...        ...              ...             ...  ...   \n",
       "890       1 2004-05-10       2005-08-01      2010-03-23  ...   \n",
       "891       0 2003-01-01       2007-04-12      2007-04-12  ...   \n",
       "892       0 2006-10-01       2008-01-15      2008-01-15  ...   \n",
       "893       0 2004-12-03       2010-01-19      2010-01-19  ...   \n",
       "894       1 2000-01-01       2005-08-17      2008-10-02  ...   \n",
       "\n",
       "     avg_participants  is_top500  status_closed  Zipcode    Lat    Long  \\\n",
       "0              1.0000          0              0    92101  32.71 -117.16   \n",
       "1              4.0000          1              1    92101  32.71 -117.16   \n",
       "2              4.7500          1              0    95032  37.23 -121.95   \n",
       "3              4.0000          1              0    92121  32.90 -117.20   \n",
       "4              5.0000          1              0    92121  32.90 -117.20   \n",
       "..                ...        ...            ...      ...    ...     ...   \n",
       "890            5.3333          1              0    60188  41.91  -88.13   \n",
       "891            2.0000          1              1    77046  29.76  -95.38   \n",
       "892            1.0000          0              1    77027  29.76  -95.38   \n",
       "893            2.0000          0              1    53562  43.10  -89.50   \n",
       "894            5.6000          1              0    98021  47.79 -122.20   \n",
       "\n",
       "     ZipCodeType          City  State  Zipcode_string  \n",
       "0       STANDARD     SAN DIEGO     CA           92101  \n",
       "1       STANDARD     SAN DIEGO     CA           92101  \n",
       "2       STANDARD     LOS GATOS     CA           95032  \n",
       "3       STANDARD     SAN DIEGO     CA           92121  \n",
       "4       STANDARD     SAN DIEGO     CA           92121  \n",
       "..           ...           ...    ...             ...  \n",
       "890     STANDARD  CAROL STREAM     IL           60188  \n",
       "891     STANDARD       HOUSTON     TX           77046  \n",
       "892     STANDARD       HOUSTON     TX           77027  \n",
       "893     STANDARD     MIDDLETON     WI           53562  \n",
       "894     STANDARD       BOTHELL     WA           98021  \n",
       "\n",
       "[895 rows x 51 columns]"
      ]
     },
     "execution_count": 75,
     "metadata": {},
     "output_type": "execute_result"
    }
   ],
   "source": [
    "df_merged = df.merge(zipcodes, left_on='zip_code', right_on='Zipcode_string')\n",
    "df_merged"
   ]
  },
  {
   "cell_type": "markdown",
   "metadata": {},
   "source": [
    "___The original dataset had 922 rows, so we should try to account for the missing 27 rows.___"
   ]
  },
  {
   "cell_type": "code",
   "execution_count": 76,
   "metadata": {},
   "outputs": [
    {
     "name": "stdout",
     "output_type": "stream",
     "text": [
      "45\n",
      "48\n"
     ]
    }
   ],
   "source": [
    "lat_diffs = list(df_merged.assign(lat_diff = df_merged.latitude - df_merged.Lat)['lat_diff'])\n",
    "long_diffs = list(df_merged.assign(long_diff = df_merged.longitude - df_merged.Long)['long_diff'])\n",
    "# print(lat_diffs)\n",
    "# print()\n",
    "# print(long_diffs)\n",
    "print(len([x for x in lat_diffs if x**2 > 1]))\n",
    "print(len([x for x in long_diffs if x**2 > 1]))"
   ]
  },
  {
   "cell_type": "markdown",
   "metadata": {},
   "source": [
    "There are approximately 45 misclassified latitudes and approixmately 48 misclassified longitudes. Good thing we caught these!"
   ]
  },
  {
   "cell_type": "code",
   "execution_count": 77,
   "metadata": {},
   "outputs": [
    {
     "data": {
      "text/html": [
       "<div>\n",
       "<style scoped>\n",
       "    .dataframe tbody tr th:only-of-type {\n",
       "        vertical-align: middle;\n",
       "    }\n",
       "\n",
       "    .dataframe tbody tr th {\n",
       "        vertical-align: top;\n",
       "    }\n",
       "\n",
       "    .dataframe thead th {\n",
       "        text-align: right;\n",
       "    }\n",
       "</style>\n",
       "<table border=\"1\" class=\"dataframe\">\n",
       "  <thead>\n",
       "    <tr style=\"text-align: right;\">\n",
       "      <th></th>\n",
       "      <th>state_code</th>\n",
       "      <th>city</th>\n",
       "      <th>zip_code</th>\n",
       "      <th>Lat</th>\n",
       "      <th>Long</th>\n",
       "      <th>name</th>\n",
       "      <th>status_closed</th>\n",
       "    </tr>\n",
       "  </thead>\n",
       "  <tbody>\n",
       "    <tr>\n",
       "      <th>0</th>\n",
       "      <td>CA</td>\n",
       "      <td>San Diego</td>\n",
       "      <td>92101</td>\n",
       "      <td>32.71</td>\n",
       "      <td>-117.16</td>\n",
       "      <td>Bandsintown</td>\n",
       "      <td>0</td>\n",
       "    </tr>\n",
       "    <tr>\n",
       "      <th>1</th>\n",
       "      <td>CA</td>\n",
       "      <td>San Diego</td>\n",
       "      <td>92101</td>\n",
       "      <td>32.71</td>\n",
       "      <td>-117.16</td>\n",
       "      <td>Flud</td>\n",
       "      <td>1</td>\n",
       "    </tr>\n",
       "    <tr>\n",
       "      <th>2</th>\n",
       "      <td>CA</td>\n",
       "      <td>Los Gatos</td>\n",
       "      <td>95032</td>\n",
       "      <td>37.23</td>\n",
       "      <td>-121.95</td>\n",
       "      <td>TriCipher</td>\n",
       "      <td>0</td>\n",
       "    </tr>\n",
       "    <tr>\n",
       "      <th>3</th>\n",
       "      <td>CA</td>\n",
       "      <td>San Diego</td>\n",
       "      <td>92121</td>\n",
       "      <td>32.90</td>\n",
       "      <td>-117.20</td>\n",
       "      <td>Plixi</td>\n",
       "      <td>0</td>\n",
       "    </tr>\n",
       "    <tr>\n",
       "      <th>4</th>\n",
       "      <td>CA</td>\n",
       "      <td>San Diego</td>\n",
       "      <td>92121</td>\n",
       "      <td>32.90</td>\n",
       "      <td>-117.20</td>\n",
       "      <td>Veoh</td>\n",
       "      <td>0</td>\n",
       "    </tr>\n",
       "  </tbody>\n",
       "</table>\n",
       "</div>"
      ],
      "text/plain": [
       "  state_code       city zip_code    Lat    Long         name  status_closed\n",
       "0         CA  San Diego    92101  32.71 -117.16  Bandsintown              0\n",
       "1         CA  San Diego    92101  32.71 -117.16         Flud              1\n",
       "2         CA  Los Gatos    95032  37.23 -121.95    TriCipher              0\n",
       "3         CA  San Diego    92121  32.90 -117.20        Plixi              0\n",
       "4         CA  San Diego    92121  32.90 -117.20         Veoh              0"
      ]
     },
     "execution_count": 77,
     "metadata": {},
     "output_type": "execute_result"
    }
   ],
   "source": [
    "df_short = df_merged[['state_code','city','zip_code','Lat','Long','name','status_closed']]\n",
    "df_short.head()"
   ]
  },
  {
   "cell_type": "code",
   "execution_count": 78,
   "metadata": {},
   "outputs": [
    {
     "data": {
      "text/html": [
       "<div>\n",
       "<style scoped>\n",
       "    .dataframe tbody tr th:only-of-type {\n",
       "        vertical-align: middle;\n",
       "    }\n",
       "\n",
       "    .dataframe tbody tr th {\n",
       "        vertical-align: top;\n",
       "    }\n",
       "\n",
       "    .dataframe thead th {\n",
       "        text-align: right;\n",
       "    }\n",
       "</style>\n",
       "<table border=\"1\" class=\"dataframe\">\n",
       "  <thead>\n",
       "    <tr style=\"text-align: right;\">\n",
       "      <th></th>\n",
       "      <th>state</th>\n",
       "      <th>geometry</th>\n",
       "      <th>Abbreviation</th>\n",
       "      <th>city</th>\n",
       "      <th>zip_code</th>\n",
       "      <th>Lat</th>\n",
       "      <th>Long</th>\n",
       "      <th>name</th>\n",
       "      <th>status_closed</th>\n",
       "    </tr>\n",
       "  </thead>\n",
       "  <tbody>\n",
       "    <tr>\n",
       "      <th>0</th>\n",
       "      <td>Arizona</td>\n",
       "      <td>POLYGON ((-109.04523 36.99991, -109.04367 31.3...</td>\n",
       "      <td>AZ</td>\n",
       "      <td>Tempe</td>\n",
       "      <td>85281</td>\n",
       "      <td>33.43</td>\n",
       "      <td>-111.91</td>\n",
       "      <td>FetchBack</td>\n",
       "      <td>0</td>\n",
       "    </tr>\n",
       "    <tr>\n",
       "      <th>1</th>\n",
       "      <td>Arizona</td>\n",
       "      <td>POLYGON ((-109.04523 36.99991, -109.04367 31.3...</td>\n",
       "      <td>AZ</td>\n",
       "      <td>Tempe</td>\n",
       "      <td>85284</td>\n",
       "      <td>33.33</td>\n",
       "      <td>-111.93</td>\n",
       "      <td>Andigilog</td>\n",
       "      <td>1</td>\n",
       "    </tr>\n",
       "  </tbody>\n",
       "</table>\n",
       "</div>"
      ],
      "text/plain": [
       "     state                                           geometry Abbreviation  \\\n",
       "0  Arizona  POLYGON ((-109.04523 36.99991, -109.04367 31.3...           AZ   \n",
       "1  Arizona  POLYGON ((-109.04523 36.99991, -109.04367 31.3...           AZ   \n",
       "\n",
       "    city zip_code    Lat    Long       name  status_closed  \n",
       "0  Tempe    85281  33.43 -111.91  FetchBack              0  \n",
       "1  Tempe    85284  33.33 -111.93  Andigilog              1  "
      ]
     },
     "execution_count": 78,
     "metadata": {},
     "output_type": "execute_result"
    }
   ],
   "source": [
    "gdf = (contiguous_usa\n",
    "      .merge(abbreviations, left_on='state', right_on='State')\n",
    "      .merge(df_short, left_on='Abbreviation', right_on='state_code'))\n",
    "\n",
    "gdf = gdf.drop(['adm1_code','population','State','state_code'], axis=1)\n",
    "gdf.head(2)"
   ]
  },
  {
   "cell_type": "code",
   "execution_count": 79,
   "metadata": {},
   "outputs": [
    {
     "data": {
      "text/html": [
       "<div>\n",
       "<style scoped>\n",
       "    .dataframe tbody tr th:only-of-type {\n",
       "        vertical-align: middle;\n",
       "    }\n",
       "\n",
       "    .dataframe tbody tr th {\n",
       "        vertical-align: top;\n",
       "    }\n",
       "\n",
       "    .dataframe thead th {\n",
       "        text-align: right;\n",
       "    }\n",
       "</style>\n",
       "<table border=\"1\" class=\"dataframe\">\n",
       "  <thead>\n",
       "    <tr style=\"text-align: right;\">\n",
       "      <th></th>\n",
       "      <th>state</th>\n",
       "      <th>total</th>\n",
       "      <th>success_rt</th>\n",
       "    </tr>\n",
       "  </thead>\n",
       "  <tbody>\n",
       "    <tr>\n",
       "      <th>0</th>\n",
       "      <td>Arizona</td>\n",
       "      <td>2</td>\n",
       "      <td>0.500000</td>\n",
       "    </tr>\n",
       "    <tr>\n",
       "      <th>1</th>\n",
       "      <td>Arkansas</td>\n",
       "      <td>1</td>\n",
       "      <td>0.000000</td>\n",
       "    </tr>\n",
       "    <tr>\n",
       "      <th>2</th>\n",
       "      <td>California</td>\n",
       "      <td>467</td>\n",
       "      <td>0.676660</td>\n",
       "    </tr>\n",
       "    <tr>\n",
       "      <th>3</th>\n",
       "      <td>Colorado</td>\n",
       "      <td>19</td>\n",
       "      <td>0.736842</td>\n",
       "    </tr>\n",
       "    <tr>\n",
       "      <th>4</th>\n",
       "      <td>Connecticut</td>\n",
       "      <td>4</td>\n",
       "      <td>0.000000</td>\n",
       "    </tr>\n",
       "  </tbody>\n",
       "</table>\n",
       "</div>"
      ],
      "text/plain": [
       "         state  total  success_rt\n",
       "0      Arizona      2    0.500000\n",
       "1     Arkansas      1    0.000000\n",
       "2   California    467    0.676660\n",
       "3     Colorado     19    0.736842\n",
       "4  Connecticut      4    0.000000"
      ]
     },
     "execution_count": 79,
     "metadata": {},
     "output_type": "execute_result"
    }
   ],
   "source": [
    "df_by_state = gdf.groupby('state').agg('mean').reset_index().drop(['Lat','Long'], axis=1)\n",
    "\n",
    "startup_count = list(gdf.groupby('state').agg('count').reset_index().drop(['Lat','Long'], axis=1).status_closed)\n",
    "# print(startup_count)\n",
    "df_by_state = df_by_state.assign(total = startup_count)\n",
    "df_by_state = df_by_state.assign(success_rt = 1-df_by_state.status_closed).drop('status_closed', axis=1)\n",
    "df_by_state.head()"
   ]
  },
  {
   "cell_type": "code",
   "execution_count": 80,
   "metadata": {},
   "outputs": [
    {
     "data": {
      "text/html": [
       "<div>\n",
       "<style scoped>\n",
       "    .dataframe tbody tr th:only-of-type {\n",
       "        vertical-align: middle;\n",
       "    }\n",
       "\n",
       "    .dataframe tbody tr th {\n",
       "        vertical-align: top;\n",
       "    }\n",
       "\n",
       "    .dataframe thead th {\n",
       "        text-align: right;\n",
       "    }\n",
       "</style>\n",
       "<table border=\"1\" class=\"dataframe\">\n",
       "  <thead>\n",
       "    <tr style=\"text-align: right;\">\n",
       "      <th></th>\n",
       "      <th>state</th>\n",
       "      <th>total</th>\n",
       "      <th>success_rt</th>\n",
       "      <th>geometry</th>\n",
       "    </tr>\n",
       "  </thead>\n",
       "  <tbody>\n",
       "    <tr>\n",
       "      <th>0</th>\n",
       "      <td>Arizona</td>\n",
       "      <td>2</td>\n",
       "      <td>0.500000</td>\n",
       "      <td>POLYGON ((-109.04523 36.99991, -109.04367 31.3...</td>\n",
       "    </tr>\n",
       "    <tr>\n",
       "      <th>1</th>\n",
       "      <td>Arkansas</td>\n",
       "      <td>1</td>\n",
       "      <td>0.000000</td>\n",
       "      <td>POLYGON ((-89.66292 36.02307, -89.67351 35.940...</td>\n",
       "    </tr>\n",
       "    <tr>\n",
       "      <th>2</th>\n",
       "      <td>California</td>\n",
       "      <td>467</td>\n",
       "      <td>0.676660</td>\n",
       "      <td>POLYGON ((-114.35490 34.46467, -114.16597 34.2...</td>\n",
       "    </tr>\n",
       "    <tr>\n",
       "      <th>3</th>\n",
       "      <td>Colorado</td>\n",
       "      <td>19</td>\n",
       "      <td>0.736842</td>\n",
       "      <td>POLYGON ((-102.05017 40.00082, -102.04012 38.4...</td>\n",
       "    </tr>\n",
       "    <tr>\n",
       "      <th>4</th>\n",
       "      <td>Connecticut</td>\n",
       "      <td>4</td>\n",
       "      <td>0.000000</td>\n",
       "      <td>POLYGON ((-72.87617 41.22056, -73.64789 40.953...</td>\n",
       "    </tr>\n",
       "  </tbody>\n",
       "</table>\n",
       "</div>"
      ],
      "text/plain": [
       "         state  total  success_rt  \\\n",
       "0      Arizona      2    0.500000   \n",
       "1     Arkansas      1    0.000000   \n",
       "2   California    467    0.676660   \n",
       "3     Colorado     19    0.736842   \n",
       "4  Connecticut      4    0.000000   \n",
       "\n",
       "                                            geometry  \n",
       "0  POLYGON ((-109.04523 36.99991, -109.04367 31.3...  \n",
       "1  POLYGON ((-89.66292 36.02307, -89.67351 35.940...  \n",
       "2  POLYGON ((-114.35490 34.46467, -114.16597 34.2...  \n",
       "3  POLYGON ((-102.05017 40.00082, -102.04012 38.4...  \n",
       "4  POLYGON ((-72.87617 41.22056, -73.64789 40.953...  "
      ]
     },
     "execution_count": 80,
     "metadata": {},
     "output_type": "execute_result"
    }
   ],
   "source": [
    "gdf_by_state = df_by_state.merge(contiguous_usa, left_on='state', right_on='state').drop(['adm1_code','population'], axis=1)\n",
    "gdf_by_state = gpd.GeoDataFrame(gdf_by_state)\n",
    "gdf_by_state.head()"
   ]
  },
  {
   "cell_type": "code",
   "execution_count": 81,
   "metadata": {},
   "outputs": [
    {
     "data": {
      "text/plain": [
       "<cartopy.mpl.geoaxes.GeoAxesSubplot at 0x7ff2d9213c50>"
      ]
     },
     "execution_count": 81,
     "metadata": {},
     "output_type": "execute_result"
    },
    {
     "data": {
      "image/png": "[encoded data removed]",
      "text/plain": [
       "<Figure size 1440x576 with 2 Axes>"
      ]
     },
     "metadata": {
      "needs_background": "light"
     },
     "output_type": "display_data"
    }
   ],
   "source": [
    "gplt.choropleth(\n",
    "    gdf_by_state,\n",
    "    hue='success_rt',\n",
    "    cmap='RdYlGn',\n",
    "    edgecolor='Black',\n",
    "    legend=True,\n",
    "    projection=gcrs.AlbersEqualArea(),\n",
    "    figsize=(20, 8)\n",
    ")"
   ]
  },
  {
   "cell_type": "code",
   "execution_count": 82,
   "metadata": {},
   "outputs": [
    {
     "data": {
      "text/html": [
       "<div>\n",
       "<style scoped>\n",
       "    .dataframe tbody tr th:only-of-type {\n",
       "        vertical-align: middle;\n",
       "    }\n",
       "\n",
       "    .dataframe tbody tr th {\n",
       "        vertical-align: top;\n",
       "    }\n",
       "\n",
       "    .dataframe thead th {\n",
       "        text-align: right;\n",
       "    }\n",
       "</style>\n",
       "<table border=\"1\" class=\"dataframe\">\n",
       "  <thead>\n",
       "    <tr style=\"text-align: right;\">\n",
       "      <th></th>\n",
       "      <th>state</th>\n",
       "      <th>geometry</th>\n",
       "      <th>Abbreviation</th>\n",
       "      <th>city</th>\n",
       "      <th>zip_code</th>\n",
       "      <th>Lat</th>\n",
       "      <th>Long</th>\n",
       "      <th>name</th>\n",
       "      <th>status_closed</th>\n",
       "    </tr>\n",
       "  </thead>\n",
       "  <tbody>\n",
       "    <tr>\n",
       "      <th>0</th>\n",
       "      <td>Arizona</td>\n",
       "      <td>POLYGON ((-109.04523 36.99991, -109.04367 31.3...</td>\n",
       "      <td>AZ</td>\n",
       "      <td>Tempe</td>\n",
       "      <td>85281</td>\n",
       "      <td>33.43</td>\n",
       "      <td>-111.91</td>\n",
       "      <td>FetchBack</td>\n",
       "      <td>0</td>\n",
       "    </tr>\n",
       "    <tr>\n",
       "      <th>1</th>\n",
       "      <td>Arizona</td>\n",
       "      <td>POLYGON ((-109.04523 36.99991, -109.04367 31.3...</td>\n",
       "      <td>AZ</td>\n",
       "      <td>Tempe</td>\n",
       "      <td>85284</td>\n",
       "      <td>33.33</td>\n",
       "      <td>-111.93</td>\n",
       "      <td>Andigilog</td>\n",
       "      <td>1</td>\n",
       "    </tr>\n",
       "    <tr>\n",
       "      <th>2</th>\n",
       "      <td>Arkansas</td>\n",
       "      <td>POLYGON ((-89.66292 36.02307, -89.67351 35.940...</td>\n",
       "      <td>AR</td>\n",
       "      <td>Little Rock</td>\n",
       "      <td>72201</td>\n",
       "      <td>34.72</td>\n",
       "      <td>-92.35</td>\n",
       "      <td>JavaJobs</td>\n",
       "      <td>1</td>\n",
       "    </tr>\n",
       "    <tr>\n",
       "      <th>3</th>\n",
       "      <td>California</td>\n",
       "      <td>POLYGON ((-114.35490 34.46467, -114.16597 34.2...</td>\n",
       "      <td>CA</td>\n",
       "      <td>San Diego</td>\n",
       "      <td>92101</td>\n",
       "      <td>32.71</td>\n",
       "      <td>-117.16</td>\n",
       "      <td>Bandsintown</td>\n",
       "      <td>0</td>\n",
       "    </tr>\n",
       "    <tr>\n",
       "      <th>4</th>\n",
       "      <td>California</td>\n",
       "      <td>POLYGON ((-114.35490 34.46467, -114.16597 34.2...</td>\n",
       "      <td>CA</td>\n",
       "      <td>San Diego</td>\n",
       "      <td>92101</td>\n",
       "      <td>32.71</td>\n",
       "      <td>-117.16</td>\n",
       "      <td>Flud</td>\n",
       "      <td>1</td>\n",
       "    </tr>\n",
       "  </tbody>\n",
       "</table>\n",
       "</div>"
      ],
      "text/plain": [
       "        state                                           geometry Abbreviation  \\\n",
       "0     Arizona  POLYGON ((-109.04523 36.99991, -109.04367 31.3...           AZ   \n",
       "1     Arizona  POLYGON ((-109.04523 36.99991, -109.04367 31.3...           AZ   \n",
       "2    Arkansas  POLYGON ((-89.66292 36.02307, -89.67351 35.940...           AR   \n",
       "3  California  POLYGON ((-114.35490 34.46467, -114.16597 34.2...           CA   \n",
       "4  California  POLYGON ((-114.35490 34.46467, -114.16597 34.2...           CA   \n",
       "\n",
       "          city zip_code    Lat    Long         name  status_closed  \n",
       "0        Tempe    85281  33.43 -111.91    FetchBack              0  \n",
       "1        Tempe    85284  33.33 -111.93    Andigilog              1  \n",
       "2  Little Rock    72201  34.72  -92.35     JavaJobs              1  \n",
       "3    San Diego    92101  32.71 -117.16  Bandsintown              0  \n",
       "4    San Diego    92101  32.71 -117.16         Flud              1  "
      ]
     },
     "execution_count": 82,
     "metadata": {},
     "output_type": "execute_result"
    }
   ],
   "source": [
    "gdf.head()"
   ]
  },
  {
   "cell_type": "code",
   "execution_count": 83,
   "metadata": {},
   "outputs": [
    {
     "data": {
      "text/html": [
       "<div>\n",
       "<style scoped>\n",
       "    .dataframe tbody tr th:only-of-type {\n",
       "        vertical-align: middle;\n",
       "    }\n",
       "\n",
       "    .dataframe tbody tr th {\n",
       "        vertical-align: top;\n",
       "    }\n",
       "\n",
       "    .dataframe thead th {\n",
       "        text-align: right;\n",
       "    }\n",
       "</style>\n",
       "<table border=\"1\" class=\"dataframe\">\n",
       "  <thead>\n",
       "    <tr style=\"text-align: right;\">\n",
       "      <th></th>\n",
       "      <th>state</th>\n",
       "      <th>geometry</th>\n",
       "      <th>Abbreviation</th>\n",
       "      <th>city</th>\n",
       "      <th>zip_code</th>\n",
       "      <th>Lat</th>\n",
       "      <th>Long</th>\n",
       "      <th>name</th>\n",
       "      <th>status_closed</th>\n",
       "    </tr>\n",
       "  </thead>\n",
       "  <tbody>\n",
       "    <tr>\n",
       "      <th>0</th>\n",
       "      <td>Arizona</td>\n",
       "      <td>POINT (-111.91000 33.43000)</td>\n",
       "      <td>AZ</td>\n",
       "      <td>Tempe</td>\n",
       "      <td>85281</td>\n",
       "      <td>33.43</td>\n",
       "      <td>-111.91</td>\n",
       "      <td>FetchBack</td>\n",
       "      <td>0</td>\n",
       "    </tr>\n",
       "    <tr>\n",
       "      <th>1</th>\n",
       "      <td>Arizona</td>\n",
       "      <td>POINT (-111.93000 33.33000)</td>\n",
       "      <td>AZ</td>\n",
       "      <td>Tempe</td>\n",
       "      <td>85284</td>\n",
       "      <td>33.33</td>\n",
       "      <td>-111.93</td>\n",
       "      <td>Andigilog</td>\n",
       "      <td>1</td>\n",
       "    </tr>\n",
       "    <tr>\n",
       "      <th>2</th>\n",
       "      <td>Arkansas</td>\n",
       "      <td>POINT (-92.35000 34.72000)</td>\n",
       "      <td>AR</td>\n",
       "      <td>Little Rock</td>\n",
       "      <td>72201</td>\n",
       "      <td>34.72</td>\n",
       "      <td>-92.35</td>\n",
       "      <td>JavaJobs</td>\n",
       "      <td>1</td>\n",
       "    </tr>\n",
       "    <tr>\n",
       "      <th>3</th>\n",
       "      <td>California</td>\n",
       "      <td>POINT (-117.16000 32.71000)</td>\n",
       "      <td>CA</td>\n",
       "      <td>San Diego</td>\n",
       "      <td>92101</td>\n",
       "      <td>32.71</td>\n",
       "      <td>-117.16</td>\n",
       "      <td>Bandsintown</td>\n",
       "      <td>0</td>\n",
       "    </tr>\n",
       "    <tr>\n",
       "      <th>4</th>\n",
       "      <td>California</td>\n",
       "      <td>POINT (-117.16000 32.71000)</td>\n",
       "      <td>CA</td>\n",
       "      <td>San Diego</td>\n",
       "      <td>92101</td>\n",
       "      <td>32.71</td>\n",
       "      <td>-117.16</td>\n",
       "      <td>Flud</td>\n",
       "      <td>1</td>\n",
       "    </tr>\n",
       "    <tr>\n",
       "      <th>...</th>\n",
       "      <td>...</td>\n",
       "      <td>...</td>\n",
       "      <td>...</td>\n",
       "      <td>...</td>\n",
       "      <td>...</td>\n",
       "      <td>...</td>\n",
       "      <td>...</td>\n",
       "      <td>...</td>\n",
       "      <td>...</td>\n",
       "    </tr>\n",
       "    <tr>\n",
       "      <th>890</th>\n",
       "      <td>Washington</td>\n",
       "      <td>POINT (-122.12000 47.68000)</td>\n",
       "      <td>WA</td>\n",
       "      <td>Redmond</td>\n",
       "      <td>98052</td>\n",
       "      <td>47.68</td>\n",
       "      <td>-122.12</td>\n",
       "      <td>Sampa</td>\n",
       "      <td>1</td>\n",
       "    </tr>\n",
       "    <tr>\n",
       "      <th>891</th>\n",
       "      <td>Washington</td>\n",
       "      <td>POINT (-122.14000 47.55000)</td>\n",
       "      <td>WA</td>\n",
       "      <td>Bellevue</td>\n",
       "      <td>98006</td>\n",
       "      <td>47.55</td>\n",
       "      <td>-122.14</td>\n",
       "      <td>Napera Networks</td>\n",
       "      <td>0</td>\n",
       "    </tr>\n",
       "    <tr>\n",
       "      <th>892</th>\n",
       "      <td>Washington</td>\n",
       "      <td>POINT (-122.20000 47.79000)</td>\n",
       "      <td>WA</td>\n",
       "      <td>Bothell</td>\n",
       "      <td>98021</td>\n",
       "      <td>47.79</td>\n",
       "      <td>-122.20</td>\n",
       "      <td>Dexterra</td>\n",
       "      <td>0</td>\n",
       "    </tr>\n",
       "    <tr>\n",
       "      <th>893</th>\n",
       "      <td>West Virginia</td>\n",
       "      <td>POINT (-77.88000 39.38000)</td>\n",
       "      <td>WV</td>\n",
       "      <td>Kearneysville</td>\n",
       "      <td>25430</td>\n",
       "      <td>39.38</td>\n",
       "      <td>-77.88</td>\n",
       "      <td>Plethora Technology</td>\n",
       "      <td>1</td>\n",
       "    </tr>\n",
       "    <tr>\n",
       "      <th>894</th>\n",
       "      <td>Wisconsin</td>\n",
       "      <td>POINT (-89.50000 43.10000)</td>\n",
       "      <td>WI</td>\n",
       "      <td>Middleton</td>\n",
       "      <td>53562</td>\n",
       "      <td>43.10</td>\n",
       "      <td>-89.50</td>\n",
       "      <td>Sway</td>\n",
       "      <td>1</td>\n",
       "    </tr>\n",
       "  </tbody>\n",
       "</table>\n",
       "<p>895 rows × 9 columns</p>\n",
       "</div>"
      ],
      "text/plain": [
       "             state                     geometry Abbreviation           city  \\\n",
       "0          Arizona  POINT (-111.91000 33.43000)           AZ          Tempe   \n",
       "1          Arizona  POINT (-111.93000 33.33000)           AZ          Tempe   \n",
       "2         Arkansas   POINT (-92.35000 34.72000)           AR    Little Rock   \n",
       "3       California  POINT (-117.16000 32.71000)           CA      San Diego   \n",
       "4       California  POINT (-117.16000 32.71000)           CA      San Diego   \n",
       "..             ...                          ...          ...            ...   \n",
       "890     Washington  POINT (-122.12000 47.68000)           WA        Redmond   \n",
       "891     Washington  POINT (-122.14000 47.55000)           WA       Bellevue   \n",
       "892     Washington  POINT (-122.20000 47.79000)           WA        Bothell   \n",
       "893  West Virginia   POINT (-77.88000 39.38000)           WV  Kearneysville   \n",
       "894      Wisconsin   POINT (-89.50000 43.10000)           WI      Middleton   \n",
       "\n",
       "    zip_code    Lat    Long                 name  status_closed  \n",
       "0      85281  33.43 -111.91            FetchBack              0  \n",
       "1      85284  33.33 -111.93            Andigilog              1  \n",
       "2      72201  34.72  -92.35             JavaJobs              1  \n",
       "3      92101  32.71 -117.16          Bandsintown              0  \n",
       "4      92101  32.71 -117.16                 Flud              1  \n",
       "..       ...    ...     ...                  ...            ...  \n",
       "890    98052  47.68 -122.12                Sampa              1  \n",
       "891    98006  47.55 -122.14      Napera Networks              0  \n",
       "892    98021  47.79 -122.20             Dexterra              0  \n",
       "893    25430  39.38  -77.88  Plethora Technology              1  \n",
       "894    53562  43.10  -89.50                 Sway              1  \n",
       "\n",
       "[895 rows x 9 columns]"
      ]
     },
     "execution_count": 83,
     "metadata": {},
     "output_type": "execute_result"
    }
   ],
   "source": [
    "gdf_pts = gdf.assign(geometry=gpd.points_from_xy(gdf.Long, gdf.Lat))\n",
    "gdf_pts.drop('geometry', axis=1)\n",
    "gdf_pts"
   ]
  },
  {
   "cell_type": "code",
   "execution_count": 84,
   "metadata": {},
   "outputs": [],
   "source": [
    "gdf_pts = gdf_pts.assign(status_acquired = 1 - gdf_pts.status_closed)"
   ]
  },
  {
   "cell_type": "code",
   "execution_count": 85,
   "metadata": {},
   "outputs": [
    {
     "data": {
      "text/plain": [
       "<cartopy.mpl.geoaxes.GeoAxesSubplot at 0x7ff2e8382e90>"
      ]
     },
     "execution_count": 85,
     "metadata": {},
     "output_type": "execute_result"
    },
    {
     "data": {
      "image/png": "[encoded data removed]",
      "text/plain": [
       "<Figure size 864x864 with 1 Axes>"
      ]
     },
     "metadata": {
      "needs_background": "light"
     },
     "output_type": "display_data"
    }
   ],
   "source": [
    "ax = gplt.polyplot(\n",
    "    contiguous_usa,\n",
    "    projection=gcrs.AlbersEqualArea(),\n",
    "    figsize=(12,12)\n",
    ")\n",
    "\n",
    "gplt.pointplot(gdf_pts,\n",
    "               ax=ax,\n",
    "               hue='status_acquired',\n",
    "               cmap='RdYlGn',\n",
    "               scale='status_acquired', limits=(4,4))\n"
   ]
  },
  {
   "cell_type": "code",
   "execution_count": 86,
   "metadata": {},
   "outputs": [
    {
     "name": "stdout",
     "output_type": "stream",
     "text": [
      "{'CA': 487, 'NY': 106, 'MA': 83, 'TX': 42, 'WA': 42}\n"
     ]
    }
   ],
   "source": [
    "top_5 = dict((df['state_code'].value_counts())[:5])\n",
    "print(top_5)"
   ]
  },
  {
   "cell_type": "code",
   "execution_count": 87,
   "metadata": {},
   "outputs": [
    {
     "data": {
      "text/html": [
       "<div>\n",
       "<style scoped>\n",
       "    .dataframe tbody tr th:only-of-type {\n",
       "        vertical-align: middle;\n",
       "    }\n",
       "\n",
       "    .dataframe tbody tr th {\n",
       "        vertical-align: top;\n",
       "    }\n",
       "\n",
       "    .dataframe thead th {\n",
       "        text-align: right;\n",
       "    }\n",
       "</style>\n",
       "<table border=\"1\" class=\"dataframe\">\n",
       "  <thead>\n",
       "    <tr style=\"text-align: right;\">\n",
       "      <th></th>\n",
       "      <th>relationships</th>\n",
       "      <th>funding_rounds</th>\n",
       "      <th>status</th>\n",
       "    </tr>\n",
       "  </thead>\n",
       "  <tbody>\n",
       "    <tr>\n",
       "      <th>0</th>\n",
       "      <td>3</td>\n",
       "      <td>3</td>\n",
       "      <td>acquired</td>\n",
       "    </tr>\n",
       "    <tr>\n",
       "      <th>1</th>\n",
       "      <td>9</td>\n",
       "      <td>4</td>\n",
       "      <td>acquired</td>\n",
       "    </tr>\n",
       "    <tr>\n",
       "      <th>2</th>\n",
       "      <td>5</td>\n",
       "      <td>1</td>\n",
       "      <td>acquired</td>\n",
       "    </tr>\n",
       "    <tr>\n",
       "      <th>3</th>\n",
       "      <td>5</td>\n",
       "      <td>3</td>\n",
       "      <td>acquired</td>\n",
       "    </tr>\n",
       "    <tr>\n",
       "      <th>4</th>\n",
       "      <td>2</td>\n",
       "      <td>2</td>\n",
       "      <td>closed</td>\n",
       "    </tr>\n",
       "    <tr>\n",
       "      <th>...</th>\n",
       "      <td>...</td>\n",
       "      <td>...</td>\n",
       "      <td>...</td>\n",
       "    </tr>\n",
       "    <tr>\n",
       "      <th>918</th>\n",
       "      <td>9</td>\n",
       "      <td>1</td>\n",
       "      <td>acquired</td>\n",
       "    </tr>\n",
       "    <tr>\n",
       "      <th>919</th>\n",
       "      <td>1</td>\n",
       "      <td>3</td>\n",
       "      <td>closed</td>\n",
       "    </tr>\n",
       "    <tr>\n",
       "      <th>920</th>\n",
       "      <td>5</td>\n",
       "      <td>1</td>\n",
       "      <td>closed</td>\n",
       "    </tr>\n",
       "    <tr>\n",
       "      <th>921</th>\n",
       "      <td>12</td>\n",
       "      <td>2</td>\n",
       "      <td>acquired</td>\n",
       "    </tr>\n",
       "    <tr>\n",
       "      <th>922</th>\n",
       "      <td>4</td>\n",
       "      <td>1</td>\n",
       "      <td>acquired</td>\n",
       "    </tr>\n",
       "  </tbody>\n",
       "</table>\n",
       "<p>922 rows × 3 columns</p>\n",
       "</div>"
      ],
      "text/plain": [
       "     relationships  funding_rounds    status\n",
       "0                3               3  acquired\n",
       "1                9               4  acquired\n",
       "2                5               1  acquired\n",
       "3                5               3  acquired\n",
       "4                2               2    closed\n",
       "..             ...             ...       ...\n",
       "918              9               1  acquired\n",
       "919              1               3    closed\n",
       "920              5               1    closed\n",
       "921             12               2  acquired\n",
       "922              4               1  acquired\n",
       "\n",
       "[922 rows x 3 columns]"
      ]
     },
     "execution_count": 87,
     "metadata": {},
     "output_type": "execute_result"
    }
   ],
   "source": [
    "status = ['closed' if entry == 1 else 'acquired' for entry in df.status_closed]\n",
    "df2 = df.assign(status = status).drop('status_closed', axis=1)\n",
    "df2[['relationships', 'funding_rounds', 'status']]"
   ]
  },
  {
   "cell_type": "code",
   "execution_count": 88,
   "metadata": {},
   "outputs": [],
   "source": [
    "grouped_by_state = df2.groupby('state_code')\n",
    "\n",
    "top_5_dfs = []\n",
    "figure_dict_strip = {}\n",
    "figure_dict_scatter = {}\n",
    "figure_dict_density_contour = {}\n",
    "    \n",
    "\n",
    "\n",
    "for name in top_5.keys():\n",
    "    state_df = grouped_by_state.get_group(name)\n",
    "    top_5_dfs.append(state_df)\n",
    "    sub_state_df = state_df[['state_code','relationships', 'funding_rounds', 'status']]\n",
    "    \n",
    "    fig = px.scatter(sub_state_df, \n",
    "                     x='relationships', \n",
    "                     y='funding_rounds', \n",
    "                     color='status', \n",
    "                     color_discrete_map={'acquired':'green', 'closed':'red'}, \n",
    "                     title=name, \n",
    "                     opacity=0.3, \n",
    "                     log_x=False, \n",
    "                     log_y=False\n",
    "                    )\n",
    "    figure_dict_scatter[name] = fig\n",
    "    \n",
    "    "
   ]
  },
  {
   "cell_type": "markdown",
   "metadata": {},
   "source": [
    "Show California's chart just as an example:"
   ]
  },
  {
   "cell_type": "code",
   "execution_count": 89,
   "metadata": {},
   "outputs": [
    {
     "data": {
      "application/vnd.plotly.v1+json": {
       "config": {
        "plotlyServerURL": "https://plot.ly"
       },
       "data": [
        {
         "hovertemplate": "status=acquired<br>relationships=%{x}<br>funding_rounds=%{y}<extra></extra>",
         "legendgroup": "acquired",
         "marker": {
          "color": "green",
          "opacity": 0.3,
          "symbol": "circle"
         },
         "mode": "markers",
         "name": "acquired",
         "orientation": "v",
         "showlegend": true,
         "type": "scatter",
         "x": [
          3,
          9,
          5,
          5,
          6,
          25,
          14,
          22,
          7,
          7,
          2,
          5,
          3,
          10,
          25,
          4,
          6,
          11,
          5,
          37,
          13,
          18,
          10,
          4,
          7,
          9,
          15,
          3,
          17,
          12,
          11,
          3,
          7,
          5,
          7,
          24,
          7,
          16,
          21,
          5,
          11,
          1,
          10,
          10,
          6,
          14,
          2,
          9,
          9,
          27,
          13,
          6,
          4,
          11,
          6,
          4,
          5,
          10,
          2,
          5,
          6,
          6,
          5,
          13,
          5,
          4,
          15,
          5,
          7,
          8,
          15,
          10,
          5,
          12,
          10,
          4,
          6,
          5,
          14,
          7,
          1,
          25,
          4,
          12,
          7,
          9,
          15,
          16,
          8,
          11,
          3,
          5,
          8,
          3,
          9,
          11,
          5,
          1,
          4,
          10,
          12,
          2,
          27,
          8,
          2,
          57,
          12,
          5,
          20,
          10,
          16,
          5,
          9,
          16,
          5,
          13,
          10,
          7,
          8,
          13,
          10,
          10,
          2,
          19,
          18,
          14,
          18,
          5,
          3,
          3,
          7,
          21,
          6,
          13,
          14,
          3,
          17,
          11,
          3,
          7,
          21,
          8,
          7,
          9,
          6,
          7,
          5,
          4,
          6,
          15,
          3,
          4,
          29,
          10,
          5,
          6,
          5,
          22,
          10,
          9,
          3,
          7,
          6,
          9,
          16,
          10,
          5,
          11,
          27,
          63,
          4,
          5,
          7,
          15,
          30,
          6,
          2,
          17,
          42,
          6,
          4,
          5,
          10,
          5,
          28,
          9,
          0,
          13,
          21,
          12,
          19,
          5,
          2,
          4,
          5,
          3,
          37,
          11,
          19,
          12,
          5,
          16,
          6,
          8,
          38,
          6,
          14,
          19,
          4,
          9,
          4,
          13,
          7,
          17,
          12,
          19,
          4,
          3,
          5,
          3,
          12,
          6,
          21,
          4,
          18,
          24,
          22,
          9,
          4,
          5,
          6,
          30,
          9,
          12,
          4,
          2,
          6,
          18,
          8,
          4,
          19,
          5,
          8,
          6,
          10,
          25,
          4,
          5,
          4,
          4,
          9,
          12,
          8,
          12,
          15,
          3,
          6,
          4,
          6,
          3,
          30,
          8,
          4,
          4,
          15,
          11,
          2,
          8,
          7,
          10,
          5,
          6,
          15,
          5,
          23,
          4,
          3,
          6,
          7,
          11,
          6,
          5,
          11,
          5,
          18,
          13,
          4,
          4,
          8,
          10,
          6,
          4,
          3,
          11,
          15,
          21,
          13,
          8,
          23,
          4,
          1,
          7,
          3,
          6,
          5,
          28,
          18,
          11,
          9,
          6,
          5,
          5,
          5,
          9,
          10,
          3,
          6,
          21,
          9,
          3,
          17,
          24,
          1,
          4,
          17,
          28,
          26,
          10,
          9,
          12,
          4
         ],
         "xaxis": "x",
         "y": [
          3,
          4,
          1,
          3,
          3,
          3,
          3,
          3,
          4,
          1,
          1,
          1,
          2,
          3,
          1,
          1,
          2,
          1,
          1,
          6,
          3,
          1,
          3,
          1,
          1,
          3,
          1,
          1,
          4,
          3,
          4,
          2,
          1,
          2,
          1,
          2,
          1,
          4,
          2,
          1,
          2,
          2,
          1,
          2,
          2,
          4,
          3,
          3,
          1,
          5,
          5,
          2,
          1,
          3,
          1,
          3,
          2,
          2,
          1,
          4,
          1,
          1,
          2,
          2,
          2,
          4,
          2,
          2,
          2,
          1,
          4,
          3,
          1,
          3,
          3,
          2,
          1,
          3,
          3,
          2,
          1,
          6,
          3,
          2,
          4,
          1,
          1,
          5,
          3,
          4,
          1,
          1,
          2,
          2,
          1,
          3,
          3,
          4,
          2,
          3,
          1,
          2,
          3,
          1,
          2,
          4,
          3,
          4,
          3,
          3,
          3,
          3,
          2,
          3,
          2,
          5,
          2,
          3,
          1,
          3,
          4,
          2,
          4,
          5,
          3,
          3,
          4,
          3,
          2,
          3,
          3,
          2,
          1,
          3,
          3,
          1,
          4,
          2,
          1,
          4,
          2,
          6,
          1,
          3,
          4,
          2,
          1,
          2,
          6,
          2,
          1,
          1,
          5,
          3,
          3,
          1,
          1,
          2,
          6,
          2,
          5,
          2,
          1,
          3,
          2,
          3,
          3,
          2,
          4,
          2,
          3,
          2,
          5,
          4,
          2,
          1,
          3,
          5,
          4,
          3,
          3,
          2,
          5,
          1,
          3,
          2,
          2,
          4,
          4,
          4,
          1,
          3,
          4,
          2,
          3,
          1,
          2,
          2,
          1,
          1,
          3,
          2,
          1,
          2,
          5,
          2,
          2,
          3,
          3,
          4,
          1,
          2,
          2,
          2,
          1,
          4,
          1,
          2,
          3,
          2,
          2,
          1,
          4,
          1,
          3,
          3,
          2,
          3,
          1,
          1,
          1,
          1,
          2,
          2,
          5,
          1,
          1,
          4,
          2,
          2,
          4,
          1,
          3,
          3,
          2,
          8,
          6,
          2,
          2,
          2,
          1,
          2,
          1,
          7,
          1,
          2,
          1,
          3,
          2,
          3,
          3,
          2,
          3,
          1,
          4,
          2,
          4,
          4,
          1,
          2,
          3,
          3,
          1,
          3,
          3,
          3,
          1,
          2,
          6,
          2,
          2,
          1,
          2,
          2,
          3,
          4,
          3,
          2,
          1,
          2,
          1,
          2,
          2,
          1,
          2,
          1,
          1,
          2,
          2,
          1,
          1,
          3,
          1,
          4,
          3,
          4,
          6,
          3,
          1,
          3,
          2,
          1,
          3,
          5,
          3,
          1,
          2,
          3,
          4,
          1,
          4,
          3,
          1,
          3,
          4,
          4,
          4,
          3,
          1,
          2,
          1
         ],
         "yaxis": "y"
        },
        {
         "hovertemplate": "status=closed<br>relationships=%{x}<br>funding_rounds=%{y}<extra></extra>",
         "legendgroup": "closed",
         "marker": {
          "color": "red",
          "opacity": 0.3,
          "symbol": "circle"
         },
         "mode": "markers",
         "name": "closed",
         "orientation": "v",
         "showlegend": true,
         "type": "scatter",
         "x": [
          2,
          3,
          8,
          8,
          13,
          1,
          4,
          3,
          8,
          0,
          7,
          0,
          6,
          2,
          0,
          7,
          1,
          3,
          0,
          12,
          0,
          1,
          12,
          1,
          1,
          12,
          5,
          4,
          5,
          3,
          0,
          2,
          2,
          4,
          3,
          3,
          33,
          6,
          4,
          16,
          11,
          4,
          3,
          6,
          2,
          6,
          2,
          3,
          8,
          6,
          2,
          2,
          1,
          10,
          5,
          2,
          5,
          3,
          1,
          3,
          4,
          9,
          7,
          9,
          4,
          5,
          1,
          3,
          5,
          3,
          0,
          3,
          0,
          6,
          0,
          5,
          3,
          10,
          4,
          7,
          4,
          1,
          2,
          2,
          3,
          7,
          10,
          13,
          0,
          1,
          1,
          11,
          4,
          7,
          2,
          2,
          0,
          4,
          7,
          2,
          2,
          2,
          8,
          0,
          8,
          4,
          1,
          16,
          22,
          6,
          0,
          3,
          2,
          2,
          1,
          3,
          6,
          6,
          2,
          0,
          2,
          5,
          4,
          4,
          3,
          2,
          3,
          6,
          13,
          12,
          3,
          2,
          3,
          27,
          1,
          3,
          4,
          6,
          2,
          9,
          5,
          2,
          0,
          0,
          2,
          5,
          5,
          7,
          4,
          1,
          1,
          1,
          6,
          3,
          4,
          5
         ],
         "xaxis": "x",
         "y": [
          2,
          1,
          5,
          5,
          2,
          1,
          2,
          2,
          2,
          3,
          2,
          2,
          1,
          2,
          2,
          1,
          1,
          3,
          1,
          3,
          1,
          1,
          1,
          1,
          1,
          7,
          1,
          2,
          2,
          3,
          1,
          2,
          2,
          2,
          2,
          1,
          3,
          1,
          1,
          1,
          2,
          2,
          1,
          4,
          1,
          2,
          1,
          1,
          3,
          2,
          2,
          1,
          4,
          2,
          1,
          1,
          1,
          3,
          1,
          1,
          1,
          3,
          1,
          1,
          3,
          2,
          2,
          4,
          2,
          1,
          1,
          5,
          4,
          3,
          1,
          2,
          1,
          2,
          1,
          2,
          2,
          1,
          1,
          1,
          1,
          1,
          1,
          2,
          1,
          2,
          1,
          2,
          5,
          1,
          2,
          2,
          1,
          1,
          5,
          6,
          1,
          1,
          2,
          1,
          1,
          1,
          1,
          4,
          5,
          2,
          3,
          4,
          1,
          2,
          1,
          1,
          2,
          8,
          3,
          1,
          3,
          1,
          1,
          3,
          1,
          1,
          2,
          1,
          1,
          2,
          7,
          1,
          1,
          3,
          3,
          1,
          2,
          1,
          2,
          2,
          2,
          2,
          1,
          1,
          1,
          1,
          2,
          1,
          1,
          1,
          1,
          1,
          2,
          1,
          6,
          1
         ],
         "yaxis": "y"
        }
       ],
       "layout": {
        "legend": {
         "title": {
          "text": "status"
         },
         "tracegroupgap": 0
        },
        "template": {
         "data": {
          "bar": [
           {
            "error_x": {
             "color": "#2a3f5f"
            },
            "error_y": {
             "color": "#2a3f5f"
            },
            "marker": {
             "line": {
              "color": "#E5ECF6",
              "width": 0.5
             }
            },
            "type": "bar"
           }
          ],
          "barpolar": [
           {
            "marker": {
             "line": {
              "color": "#E5ECF6",
              "width": 0.5
             }
            },
            "type": "barpolar"
           }
          ],
          "carpet": [
           {
            "aaxis": {
             "endlinecolor": "#2a3f5f",
             "gridcolor": "white",
             "linecolor": "white",
             "minorgridcolor": "white",
             "startlinecolor": "#2a3f5f"
            },
            "baxis": {
             "endlinecolor": "#2a3f5f",
             "gridcolor": "white",
             "linecolor": "white",
             "minorgridcolor": "white",
             "startlinecolor": "#2a3f5f"
            },
            "type": "carpet"
           }
          ],
          "choropleth": [
           {
            "colorbar": {
             "outlinewidth": 0,
             "ticks": ""
            },
            "type": "choropleth"
           }
          ],
          "contour": [
           {
            "colorbar": {
             "outlinewidth": 0,
             "ticks": ""
            },
            "colorscale": [
             [
              0,
              "#0d0887"
             ],
             [
              0.1111111111111111,
              "#46039f"
             ],
             [
              0.2222222222222222,
              "#7201a8"
             ],
             [
              0.3333333333333333,
              "#9c179e"
             ],
             [
              0.4444444444444444,
              "#bd3786"
             ],
             [
              0.5555555555555556,
              "#d8576b"
             ],
             [
              0.6666666666666666,
              "#ed7953"
             ],
             [
              0.7777777777777778,
              "#fb9f3a"
             ],
             [
              0.8888888888888888,
              "#fdca26"
             ],
             [
              1,
              "#f0f921"
             ]
            ],
            "type": "contour"
           }
          ],
          "contourcarpet": [
           {
            "colorbar": {
             "outlinewidth": 0,
             "ticks": ""
            },
            "type": "contourcarpet"
           }
          ],
          "heatmap": [
           {
            "colorbar": {
             "outlinewidth": 0,
             "ticks": ""
            },
            "colorscale": [
             [
              0,
              "#0d0887"
             ],
             [
              0.1111111111111111,
              "#46039f"
             ],
             [
              0.2222222222222222,
              "#7201a8"
             ],
             [
              0.3333333333333333,
              "#9c179e"
             ],
             [
              0.4444444444444444,
              "#bd3786"
             ],
             [
              0.5555555555555556,
              "#d8576b"
             ],
             [
              0.6666666666666666,
              "#ed7953"
             ],
             [
              0.7777777777777778,
              "#fb9f3a"
             ],
             [
              0.8888888888888888,
              "#fdca26"
             ],
             [
              1,
              "#f0f921"
             ]
            ],
            "type": "heatmap"
           }
          ],
          "heatmapgl": [
           {
            "colorbar": {
             "outlinewidth": 0,
             "ticks": ""
            },
            "colorscale": [
             [
              0,
              "#0d0887"
             ],
             [
              0.1111111111111111,
              "#46039f"
             ],
             [
              0.2222222222222222,
              "#7201a8"
             ],
             [
              0.3333333333333333,
              "#9c179e"
             ],
             [
              0.4444444444444444,
              "#bd3786"
             ],
             [
              0.5555555555555556,
              "#d8576b"
             ],
             [
              0.6666666666666666,
              "#ed7953"
             ],
             [
              0.7777777777777778,
              "#fb9f3a"
             ],
             [
              0.8888888888888888,
              "#fdca26"
             ],
             [
              1,
              "#f0f921"
             ]
            ],
            "type": "heatmapgl"
           }
          ],
          "histogram": [
           {
            "marker": {
             "colorbar": {
              "outlinewidth": 0,
              "ticks": ""
             }
            },
            "type": "histogram"
           }
          ],
          "histogram2d": [
           {
            "colorbar": {
             "outlinewidth": 0,
             "ticks": ""
            },
            "colorscale": [
             [
              0,
              "#0d0887"
             ],
             [
              0.1111111111111111,
              "#46039f"
             ],
             [
              0.2222222222222222,
              "#7201a8"
             ],
             [
              0.3333333333333333,
              "#9c179e"
             ],
             [
              0.4444444444444444,
              "#bd3786"
             ],
             [
              0.5555555555555556,
              "#d8576b"
             ],
             [
              0.6666666666666666,
              "#ed7953"
             ],
             [
              0.7777777777777778,
              "#fb9f3a"
             ],
             [
              0.8888888888888888,
              "#fdca26"
             ],
             [
              1,
              "#f0f921"
             ]
            ],
            "type": "histogram2d"
           }
          ],
          "histogram2dcontour": [
           {
            "colorbar": {
             "outlinewidth": 0,
             "ticks": ""
            },
            "colorscale": [
             [
              0,
              "#0d0887"
             ],
             [
              0.1111111111111111,
              "#46039f"
             ],
             [
              0.2222222222222222,
              "#7201a8"
             ],
             [
              0.3333333333333333,
              "#9c179e"
             ],
             [
              0.4444444444444444,
              "#bd3786"
             ],
             [
              0.5555555555555556,
              "#d8576b"
             ],
             [
              0.6666666666666666,
              "#ed7953"
             ],
             [
              0.7777777777777778,
              "#fb9f3a"
             ],
             [
              0.8888888888888888,
              "#fdca26"
             ],
             [
              1,
              "#f0f921"
             ]
            ],
            "type": "histogram2dcontour"
           }
          ],
          "mesh3d": [
           {
            "colorbar": {
             "outlinewidth": 0,
             "ticks": ""
            },
            "type": "mesh3d"
           }
          ],
          "parcoords": [
           {
            "line": {
             "colorbar": {
              "outlinewidth": 0,
              "ticks": ""
             }
            },
            "type": "parcoords"
           }
          ],
          "pie": [
           {
            "automargin": true,
            "type": "pie"
           }
          ],
          "scatter": [
           {
            "marker": {
             "colorbar": {
              "outlinewidth": 0,
              "ticks": ""
             }
            },
            "type": "scatter"
           }
          ],
          "scatter3d": [
           {
            "line": {
             "colorbar": {
              "outlinewidth": 0,
              "ticks": ""
             }
            },
            "marker": {
             "colorbar": {
              "outlinewidth": 0,
              "ticks": ""
             }
            },
            "type": "scatter3d"
           }
          ],
          "scattercarpet": [
           {
            "marker": {
             "colorbar": {
              "outlinewidth": 0,
              "ticks": ""
             }
            },
            "type": "scattercarpet"
           }
          ],
          "scattergeo": [
           {
            "marker": {
             "colorbar": {
              "outlinewidth": 0,
              "ticks": ""
             }
            },
            "type": "scattergeo"
           }
          ],
          "scattergl": [
           {
            "marker": {
             "colorbar": {
              "outlinewidth": 0,
              "ticks": ""
             }
            },
            "type": "scattergl"
           }
          ],
          "scattermapbox": [
           {
            "marker": {
             "colorbar": {
              "outlinewidth": 0,
              "ticks": ""
             }
            },
            "type": "scattermapbox"
           }
          ],
          "scatterpolar": [
           {
            "marker": {
             "colorbar": {
              "outlinewidth": 0,
              "ticks": ""
             }
            },
            "type": "scatterpolar"
           }
          ],
          "scatterpolargl": [
           {
            "marker": {
             "colorbar": {
              "outlinewidth": 0,
              "ticks": ""
             }
            },
            "type": "scatterpolargl"
           }
          ],
          "scatterternary": [
           {
            "marker": {
             "colorbar": {
              "outlinewidth": 0,
              "ticks": ""
             }
            },
            "type": "scatterternary"
           }
          ],
          "surface": [
           {
            "colorbar": {
             "outlinewidth": 0,
             "ticks": ""
            },
            "colorscale": [
             [
              0,
              "#0d0887"
             ],
             [
              0.1111111111111111,
              "#46039f"
             ],
             [
              0.2222222222222222,
              "#7201a8"
             ],
             [
              0.3333333333333333,
              "#9c179e"
             ],
             [
              0.4444444444444444,
              "#bd3786"
             ],
             [
              0.5555555555555556,
              "#d8576b"
             ],
             [
              0.6666666666666666,
              "#ed7953"
             ],
             [
              0.7777777777777778,
              "#fb9f3a"
             ],
             [
              0.8888888888888888,
              "#fdca26"
             ],
             [
              1,
              "#f0f921"
             ]
            ],
            "type": "surface"
           }
          ],
          "table": [
           {
            "cells": {
             "fill": {
              "color": "#EBF0F8"
             },
             "line": {
              "color": "white"
             }
            },
            "header": {
             "fill": {
              "color": "#C8D4E3"
             },
             "line": {
              "color": "white"
             }
            },
            "type": "table"
           }
          ]
         },
         "layout": {
          "annotationdefaults": {
           "arrowcolor": "#2a3f5f",
           "arrowhead": 0,
           "arrowwidth": 1
          },
          "coloraxis": {
           "colorbar": {
            "outlinewidth": 0,
            "ticks": ""
           }
          },
          "colorscale": {
           "diverging": [
            [
             0,
             "#8e0152"
            ],
            [
             0.1,
             "#c51b7d"
            ],
            [
             0.2,
             "#de77ae"
            ],
            [
             0.3,
             "#f1b6da"
            ],
            [
             0.4,
             "#fde0ef"
            ],
            [
             0.5,
             "#f7f7f7"
            ],
            [
             0.6,
             "#e6f5d0"
            ],
            [
             0.7,
             "#b8e186"
            ],
            [
             0.8,
             "#7fbc41"
            ],
            [
             0.9,
             "#4d9221"
            ],
            [
             1,
             "#276419"
            ]
           ],
           "sequential": [
            [
             0,
             "#0d0887"
            ],
            [
             0.1111111111111111,
             "#46039f"
            ],
            [
             0.2222222222222222,
             "#7201a8"
            ],
            [
             0.3333333333333333,
             "#9c179e"
            ],
            [
             0.4444444444444444,
             "#bd3786"
            ],
            [
             0.5555555555555556,
             "#d8576b"
            ],
            [
             0.6666666666666666,
             "#ed7953"
            ],
            [
             0.7777777777777778,
             "#fb9f3a"
            ],
            [
             0.8888888888888888,
             "#fdca26"
            ],
            [
             1,
             "#f0f921"
            ]
           ],
           "sequentialminus": [
            [
             0,
             "#0d0887"
            ],
            [
             0.1111111111111111,
             "#46039f"
            ],
            [
             0.2222222222222222,
             "#7201a8"
            ],
            [
             0.3333333333333333,
             "#9c179e"
            ],
            [
             0.4444444444444444,
             "#bd3786"
            ],
            [
             0.5555555555555556,
             "#d8576b"
            ],
            [
             0.6666666666666666,
             "#ed7953"
            ],
            [
             0.7777777777777778,
             "#fb9f3a"
            ],
            [
             0.8888888888888888,
             "#fdca26"
            ],
            [
             1,
             "#f0f921"
            ]
           ]
          },
          "colorway": [
           "#636efa",
           "#EF553B",
           "#00cc96",
           "#ab63fa",
           "#FFA15A",
           "#19d3f3",
           "#FF6692",
           "#B6E880",
           "#FF97FF",
           "#FECB52"
          ],
          "font": {
           "color": "#2a3f5f"
          },
          "geo": {
           "bgcolor": "white",
           "lakecolor": "white",
           "landcolor": "#E5ECF6",
           "showlakes": true,
           "showland": true,
           "subunitcolor": "white"
          },
          "hoverlabel": {
           "align": "left"
          },
          "hovermode": "closest",
          "mapbox": {
           "style": "light"
          },
          "paper_bgcolor": "white",
          "plot_bgcolor": "#E5ECF6",
          "polar": {
           "angularaxis": {
            "gridcolor": "white",
            "linecolor": "white",
            "ticks": ""
           },
           "bgcolor": "#E5ECF6",
           "radialaxis": {
            "gridcolor": "white",
            "linecolor": "white",
            "ticks": ""
           }
          },
          "scene": {
           "xaxis": {
            "backgroundcolor": "#E5ECF6",
            "gridcolor": "white",
            "gridwidth": 2,
            "linecolor": "white",
            "showbackground": true,
            "ticks": "",
            "zerolinecolor": "white"
           },
           "yaxis": {
            "backgroundcolor": "#E5ECF6",
            "gridcolor": "white",
            "gridwidth": 2,
            "linecolor": "white",
            "showbackground": true,
            "ticks": "",
            "zerolinecolor": "white"
           },
           "zaxis": {
            "backgroundcolor": "#E5ECF6",
            "gridcolor": "white",
            "gridwidth": 2,
            "linecolor": "white",
            "showbackground": true,
            "ticks": "",
            "zerolinecolor": "white"
           }
          },
          "shapedefaults": {
           "line": {
            "color": "#2a3f5f"
           }
          },
          "ternary": {
           "aaxis": {
            "gridcolor": "white",
            "linecolor": "white",
            "ticks": ""
           },
           "baxis": {
            "gridcolor": "white",
            "linecolor": "white",
            "ticks": ""
           },
           "bgcolor": "#E5ECF6",
           "caxis": {
            "gridcolor": "white",
            "linecolor": "white",
            "ticks": ""
           }
          },
          "title": {
           "x": 0.05
          },
          "xaxis": {
           "automargin": true,
           "gridcolor": "white",
           "linecolor": "white",
           "ticks": "",
           "title": {
            "standoff": 15
           },
           "zerolinecolor": "white",
           "zerolinewidth": 2
          },
          "yaxis": {
           "automargin": true,
           "gridcolor": "white",
           "linecolor": "white",
           "ticks": "",
           "title": {
            "standoff": 15
           },
           "zerolinecolor": "white",
           "zerolinewidth": 2
          }
         }
        },
        "title": {
         "text": "CA"
        },
        "xaxis": {
         "anchor": "y",
         "domain": [
          0,
          1
         ],
         "title": {
          "text": "relationships"
         }
        },
        "yaxis": {
         "anchor": "x",
         "domain": [
          0,
          1
         ],
         "title": {
          "text": "funding_rounds"
         }
        }
       }
      },
      "text/html": [
       "<div>                            <div id=\"ceffcb0a-b715-45b0-992b-08dbcc0aa6c3\" class=\"plotly-graph-div\" style=\"height:525px; width:100%;\"></div>            <script type=\"text/javascript\">                require([\"plotly\"], function(Plotly) {                    window.PLOTLYENV=window.PLOTLYENV || {};                                    if (document.getElementById(\"ceffcb0a-b715-45b0-992b-08dbcc0aa6c3\")) {                    Plotly.newPlot(                        \"ceffcb0a-b715-45b0-992b-08dbcc0aa6c3\",                        [{\"hovertemplate\": \"status=acquired<br>relationships=%{x}<br>funding_rounds=%{y}<extra></extra>\", \"legendgroup\": \"acquired\", \"marker\": {\"color\": \"green\", \"opacity\": 0.3, \"symbol\": \"circle\"}, \"mode\": \"markers\", \"name\": \"acquired\", \"orientation\": \"v\", \"showlegend\": true, \"type\": \"scatter\", \"x\": [3, 9, 5, 5, 6, 25, 14, 22, 7, 7, 2, 5, 3, 10, 25, 4, 6, 11, 5, 37, 13, 18, 10, 4, 7, 9, 15, 3, 17, 12, 11, 3, 7, 5, 7, 24, 7, 16, 21, 5, 11, 1, 10, 10, 6, 14, 2, 9, 9, 27, 13, 6, 4, 11, 6, 4, 5, 10, 2, 5, 6, 6, 5, 13, 5, 4, 15, 5, 7, 8, 15, 10, 5, 12, 10, 4, 6, 5, 14, 7, 1, 25, 4, 12, 7, 9, 15, 16, 8, 11, 3, 5, 8, 3, 9, 11, 5, 1, 4, 10, 12, 2, 27, 8, 2, 57, 12, 5, 20, 10, 16, 5, 9, 16, 5, 13, 10, 7, 8, 13, 10, 10, 2, 19, 18, 14, 18, 5, 3, 3, 7, 21, 6, 13, 14, 3, 17, 11, 3, 7, 21, 8, 7, 9, 6, 7, 5, 4, 6, 15, 3, 4, 29, 10, 5, 6, 5, 22, 10, 9, 3, 7, 6, 9, 16, 10, 5, 11, 27, 63, 4, 5, 7, 15, 30, 6, 2, 17, 42, 6, 4, 5, 10, 5, 28, 9, 0, 13, 21, 12, 19, 5, 2, 4, 5, 3, 37, 11, 19, 12, 5, 16, 6, 8, 38, 6, 14, 19, 4, 9, 4, 13, 7, 17, 12, 19, 4, 3, 5, 3, 12, 6, 21, 4, 18, 24, 22, 9, 4, 5, 6, 30, 9, 12, 4, 2, 6, 18, 8, 4, 19, 5, 8, 6, 10, 25, 4, 5, 4, 4, 9, 12, 8, 12, 15, 3, 6, 4, 6, 3, 30, 8, 4, 4, 15, 11, 2, 8, 7, 10, 5, 6, 15, 5, 23, 4, 3, 6, 7, 11, 6, 5, 11, 5, 18, 13, 4, 4, 8, 10, 6, 4, 3, 11, 15, 21, 13, 8, 23, 4, 1, 7, 3, 6, 5, 28, 18, 11, 9, 6, 5, 5, 5, 9, 10, 3, 6, 21, 9, 3, 17, 24, 1, 4, 17, 28, 26, 10, 9, 12, 4], \"xaxis\": \"x\", \"y\": [3, 4, 1, 3, 3, 3, 3, 3, 4, 1, 1, 1, 2, 3, 1, 1, 2, 1, 1, 6, 3, 1, 3, 1, 1, 3, 1, 1, 4, 3, 4, 2, 1, 2, 1, 2, 1, 4, 2, 1, 2, 2, 1, 2, 2, 4, 3, 3, 1, 5, 5, 2, 1, 3, 1, 3, 2, 2, 1, 4, 1, 1, 2, 2, 2, 4, 2, 2, 2, 1, 4, 3, 1, 3, 3, 2, 1, 3, 3, 2, 1, 6, 3, 2, 4, 1, 1, 5, 3, 4, 1, 1, 2, 2, 1, 3, 3, 4, 2, 3, 1, 2, 3, 1, 2, 4, 3, 4, 3, 3, 3, 3, 2, 3, 2, 5, 2, 3, 1, 3, 4, 2, 4, 5, 3, 3, 4, 3, 2, 3, 3, 2, 1, 3, 3, 1, 4, 2, 1, 4, 2, 6, 1, 3, 4, 2, 1, 2, 6, 2, 1, 1, 5, 3, 3, 1, 1, 2, 6, 2, 5, 2, 1, 3, 2, 3, 3, 2, 4, 2, 3, 2, 5, 4, 2, 1, 3, 5, 4, 3, 3, 2, 5, 1, 3, 2, 2, 4, 4, 4, 1, 3, 4, 2, 3, 1, 2, 2, 1, 1, 3, 2, 1, 2, 5, 2, 2, 3, 3, 4, 1, 2, 2, 2, 1, 4, 1, 2, 3, 2, 2, 1, 4, 1, 3, 3, 2, 3, 1, 1, 1, 1, 2, 2, 5, 1, 1, 4, 2, 2, 4, 1, 3, 3, 2, 8, 6, 2, 2, 2, 1, 2, 1, 7, 1, 2, 1, 3, 2, 3, 3, 2, 3, 1, 4, 2, 4, 4, 1, 2, 3, 3, 1, 3, 3, 3, 1, 2, 6, 2, 2, 1, 2, 2, 3, 4, 3, 2, 1, 2, 1, 2, 2, 1, 2, 1, 1, 2, 2, 1, 1, 3, 1, 4, 3, 4, 6, 3, 1, 3, 2, 1, 3, 5, 3, 1, 2, 3, 4, 1, 4, 3, 1, 3, 4, 4, 4, 3, 1, 2, 1], \"yaxis\": \"y\"}, {\"hovertemplate\": \"status=closed<br>relationships=%{x}<br>funding_rounds=%{y}<extra></extra>\", \"legendgroup\": \"closed\", \"marker\": {\"color\": \"red\", \"opacity\": 0.3, \"symbol\": \"circle\"}, \"mode\": \"markers\", \"name\": \"closed\", \"orientation\": \"v\", \"showlegend\": true, \"type\": \"scatter\", \"x\": [2, 3, 8, 8, 13, 1, 4, 3, 8, 0, 7, 0, 6, 2, 0, 7, 1, 3, 0, 12, 0, 1, 12, 1, 1, 12, 5, 4, 5, 3, 0, 2, 2, 4, 3, 3, 33, 6, 4, 16, 11, 4, 3, 6, 2, 6, 2, 3, 8, 6, 2, 2, 1, 10, 5, 2, 5, 3, 1, 3, 4, 9, 7, 9, 4, 5, 1, 3, 5, 3, 0, 3, 0, 6, 0, 5, 3, 10, 4, 7, 4, 1, 2, 2, 3, 7, 10, 13, 0, 1, 1, 11, 4, 7, 2, 2, 0, 4, 7, 2, 2, 2, 8, 0, 8, 4, 1, 16, 22, 6, 0, 3, 2, 2, 1, 3, 6, 6, 2, 0, 2, 5, 4, 4, 3, 2, 3, 6, 13, 12, 3, 2, 3, 27, 1, 3, 4, 6, 2, 9, 5, 2, 0, 0, 2, 5, 5, 7, 4, 1, 1, 1, 6, 3, 4, 5], \"xaxis\": \"x\", \"y\": [2, 1, 5, 5, 2, 1, 2, 2, 2, 3, 2, 2, 1, 2, 2, 1, 1, 3, 1, 3, 1, 1, 1, 1, 1, 7, 1, 2, 2, 3, 1, 2, 2, 2, 2, 1, 3, 1, 1, 1, 2, 2, 1, 4, 1, 2, 1, 1, 3, 2, 2, 1, 4, 2, 1, 1, 1, 3, 1, 1, 1, 3, 1, 1, 3, 2, 2, 4, 2, 1, 1, 5, 4, 3, 1, 2, 1, 2, 1, 2, 2, 1, 1, 1, 1, 1, 1, 2, 1, 2, 1, 2, 5, 1, 2, 2, 1, 1, 5, 6, 1, 1, 2, 1, 1, 1, 1, 4, 5, 2, 3, 4, 1, 2, 1, 1, 2, 8, 3, 1, 3, 1, 1, 3, 1, 1, 2, 1, 1, 2, 7, 1, 1, 3, 3, 1, 2, 1, 2, 2, 2, 2, 1, 1, 1, 1, 2, 1, 1, 1, 1, 1, 2, 1, 6, 1], \"yaxis\": \"y\"}],                        {\"legend\": {\"title\": {\"text\": \"status\"}, \"tracegroupgap\": 0}, \"template\": {\"data\": {\"bar\": [{\"error_x\": {\"color\": \"#2a3f5f\"}, \"error_y\": {\"color\": \"#2a3f5f\"}, \"marker\": {\"line\": {\"color\": \"#E5ECF6\", \"width\": 0.5}}, \"type\": \"bar\"}], \"barpolar\": [{\"marker\": {\"line\": {\"color\": \"#E5ECF6\", \"width\": 0.5}}, \"type\": \"barpolar\"}], \"carpet\": [{\"aaxis\": {\"endlinecolor\": \"#2a3f5f\", \"gridcolor\": \"white\", \"linecolor\": \"white\", \"minorgridcolor\": \"white\", \"startlinecolor\": \"#2a3f5f\"}, \"baxis\": {\"endlinecolor\": \"#2a3f5f\", \"gridcolor\": \"white\", \"linecolor\": \"white\", \"minorgridcolor\": \"white\", \"startlinecolor\": \"#2a3f5f\"}, \"type\": \"carpet\"}], \"choropleth\": [{\"colorbar\": {\"outlinewidth\": 0, \"ticks\": \"\"}, \"type\": \"choropleth\"}], \"contour\": [{\"colorbar\": {\"outlinewidth\": 0, \"ticks\": \"\"}, \"colorscale\": [[0.0, \"#0d0887\"], [0.1111111111111111, \"#46039f\"], [0.2222222222222222, \"#7201a8\"], [0.3333333333333333, \"#9c179e\"], [0.4444444444444444, \"#bd3786\"], [0.5555555555555556, \"#d8576b\"], [0.6666666666666666, \"#ed7953\"], [0.7777777777777778, \"#fb9f3a\"], [0.8888888888888888, \"#fdca26\"], [1.0, \"#f0f921\"]], \"type\": \"contour\"}], \"contourcarpet\": [{\"colorbar\": {\"outlinewidth\": 0, \"ticks\": \"\"}, \"type\": \"contourcarpet\"}], \"heatmap\": [{\"colorbar\": {\"outlinewidth\": 0, \"ticks\": \"\"}, \"colorscale\": [[0.0, \"#0d0887\"], [0.1111111111111111, \"#46039f\"], [0.2222222222222222, \"#7201a8\"], [0.3333333333333333, \"#9c179e\"], [0.4444444444444444, \"#bd3786\"], [0.5555555555555556, \"#d8576b\"], [0.6666666666666666, \"#ed7953\"], [0.7777777777777778, \"#fb9f3a\"], [0.8888888888888888, \"#fdca26\"], [1.0, \"#f0f921\"]], \"type\": \"heatmap\"}], \"heatmapgl\": [{\"colorbar\": {\"outlinewidth\": 0, \"ticks\": \"\"}, \"colorscale\": [[0.0, \"#0d0887\"], [0.1111111111111111, \"#46039f\"], [0.2222222222222222, \"#7201a8\"], [0.3333333333333333, \"#9c179e\"], [0.4444444444444444, \"#bd3786\"], [0.5555555555555556, \"#d8576b\"], [0.6666666666666666, \"#ed7953\"], [0.7777777777777778, \"#fb9f3a\"], [0.8888888888888888, \"#fdca26\"], [1.0, \"#f0f921\"]], \"type\": \"heatmapgl\"}], \"histogram\": [{\"marker\": {\"colorbar\": {\"outlinewidth\": 0, \"ticks\": \"\"}}, \"type\": \"histogram\"}], \"histogram2d\": [{\"colorbar\": {\"outlinewidth\": 0, \"ticks\": \"\"}, \"colorscale\": [[0.0, \"#0d0887\"], [0.1111111111111111, \"#46039f\"], [0.2222222222222222, \"#7201a8\"], [0.3333333333333333, \"#9c179e\"], [0.4444444444444444, \"#bd3786\"], [0.5555555555555556, \"#d8576b\"], [0.6666666666666666, \"#ed7953\"], [0.7777777777777778, \"#fb9f3a\"], [0.8888888888888888, \"#fdca26\"], [1.0, \"#f0f921\"]], \"type\": \"histogram2d\"}], \"histogram2dcontour\": [{\"colorbar\": {\"outlinewidth\": 0, \"ticks\": \"\"}, \"colorscale\": [[0.0, \"#0d0887\"], [0.1111111111111111, \"#46039f\"], [0.2222222222222222, \"#7201a8\"], [0.3333333333333333, \"#9c179e\"], [0.4444444444444444, \"#bd3786\"], [0.5555555555555556, \"#d8576b\"], [0.6666666666666666, \"#ed7953\"], [0.7777777777777778, \"#fb9f3a\"], [0.8888888888888888, \"#fdca26\"], [1.0, \"#f0f921\"]], \"type\": \"histogram2dcontour\"}], \"mesh3d\": [{\"colorbar\": {\"outlinewidth\": 0, \"ticks\": \"\"}, \"type\": \"mesh3d\"}], \"parcoords\": [{\"line\": {\"colorbar\": {\"outlinewidth\": 0, \"ticks\": \"\"}}, \"type\": \"parcoords\"}], \"pie\": [{\"automargin\": true, \"type\": \"pie\"}], \"scatter\": [{\"marker\": {\"colorbar\": {\"outlinewidth\": 0, \"ticks\": \"\"}}, \"type\": \"scatter\"}], \"scatter3d\": [{\"line\": {\"colorbar\": {\"outlinewidth\": 0, \"ticks\": \"\"}}, \"marker\": {\"colorbar\": {\"outlinewidth\": 0, \"ticks\": \"\"}}, \"type\": \"scatter3d\"}], \"scattercarpet\": [{\"marker\": {\"colorbar\": {\"outlinewidth\": 0, \"ticks\": \"\"}}, \"type\": \"scattercarpet\"}], \"scattergeo\": [{\"marker\": {\"colorbar\": {\"outlinewidth\": 0, \"ticks\": \"\"}}, \"type\": \"scattergeo\"}], \"scattergl\": [{\"marker\": {\"colorbar\": {\"outlinewidth\": 0, \"ticks\": \"\"}}, \"type\": \"scattergl\"}], \"scattermapbox\": [{\"marker\": {\"colorbar\": {\"outlinewidth\": 0, \"ticks\": \"\"}}, \"type\": \"scattermapbox\"}], \"scatterpolar\": [{\"marker\": {\"colorbar\": {\"outlinewidth\": 0, \"ticks\": \"\"}}, \"type\": \"scatterpolar\"}], \"scatterpolargl\": [{\"marker\": {\"colorbar\": {\"outlinewidth\": 0, \"ticks\": \"\"}}, \"type\": \"scatterpolargl\"}], \"scatterternary\": [{\"marker\": {\"colorbar\": {\"outlinewidth\": 0, \"ticks\": \"\"}}, \"type\": \"scatterternary\"}], \"surface\": [{\"colorbar\": {\"outlinewidth\": 0, \"ticks\": \"\"}, \"colorscale\": [[0.0, \"#0d0887\"], [0.1111111111111111, \"#46039f\"], [0.2222222222222222, \"#7201a8\"], [0.3333333333333333, \"#9c179e\"], [0.4444444444444444, \"#bd3786\"], [0.5555555555555556, \"#d8576b\"], [0.6666666666666666, \"#ed7953\"], [0.7777777777777778, \"#fb9f3a\"], [0.8888888888888888, \"#fdca26\"], [1.0, \"#f0f921\"]], \"type\": \"surface\"}], \"table\": [{\"cells\": {\"fill\": {\"color\": \"#EBF0F8\"}, \"line\": {\"color\": \"white\"}}, \"header\": {\"fill\": {\"color\": \"#C8D4E3\"}, \"line\": {\"color\": \"white\"}}, \"type\": \"table\"}]}, \"layout\": {\"annotationdefaults\": {\"arrowcolor\": \"#2a3f5f\", \"arrowhead\": 0, \"arrowwidth\": 1}, \"coloraxis\": {\"colorbar\": {\"outlinewidth\": 0, \"ticks\": \"\"}}, \"colorscale\": {\"diverging\": [[0, \"#8e0152\"], [0.1, \"#c51b7d\"], [0.2, \"#de77ae\"], [0.3, \"#f1b6da\"], [0.4, \"#fde0ef\"], [0.5, \"#f7f7f7\"], [0.6, \"#e6f5d0\"], [0.7, \"#b8e186\"], [0.8, \"#7fbc41\"], [0.9, \"#4d9221\"], [1, \"#276419\"]], \"sequential\": [[0.0, \"#0d0887\"], [0.1111111111111111, \"#46039f\"], [0.2222222222222222, \"#7201a8\"], [0.3333333333333333, \"#9c179e\"], [0.4444444444444444, \"#bd3786\"], [0.5555555555555556, \"#d8576b\"], [0.6666666666666666, \"#ed7953\"], [0.7777777777777778, \"#fb9f3a\"], [0.8888888888888888, \"#fdca26\"], [1.0, \"#f0f921\"]], \"sequentialminus\": [[0.0, \"#0d0887\"], [0.1111111111111111, \"#46039f\"], [0.2222222222222222, \"#7201a8\"], [0.3333333333333333, \"#9c179e\"], [0.4444444444444444, \"#bd3786\"], [0.5555555555555556, \"#d8576b\"], [0.6666666666666666, \"#ed7953\"], [0.7777777777777778, \"#fb9f3a\"], [0.8888888888888888, \"#fdca26\"], [1.0, \"#f0f921\"]]}, \"colorway\": [\"#636efa\", \"#EF553B\", \"#00cc96\", \"#ab63fa\", \"#FFA15A\", \"#19d3f3\", \"#FF6692\", \"#B6E880\", \"#FF97FF\", \"#FECB52\"], \"font\": {\"color\": \"#2a3f5f\"}, \"geo\": {\"bgcolor\": \"white\", \"lakecolor\": \"white\", \"landcolor\": \"#E5ECF6\", \"showlakes\": true, \"showland\": true, \"subunitcolor\": \"white\"}, \"hoverlabel\": {\"align\": \"left\"}, \"hovermode\": \"closest\", \"mapbox\": {\"style\": \"light\"}, \"paper_bgcolor\": \"white\", \"plot_bgcolor\": \"#E5ECF6\", \"polar\": {\"angularaxis\": {\"gridcolor\": \"white\", \"linecolor\": \"white\", \"ticks\": \"\"}, \"bgcolor\": \"#E5ECF6\", \"radialaxis\": {\"gridcolor\": \"white\", \"linecolor\": \"white\", \"ticks\": \"\"}}, \"scene\": {\"xaxis\": {\"backgroundcolor\": \"#E5ECF6\", \"gridcolor\": \"white\", \"gridwidth\": 2, \"linecolor\": \"white\", \"showbackground\": true, \"ticks\": \"\", \"zerolinecolor\": \"white\"}, \"yaxis\": {\"backgroundcolor\": \"#E5ECF6\", \"gridcolor\": \"white\", \"gridwidth\": 2, \"linecolor\": \"white\", \"showbackground\": true, \"ticks\": \"\", \"zerolinecolor\": \"white\"}, \"zaxis\": {\"backgroundcolor\": \"#E5ECF6\", \"gridcolor\": \"white\", \"gridwidth\": 2, \"linecolor\": \"white\", \"showbackground\": true, \"ticks\": \"\", \"zerolinecolor\": \"white\"}}, \"shapedefaults\": {\"line\": {\"color\": \"#2a3f5f\"}}, \"ternary\": {\"aaxis\": {\"gridcolor\": \"white\", \"linecolor\": \"white\", \"ticks\": \"\"}, \"baxis\": {\"gridcolor\": \"white\", \"linecolor\": \"white\", \"ticks\": \"\"}, \"bgcolor\": \"#E5ECF6\", \"caxis\": {\"gridcolor\": \"white\", \"linecolor\": \"white\", \"ticks\": \"\"}}, \"title\": {\"x\": 0.05}, \"xaxis\": {\"automargin\": true, \"gridcolor\": \"white\", \"linecolor\": \"white\", \"ticks\": \"\", \"title\": {\"standoff\": 15}, \"zerolinecolor\": \"white\", \"zerolinewidth\": 2}, \"yaxis\": {\"automargin\": true, \"gridcolor\": \"white\", \"linecolor\": \"white\", \"ticks\": \"\", \"title\": {\"standoff\": 15}, \"zerolinecolor\": \"white\", \"zerolinewidth\": 2}}}, \"title\": {\"text\": \"CA\"}, \"xaxis\": {\"anchor\": \"y\", \"domain\": [0.0, 1.0], \"title\": {\"text\": \"relationships\"}}, \"yaxis\": {\"anchor\": \"x\", \"domain\": [0.0, 1.0], \"title\": {\"text\": \"funding_rounds\"}}},                        {\"responsive\": true}                    ).then(function(){\n",
       "                            \n",
       "var gd = document.getElementById('ceffcb0a-b715-45b0-992b-08dbcc0aa6c3');\n",
       "var x = new MutationObserver(function (mutations, observer) {{\n",
       "        var display = window.getComputedStyle(gd).display;\n",
       "        if (!display || display === 'none') {{\n",
       "            console.log([gd, 'removed!']);\n",
       "            Plotly.purge(gd);\n",
       "            observer.disconnect();\n",
       "        }}\n",
       "}});\n",
       "\n",
       "// Listen for the removal of the full notebook cells\n",
       "var notebookContainer = gd.closest('#notebook-container');\n",
       "if (notebookContainer) {{\n",
       "    x.observe(notebookContainer, {childList: true});\n",
       "}}\n",
       "\n",
       "// Listen for the clearing of the current output cell\n",
       "var outputEl = gd.closest('.output');\n",
       "if (outputEl) {{\n",
       "    x.observe(outputEl, {childList: true});\n",
       "}}\n",
       "\n",
       "                        })                };                });            </script>        </div>"
      ]
     },
     "metadata": {},
     "output_type": "display_data"
    }
   ],
   "source": [
    "figure_dict_scatter['CA'].show()"
   ]
  },
  {
   "cell_type": "code",
   "execution_count": 90,
   "metadata": {},
   "outputs": [
    {
     "ename": "NameError",
     "evalue": "name 'html' is not defined",
     "output_type": "error",
     "traceback": [
      "\u001b[0;31m---------------------------------------------------------------------------\u001b[0m",
      "\u001b[0;31mNameError\u001b[0m                                 Traceback (most recent call last)",
      "\u001b[0;32m<ipython-input-90-570d0d2b99be>\u001b[0m in \u001b[0;36m<module>\u001b[0;34m\u001b[0m\n\u001b[0;32m----> 1\u001b[0;31m app.layout = html.Div([\n\u001b[0m\u001b[1;32m      2\u001b[0m     dcc.Tabs([\n\u001b[1;32m      3\u001b[0m         dcc.Tab(label='CA', children=[\n\u001b[1;32m      4\u001b[0m             dcc.Graph(\n\u001b[1;32m      5\u001b[0m                 \u001b[0mfigure\u001b[0m \u001b[0;34m=\u001b[0m \u001b[0mfigure_dict_scatter\u001b[0m\u001b[0;34m[\u001b[0m\u001b[0;34m'CA'\u001b[0m\u001b[0;34m]\u001b[0m\u001b[0;34m\u001b[0m\u001b[0;34m\u001b[0m\u001b[0m\n",
      "\u001b[0;31mNameError\u001b[0m: name 'html' is not defined"
     ]
    }
   ],
   "source": [
    "app.layout = html.Div([\n",
    "    dcc.Tabs([\n",
    "        dcc.Tab(label='CA', children=[\n",
    "            dcc.Graph(\n",
    "                figure = figure_dict_scatter['CA']\n",
    "            )\n",
    "        ]),\n",
    "        dcc.Tab(label='NY', children=[\n",
    "            dcc.Graph(\n",
    "                figure = figure_dict_scatter['NY']\n",
    "            )\n",
    "        ]),\n",
    "        dcc.Tab(label='MA', children=[\n",
    "            dcc.Graph(\n",
    "                figure = figure_dict_scatter['MA']\n",
    "            )\n",
    "        ]),\n",
    "        dcc.Tab(label='WA', children=[\n",
    "            dcc.Graph(\n",
    "                figure = figure_dict_scatter['WA']\n",
    "            )\n",
    "        ]),\n",
    "        dcc.Tab(label='TX', children=[\n",
    "            dcc.Graph(\n",
    "                figure = figure_dict_scatter['TX']\n",
    "            )\n",
    "        ]),\n",
    "    ])\n",
    "])"
   ]
  },
  {
   "cell_type": "code",
   "execution_count": null,
   "metadata": {},
   "outputs": [],
   "source": [
    "figure_dict_scatter['CA'].write_html(\"public/html/scatter_CA.html\")\n",
    "figure_dict_scatter['NY'].write_html(\"public/html/scatter_NY.html\")\n",
    "figure_dict_scatter['MA'].write_html(\"public/html/scatter_MA.html\")\n",
    "figure_dict_scatter['WA'].write_html(\"public/html/scatter_WA.html\")\n",
    "figure_dict_scatter['TX'].write_html(\"public/html/scatter_TX.html\")"
   ]
  },
  {
   "cell_type": "code",
   "execution_count": null,
   "metadata": {},
   "outputs": [],
   "source": []
  }
 ],
 "metadata": {
  "kernelspec": {
   "display_name": "Python 3",
   "language": "python",
   "name": "python3"
  },
  "language_info": {
   "codemirror_mode": {
    "name": "ipython",
    "version": 3
   },
   "file_extension": ".py",
   "mimetype": "text/x-python",
   "name": "python",
   "nbconvert_exporter": "python",
   "pygments_lexer": "ipython3",
   "version": "3.7.8"
  }
 },
 "nbformat": 4,
 "nbformat_minor": 4
}
